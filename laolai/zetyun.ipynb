{
 "cells": [
  {
   "cell_type": "code",
   "execution_count": 1,
   "outputs": [],
   "source": [
    "import syft as sy"
   ],
   "metadata": {
    "collapsed": false,
    "pycharm": {
     "name": "#%%\n"
    }
   }
  },
  {
   "cell_type": "code",
   "execution_count": 2,
   "outputs": [
    {
     "name": "stdout",
     "output_type": "stream",
     "text": [
      "WARNING: CHANGE YOUR USERNAME AND PASSWORD!!! \n",
      "\n",
      "Anyone can login as an admin to your node right now because your password is still the default PySyft username and password!!!\n",
      "\n",
      "Connecting to http://172.20.58.96:8081/... done! \t Logging into zetyun... done!\n"
     ]
    }
   ],
   "source": [
    "zetyun = sy.login(url=\"http://172.20.58.96:8081/\", email=\"info@openmined.org\", password=\"changethis\")\n"
   ],
   "metadata": {
    "collapsed": false,
    "pycharm": {
     "name": "#%%\n"
    }
   }
  },
  {
   "cell_type": "code",
   "execution_count": 3,
   "outputs": [
    {
     "name": "stdout",
     "output_type": "stream",
     "text": [
      "------------------------dataset/zetyun.csv------------------------\n",
      "                                 id name     value\n",
      "0  60dcd6597ac34d97aa2fc913b95009c4  李八搜    873.89\n",
      "1  537807d539d74d23a497cf7e80b75afa  王三于  15462.63\n",
      "2  ace97a31c0b34c6cafc8c6cbb76ff49c  吴九引     97.67\n",
      "3  b01d7b6de97b43eb82ee759da3397852  孙一捷     79.97\n",
      "4  518b5db5bfc14ecb8bf921c5b417b7c2  吴一捷    782.58\n",
      "------------------------id------------------------\n",
      "array([  450007691,  -266195706, -1643464018,   901885509,  -956291306])\n",
      "------------------------dataset/zetyun.csv------------------------\n",
      "                                 id name     value\n",
      "0  60dcd6597ac34d97aa2fc913b95009c4  李八搜    873.89\n",
      "1  537807d539d74d23a497cf7e80b75afa  王三于  15462.63\n",
      "2  ace97a31c0b34c6cafc8c6cbb76ff49c  吴九引     97.67\n",
      "3  b01d7b6de97b43eb82ee759da3397852  孙一捷     79.97\n",
      "4  518b5db5bfc14ecb8bf921c5b417b7c2  吴一捷    782.58\n",
      "------------------------value------------------------\n",
      "array([  87389, 1546263,    9767,    7997,   78258])\n"
     ]
    }
   ],
   "source": [
    "import load\n",
    "\n",
    "ids = load.load_column(\"dataset/zetyun.csv\", \"id\", \"str\")\n",
    "\n",
    "values = load.load_column(\"dataset/zetyun.csv\", \"value\", \"float\")\n",
    "\n"
   ],
   "metadata": {
    "collapsed": false,
    "pycharm": {
     "name": "#%%\n"
    }
   }
  },
  {
   "cell_type": "code",
   "execution_count": 4,
   "outputs": [
    {
     "name": "stdout",
     "output_type": "stream",
     "text": [
      "Loading dataset... uploading... SUCCESS!                                                                                                                                      \n",
      "\n",
      "Run <your client variable>.datasets to see your new dataset loaded into your machine!\n"
     ]
    }
   ],
   "source": [
    "zetyun.load_dataset(\n",
    "    assets={\n",
    "        \"zetyun_id\": sy.Tensor(ids).private(min_val=float(ids.min()), max_val=float(ids.max()), entities=\"老赖数据:zetyun:id\"),\n",
    "        \"zetyun_value\": sy.Tensor(values).private(min_val=float(values.min()), max_val=float(values.max()), entities=\"老赖数据:zetyun:values\")\n",
    "    },\n",
    "    name=\"zetyun\",\n",
    "    description=\"老赖数据:zetyun\"\n",
    ")\n"
   ],
   "metadata": {
    "collapsed": false,
    "pycharm": {
     "name": "#%%\n"
    }
   }
  },
  {
   "cell_type": "code",
   "execution_count": 5,
   "outputs": [
    {
     "data": {
      "text/plain": "<syft.core.node.common.client_manager.dataset_api.DatasetRequestAPI at 0x162564a24f0>",
      "text/html": "<style>\n                #myInput {\n                  background-position: 10px 12px; /* Position the search icon */\n                  background-repeat: no-repeat; /* Do not repeat the icon image */\n                  background-color: #bbb;\n                  width: 98%; /* Full-width */\n                  font-size: 14px; /* Increase font-size */\n                  padding: 12px 20px 12px 40px; /* Add some padding */\n                  border: 1px solid #ddd; /* Add a grey border */\n                  margin-bottom: 12px; /* Add some space below the input */\n                }\n\n                #myTable {\n                  border-collapse: collapse; /* Collapse borders */\n                  width: 100%; /* Full-width */\n                  border: 1px solid #ddd; /* Add a grey border */\n                  font-size: 14px; /* Increase font-size */\n                }\n\n                #myTable th, #myTable td {\n                  text-align: left; /* Left-align text */\n                  padding: 10px; /* Add padding */\n                }\n\n                #myTable tr {\n                  /* Add a bottom border to all table rows */\n                  border-bottom: 1px solid #ddd;\n                }\n\n                #myTable tr.header, #myTable tr:hover {\n                  /* Add a grey background color to the table header and on hover */\n                  background-color: #777;\n                }\n                </style>\n\n                <table id=\"myTable\" style=\"width:1000px\">\n                  <tr class=\"header\">\n                    <th style=\"width:30px\">Idx</th>\n                    <th style=\"width:20%;\">Name</th>\n                    <th style=\"width:35%;\">Description</th>\n                    <th style=\"width:20%;\">Assets</th>\n                    <th style=\"width:300px;\">Id</th>\n                  </tr>\n                \n\n          <tr>\n            <td>[0]</td>\n            <td>zetyun</td>\n            <td>老赖数据:zetyun</td>\n            <td>[\"zetyun_id\"] -> Tensor<br /><br />[\"zetyun_value\"] -> Tensor<br /><br /></td>\n            <td>9159abc8-03de-4566-9083-43ecc263e135</td>\n          </tr>\n        </table>\n\n        <script>\n        function myFunction() {\n          // Declare variables\n          var input, filter, table, tr, td, i, txtValue;\n          input = document.getElementById(\"myInput\");\n          filter = input.value.toUpperCase();\n          table = document.getElementById(\"myTable\");\n          tr = table.getElementsByTagName(\"tr\");\n\n          // Loop through all table rows, and hide those who don't match the search query\n          for (i = 0; i < tr.length; i++) {\n            name_td = tr[i].getElementsByTagName(\"td\")[1];\n            desc_td = tr[i].getElementsByTagName(\"td\")[2];\n            asset_td = tr[i].getElementsByTagName(\"td\")[3];\n            id_td = tr[i].getElementsByTagName(\"td\")[4];\n            if (name_td || desc_td || asset_td || id_td) {\n              name_txtValue = name_td.textContent || name_td.innerText;\n              desc_txtValue = desc_td.textContent || name_td.innerText;\n              asset_txtValue = asset_td.textContent || name_td.innerText;\n              id_txtValue = id_td.textContent || name_td.innerText;\n              name_bool = name_txtValue.toUpperCase().indexOf(filter) > -1;\n              desc_bool = desc_txtValue.toUpperCase().indexOf(filter) > -1;\n              asset_bool = asset_txtValue.toUpperCase().indexOf(filter) > -1;\n              id_bool = id_txtValue.toUpperCase().indexOf(filter) > -1;\n              if (name_bool || desc_bool || asset_bool || id_bool) {\n                tr[i].style.display = \"\";\n              } else {\n                tr[i].style.display = \"none\";\n              }\n            }\n          }\n        }\n        </script>"
     },
     "execution_count": 5,
     "metadata": {},
     "output_type": "execute_result"
    }
   ],
   "source": [
    "zetyun.datasets"
   ],
   "metadata": {
    "collapsed": false,
    "pycharm": {
     "name": "#%%\n"
    }
   }
  },
  {
   "cell_type": "code",
   "execution_count": 6,
   "outputs": [
    {
     "name": "stdout",
     "output_type": "stream",
     "text": [
      "array([-1436547945, -1207615334,   630991818, ..., -1021050135,\n",
      "       -1071826404,  -817110010])\n",
      "\n",
      " (The data printed above is synthetic - it's an imitation of the real data.)\n"
     ]
    }
   ],
   "source": [
    "id_ptr = zetyun.datasets[0][\"zetyun_id\"]\n",
    "print(id_ptr)"
   ],
   "metadata": {
    "collapsed": false,
    "pycharm": {
     "name": "#%%\n"
    }
   }
  },
  {
   "cell_type": "code",
   "execution_count": 7,
   "outputs": [],
   "source": [
    "id_ptr.request(reason=\"需要获取准确数据, 准备求交\")"
   ],
   "metadata": {
    "collapsed": false,
    "pycharm": {
     "name": "#%%\n"
    }
   }
  },
  {
   "cell_type": "code",
   "execution_count": 8,
   "outputs": [
    {
     "data": {
      "text/plain": "[<RequestMessage: 12a1d50018524040ab1be1af8e462198>]",
      "text/html": "<div>\n<style scoped>\n    .dataframe tbody tr th:only-of-type {\n        vertical-align: middle;\n    }\n\n    .dataframe tbody tr th {\n        vertical-align: top;\n    }\n\n    .dataframe thead th {\n        text-align: right;\n    }\n</style>\n<table border=\"1\" class=\"dataframe\">\n  <thead>\n    <tr style=\"text-align: right;\">\n      <th></th>\n      <th>Name</th>\n      <th>Email</th>\n      <th>Role</th>\n      <th>Request Type</th>\n      <th>Status</th>\n      <th>Reason</th>\n      <th>Request ID</th>\n      <th>Requested Object's ID</th>\n      <th>Requested Object's tags</th>\n      <th>Requested Budget</th>\n      <th>Current Budget</th>\n    </tr>\n  </thead>\n  <tbody>\n    <tr>\n      <th>0</th>\n      <td>Jane Doe</td>\n      <td>info@openmined.org</td>\n      <td>Owner</td>\n      <td>DATA</td>\n      <td>pending</td>\n      <td>需要获取准确数据, 准备求交</td>\n      <td>&lt;UID: 12a1d50018524040ab1be1af8e462198&gt;</td>\n      <td>&lt;UID: 8a5cb4e678ee43a7af88286ccd36b11d&gt;</td>\n      <td>[#zetyun_id]</td>\n      <td>None</td>\n      <td>None</td>\n    </tr>\n  </tbody>\n</table>\n</div>"
     },
     "execution_count": 8,
     "metadata": {},
     "output_type": "execute_result"
    }
   ],
   "source": [
    "zetyun.requests"
   ],
   "metadata": {
    "collapsed": false,
    "pycharm": {
     "name": "#%%\n"
    }
   }
  },
  {
   "cell_type": "code",
   "execution_count": 9,
   "outputs": [],
   "source": [
    "[x for x in zetyun.requests.requests if x.request_description == \"需要获取准确数据, 准备求交\"][0].grant()"
   ],
   "metadata": {
    "collapsed": false,
    "pycharm": {
     "name": "#%%\n"
    }
   }
  },
  {
   "cell_type": "code",
   "execution_count": 10,
   "outputs": [],
   "source": [
    "# import uuid\n",
    "# zetyun.requests[str(uuid.UUID(\"452f60d0f4f54dfb9ec909354f508dad\"))]"
   ],
   "metadata": {
    "collapsed": false,
    "pycharm": {
     "name": "#%%\n"
    }
   }
  },
  {
   "cell_type": "code",
   "execution_count": 11,
   "outputs": [],
   "source": [
    "# zetyun.requests[str(uuid.UUID(\"452f60d0f4f54dfb9ec909354f508dad\"))].grant()"
   ],
   "metadata": {
    "collapsed": false,
    "pycharm": {
     "name": "#%%\n"
    }
   }
  },
  {
   "cell_type": "code",
   "execution_count": 10,
   "outputs": [
    {
     "data": {
      "text/plain": "syft.core.tensor.tensor.Tensor"
     },
     "execution_count": 10,
     "metadata": {},
     "output_type": "execute_result"
    }
   ],
   "source": [
    "zetyun_id_tensor = id_ptr.get(delete_obj=False)\n",
    "type(zetyun_id_tensor)"
   ],
   "metadata": {
    "collapsed": false,
    "pycharm": {
     "name": "#%%\n"
    }
   }
  },
  {
   "cell_type": "code",
   "execution_count": 11,
   "outputs": [],
   "source": [
    "zetyun_id_length = len(zetyun_id_tensor)"
   ],
   "metadata": {
    "collapsed": false,
    "pycharm": {
     "name": "#%%\n"
    }
   }
  },
  {
   "cell_type": "code",
   "execution_count": null,
   "outputs": [],
   "source": [],
   "metadata": {
    "collapsed": false,
    "pycharm": {
     "name": "#%%\n"
    }
   }
  },
  {
   "cell_type": "code",
   "execution_count": null,
   "outputs": [],
   "source": [],
   "metadata": {
    "collapsed": false,
    "pycharm": {
     "name": "#%%\n"
    }
   }
  },
  {
   "cell_type": "code",
   "execution_count": 12,
   "outputs": [
    {
     "name": "stdout",
     "output_type": "stream",
     "text": [
      "Connecting to http://172.20.58.117:8081/... done! \t Logging into scc... done!\n"
     ]
    }
   ],
   "source": [
    "scc = sy.login(url=\"http://172.20.58.117:8081/\", email=\"sample@zetyun.com\", password=\"zetyun\")"
   ],
   "metadata": {
    "collapsed": false,
    "pycharm": {
     "name": "#%%\n"
    }
   }
  },
  {
   "cell_type": "code",
   "execution_count": 13,
   "outputs": [
    {
     "data": {
      "text/plain": "[array([ 581159927, 1713586481, 1079024742, ...,  465466004, 2001088055,\n        447775331])\n\n (The data printed above is synthetic - it's an imitation of the real data.)]",
      "text/html": "<div>\n<style scoped>\n    .dataframe tbody tr th:only-of-type {\n        vertical-align: middle;\n    }\n\n    .dataframe tbody tr th {\n        vertical-align: top;\n    }\n\n    .dataframe thead th {\n        text-align: right;\n    }\n</style>\n<table border=\"1\" class=\"dataframe\">\n  <thead>\n    <tr style=\"text-align: right;\">\n      <th></th>\n      <th>ID</th>\n      <th>Tags</th>\n      <th>Description</th>\n      <th>object_type</th>\n    </tr>\n  </thead>\n  <tbody>\n    <tr>\n      <th>0</th>\n      <td>&lt;UID: 75323e0cb6ed46479ab45e0198ba5b2e&gt;</td>\n      <td>[#scc_id]</td>\n      <td></td>\n      <td>&lt;class 'syft.core.tensor.tensor.Tensor'&gt;</td>\n    </tr>\n  </tbody>\n</table>\n</div>"
     },
     "execution_count": 13,
     "metadata": {},
     "output_type": "execute_result"
    }
   ],
   "source": [
    "scc.store"
   ],
   "metadata": {
    "collapsed": false,
    "pycharm": {
     "name": "#%%\n"
    }
   }
  },
  {
   "cell_type": "code",
   "execution_count": 14,
   "outputs": [],
   "source": [
    "import openmined_psi as psi\n",
    "client = psi.client.CreateWithNewKey(True)"
   ],
   "metadata": {
    "collapsed": false,
    "pycharm": {
     "name": "#%%\n"
    }
   }
  },
  {
   "cell_type": "code",
   "execution_count": 15,
   "outputs": [
    {
     "data": {
      "text/plain": "<IntPointer -> scc:c5665845d6bd4ae2b526d9bc5db95353>"
     },
     "execution_count": 15,
     "metadata": {},
     "output_type": "execute_result"
    }
   ],
   "source": [
    "\n",
    "sy.lib.python.Int(zetyun_id_length).send(scc, pointable=True, tags=[\"client_items_len\"], description=\"求交初始化: 请服务器设置好, fpr=1e-6, reveal_intersection=True\")"
   ],
   "metadata": {
    "collapsed": false,
    "pycharm": {
     "name": "#%%\n"
    }
   }
  },
  {
   "cell_type": "code",
   "execution_count": 16,
   "outputs": [
    {
     "data": {
      "text/plain": "                                        ID                Tags  \\\n0  <UID: 75323e0cb6ed46479ab45e0198ba5b2e>           [#scc_id]   \n1  <UID: c5665845d6bd4ae2b526d9bc5db95353>  [client_items_len]   \n\n                                         Description  \\\n0                                                      \n1  求交初始化: 请服务器设置好, fpr=1e-6, reveal_intersection=...   \n\n                                object_type  \n0  <class 'syft.core.tensor.tensor.Tensor'>  \n1             <class 'syft.lib.python.Int'>  ",
      "text/html": "<div>\n<style scoped>\n    .dataframe tbody tr th:only-of-type {\n        vertical-align: middle;\n    }\n\n    .dataframe tbody tr th {\n        vertical-align: top;\n    }\n\n    .dataframe thead th {\n        text-align: right;\n    }\n</style>\n<table border=\"1\" class=\"dataframe\">\n  <thead>\n    <tr style=\"text-align: right;\">\n      <th></th>\n      <th>ID</th>\n      <th>Tags</th>\n      <th>Description</th>\n      <th>object_type</th>\n    </tr>\n  </thead>\n  <tbody>\n    <tr>\n      <th>0</th>\n      <td>&lt;UID: 75323e0cb6ed46479ab45e0198ba5b2e&gt;</td>\n      <td>[#scc_id]</td>\n      <td></td>\n      <td>&lt;class 'syft.core.tensor.tensor.Tensor'&gt;</td>\n    </tr>\n    <tr>\n      <th>1</th>\n      <td>&lt;UID: c5665845d6bd4ae2b526d9bc5db95353&gt;</td>\n      <td>[client_items_len]</td>\n      <td>求交初始化: 请服务器设置好, fpr=1e-6, reveal_intersection=...</td>\n      <td>&lt;class 'syft.lib.python.Int'&gt;</td>\n    </tr>\n  </tbody>\n</table>\n</div>"
     },
     "execution_count": 16,
     "metadata": {},
     "output_type": "execute_result"
    }
   ],
   "source": [
    "scc.store.pandas"
   ],
   "metadata": {
    "collapsed": false,
    "pycharm": {
     "name": "#%%\n"
    }
   }
  },
  {
   "cell_type": "code",
   "execution_count": null,
   "outputs": [],
   "source": [],
   "metadata": {
    "collapsed": false,
    "pycharm": {
     "name": "#%%\n"
    }
   }
  },
  {
   "cell_type": "code",
   "execution_count": null,
   "outputs": [],
   "source": [],
   "metadata": {
    "collapsed": false,
    "pycharm": {
     "name": "#%%\n"
    }
   }
  },
  {
   "cell_type": "code",
   "execution_count": 19,
   "outputs": [],
   "source": [
    "# ls = [x for x in scc.store.store if 'setup' in x.tags]\n",
    "# ls[0]\n",
    "# scc.store[ls[0].id_at_location]"
   ],
   "metadata": {
    "collapsed": false,
    "pycharm": {
     "name": "#%%\n"
    }
   }
  },
  {
   "cell_type": "code",
   "execution_count": 17,
   "outputs": [
    {
     "data": {
      "text/plain": "                                        ID                Tags  \\\n0  <UID: 75323e0cb6ed46479ab45e0198ba5b2e>           [#scc_id]   \n1  <UID: c5665845d6bd4ae2b526d9bc5db95353>  [client_items_len]   \n2  <UID: bf6dbcd68d8942a1b4626d67bdfaa452>             [setup]   \n\n                                         Description  \\\n0                                                      \n1  求交初始化: 请服务器设置好, fpr=1e-6, reveal_intersection=...   \n2                                            服务器设置好了   \n\n                                object_type  \n0  <class 'syft.core.tensor.tensor.Tensor'>  \n1             <class 'syft.lib.python.Int'>  \n2       <class 'syft.lib.python.list.List'>  ",
      "text/html": "<div>\n<style scoped>\n    .dataframe tbody tr th:only-of-type {\n        vertical-align: middle;\n    }\n\n    .dataframe tbody tr th {\n        vertical-align: top;\n    }\n\n    .dataframe thead th {\n        text-align: right;\n    }\n</style>\n<table border=\"1\" class=\"dataframe\">\n  <thead>\n    <tr style=\"text-align: right;\">\n      <th></th>\n      <th>ID</th>\n      <th>Tags</th>\n      <th>Description</th>\n      <th>object_type</th>\n    </tr>\n  </thead>\n  <tbody>\n    <tr>\n      <th>0</th>\n      <td>&lt;UID: 75323e0cb6ed46479ab45e0198ba5b2e&gt;</td>\n      <td>[#scc_id]</td>\n      <td></td>\n      <td>&lt;class 'syft.core.tensor.tensor.Tensor'&gt;</td>\n    </tr>\n    <tr>\n      <th>1</th>\n      <td>&lt;UID: c5665845d6bd4ae2b526d9bc5db95353&gt;</td>\n      <td>[client_items_len]</td>\n      <td>求交初始化: 请服务器设置好, fpr=1e-6, reveal_intersection=...</td>\n      <td>&lt;class 'syft.lib.python.Int'&gt;</td>\n    </tr>\n    <tr>\n      <th>2</th>\n      <td>&lt;UID: bf6dbcd68d8942a1b4626d67bdfaa452&gt;</td>\n      <td>[setup]</td>\n      <td>服务器设置好了</td>\n      <td>&lt;class 'syft.lib.python.list.List'&gt;</td>\n    </tr>\n  </tbody>\n</table>\n</div>"
     },
     "execution_count": 17,
     "metadata": {},
     "output_type": "execute_result"
    }
   ],
   "source": [
    "scc.store.pandas"
   ],
   "metadata": {
    "collapsed": false,
    "pycharm": {
     "name": "#%%\n"
    }
   }
  },
  {
   "cell_type": "code",
   "execution_count": 18,
   "outputs": [],
   "source": [
    "scc.store[2].request(reason=\"客户端需要初始设置\")"
   ],
   "metadata": {
    "collapsed": false,
    "pycharm": {
     "name": "#%%\n"
    }
   }
  },
  {
   "cell_type": "code",
   "execution_count": null,
   "outputs": [],
   "source": [],
   "metadata": {
    "collapsed": false,
    "pycharm": {
     "name": "#%%\n"
    }
   }
  },
  {
   "cell_type": "code",
   "execution_count": null,
   "outputs": [],
   "source": [],
   "metadata": {
    "collapsed": false,
    "pycharm": {
     "name": "#%%\n"
    }
   }
  },
  {
   "cell_type": "code",
   "execution_count": 19,
   "outputs": [
    {
     "data": {
      "text/plain": "10957"
     },
     "execution_count": 19,
     "metadata": {},
     "output_type": "execute_result"
    }
   ],
   "source": [
    "\n",
    "setupMsg = scc.store[2].get(delete_obj=False)\n",
    "setup = psi.ServerSetup()\n",
    "setup.ParseFromString(setupMsg[0])\n"
   ],
   "metadata": {
    "collapsed": false,
    "pycharm": {
     "name": "#%%\n"
    }
   }
  },
  {
   "cell_type": "code",
   "execution_count": 20,
   "outputs": [],
   "source": [
    "client_items = [str(i) for i in zetyun_id_tensor.child.child.tolist()]"
   ],
   "metadata": {
    "collapsed": false,
    "pycharm": {
     "name": "#%%\n"
    }
   }
  },
  {
   "cell_type": "code",
   "execution_count": 21,
   "outputs": [
    {
     "data": {
      "text/plain": "private_set_intersection.proto.psi_pb2.Request"
     },
     "execution_count": 21,
     "metadata": {},
     "output_type": "execute_result"
    }
   ],
   "source": [
    "request = client.CreateRequest(client_items)\n",
    "type(request)"
   ],
   "metadata": {
    "collapsed": false,
    "pycharm": {
     "name": "#%%\n"
    }
   }
  },
  {
   "cell_type": "code",
   "execution_count": 22,
   "outputs": [],
   "source": [
    "msg = request.SerializeToString()\n",
    "wrapper = sy.lib.python.List()\n",
    "wrapper.append(msg)\n",
    "request_ptr = wrapper.send(scc, tags=[\"request\"], pointable=True, description=\"求交request\")"
   ],
   "metadata": {
    "collapsed": false,
    "pycharm": {
     "name": "#%%\n"
    }
   }
  },
  {
   "cell_type": "code",
   "execution_count": null,
   "outputs": [],
   "source": [],
   "metadata": {
    "collapsed": false,
    "pycharm": {
     "name": "#%%\n"
    }
   }
  },
  {
   "cell_type": "code",
   "execution_count": null,
   "outputs": [],
   "source": [],
   "metadata": {
    "collapsed": false,
    "pycharm": {
     "name": "#%%\n"
    }
   }
  },
  {
   "cell_type": "code",
   "execution_count": 25,
   "outputs": [
    {
     "data": {
      "text/plain": "[array([-430835515, 1708981127, 1964940059, ..., 2126755318,  480402211,\n        959896486])\n\n (The data printed above is synthetic - it's an imitation of the real data.), <IntPointer -> scc:c5665845d6bd4ae2b526d9bc5db95353>, <ListPointer -> scc:bf6dbcd68d8942a1b4626d67bdfaa452>, <ListPointer -> scc:af32fc69463b4962892a9fd773480fd1>, <ListPointer -> scc:25063f8efbd64d0e863f3329b0c38e39>]",
      "text/html": "<div>\n<style scoped>\n    .dataframe tbody tr th:only-of-type {\n        vertical-align: middle;\n    }\n\n    .dataframe tbody tr th {\n        vertical-align: top;\n    }\n\n    .dataframe thead th {\n        text-align: right;\n    }\n</style>\n<table border=\"1\" class=\"dataframe\">\n  <thead>\n    <tr style=\"text-align: right;\">\n      <th></th>\n      <th>ID</th>\n      <th>Tags</th>\n      <th>Description</th>\n      <th>object_type</th>\n    </tr>\n  </thead>\n  <tbody>\n    <tr>\n      <th>0</th>\n      <td>&lt;UID: 75323e0cb6ed46479ab45e0198ba5b2e&gt;</td>\n      <td>[#scc_id]</td>\n      <td></td>\n      <td>&lt;class 'syft.core.tensor.tensor.Tensor'&gt;</td>\n    </tr>\n    <tr>\n      <th>1</th>\n      <td>&lt;UID: c5665845d6bd4ae2b526d9bc5db95353&gt;</td>\n      <td>[client_items_len]</td>\n      <td>求交初始化: 请服务器设置好, fpr=1e-6, reveal_intersection=...</td>\n      <td>&lt;class 'syft.lib.python.Int'&gt;</td>\n    </tr>\n    <tr>\n      <th>2</th>\n      <td>&lt;UID: bf6dbcd68d8942a1b4626d67bdfaa452&gt;</td>\n      <td>[setup]</td>\n      <td>服务器设置好了</td>\n      <td>&lt;class 'syft.lib.python.list.List'&gt;</td>\n    </tr>\n    <tr>\n      <th>3</th>\n      <td>&lt;UID: af32fc69463b4962892a9fd773480fd1&gt;</td>\n      <td>[request]</td>\n      <td>求交request</td>\n      <td>&lt;class 'syft.lib.python.list.List'&gt;</td>\n    </tr>\n    <tr>\n      <th>4</th>\n      <td>&lt;UID: 25063f8efbd64d0e863f3329b0c38e39&gt;</td>\n      <td>[response]</td>\n      <td>求交结果计算好了</td>\n      <td>&lt;class 'syft.lib.python.list.List'&gt;</td>\n    </tr>\n  </tbody>\n</table>\n</div>"
     },
     "execution_count": 25,
     "metadata": {},
     "output_type": "execute_result"
    }
   ],
   "source": [
    "scc.store"
   ],
   "metadata": {
    "collapsed": false,
    "pycharm": {
     "name": "#%%\n"
    }
   }
  },
  {
   "cell_type": "code",
   "execution_count": 26,
   "outputs": [],
   "source": [
    "scc.store[4].request(reason=\"客户端要看结果\")"
   ],
   "metadata": {
    "collapsed": false,
    "pycharm": {
     "name": "#%%\n"
    }
   }
  },
  {
   "cell_type": "code",
   "execution_count": null,
   "outputs": [],
   "source": [],
   "metadata": {
    "collapsed": false,
    "pycharm": {
     "name": "#%%\n"
    }
   }
  },
  {
   "cell_type": "code",
   "execution_count": null,
   "outputs": [],
   "source": [],
   "metadata": {
    "collapsed": false,
    "pycharm": {
     "name": "#%%\n"
    }
   }
  },
  {
   "cell_type": "code",
   "execution_count": 27,
   "outputs": [],
   "source": [
    "repMsg = scc.store[4].get(delete_obj=False)"
   ],
   "metadata": {
    "collapsed": false,
    "pycharm": {
     "name": "#%%\n"
    }
   }
  },
  {
   "cell_type": "code",
   "execution_count": 28,
   "outputs": [
    {
     "data": {
      "text/plain": "350000"
     },
     "execution_count": 28,
     "metadata": {},
     "output_type": "execute_result"
    }
   ],
   "source": [
    "response = psi.Response()\n",
    "response.ParseFromString(repMsg[0])"
   ],
   "metadata": {
    "collapsed": false,
    "pycharm": {
     "name": "#%%\n"
    }
   }
  },
  {
   "cell_type": "code",
   "execution_count": 29,
   "outputs": [],
   "source": [
    "intersection = client.GetIntersection(setup, response)"
   ],
   "metadata": {
    "collapsed": false,
    "pycharm": {
     "name": "#%%\n"
    }
   }
  },
  {
   "cell_type": "code",
   "execution_count": 30,
   "outputs": [
    {
     "data": {
      "text/plain": "2520"
     },
     "execution_count": 30,
     "metadata": {},
     "output_type": "execute_result"
    }
   ],
   "source": [
    "len(intersection)\n",
    "\n",
    "# intersection"
   ],
   "metadata": {
    "collapsed": false,
    "pycharm": {
     "name": "#%%\n"
    }
   }
  },
  {
   "cell_type": "code",
   "execution_count": 31,
   "outputs": [],
   "source": [
    "#验证结果是否正确\n",
    "intersected_items = [item for index, item in enumerate(client_items) if index in set(intersection)]\n"
   ],
   "metadata": {
    "collapsed": false,
    "pycharm": {
     "name": "#%%\n"
    }
   }
  },
  {
   "cell_type": "code",
   "execution_count": 32,
   "outputs": [
    {
     "data": {
      "text/plain": "['450007691', '-266195706', '-1643464018', '901885509', '-956291306']"
     },
     "execution_count": 32,
     "metadata": {},
     "output_type": "execute_result"
    }
   ],
   "source": [
    "client_items[0:5]"
   ],
   "metadata": {
    "collapsed": false,
    "pycharm": {
     "name": "#%%\n"
    }
   }
  },
  {
   "cell_type": "code",
   "execution_count": 33,
   "outputs": [
    {
     "data": {
      "text/plain": "['450007691', '901885509', '1372689838', '466742559', '-736305036']"
     },
     "execution_count": 33,
     "metadata": {},
     "output_type": "execute_result"
    }
   ],
   "source": [
    "intersected_items[0:5]"
   ],
   "metadata": {
    "collapsed": false,
    "pycharm": {
     "name": "#%%\n"
    }
   }
  },
  {
   "cell_type": "code",
   "execution_count": 35,
   "outputs": [],
   "source": [
    "# sy.lib.python.Int(15).send(scc, pointable=True, tags=[\"test_int\"], description=\"我用来测试int\")\n",
    "# scc.store"
   ],
   "metadata": {
    "collapsed": false,
    "pycharm": {
     "name": "#%%\n"
    }
   }
  },
  {
   "cell_type": "code",
   "execution_count": 36,
   "outputs": [],
   "source": [
    "# scc.requests"
   ],
   "metadata": {
    "collapsed": false,
    "pycharm": {
     "name": "#%%\n"
    }
   }
  },
  {
   "cell_type": "code",
   "execution_count": null,
   "outputs": [],
   "source": [],
   "metadata": {
    "collapsed": false,
    "pycharm": {
     "name": "#%%\n"
    }
   }
  },
  {
   "cell_type": "code",
   "execution_count": null,
   "outputs": [],
   "source": [],
   "metadata": {
    "collapsed": false,
    "pycharm": {
     "name": "#%%\n"
    }
   }
  },
  {
   "cell_type": "code",
   "execution_count": 34,
   "outputs": [
    {
     "name": "stdout",
     "output_type": "stream",
     "text": [
      "Connecting to http://172.20.58.251:8081/... done! \t Logging into esf... done!\n"
     ]
    }
   ],
   "source": [
    "esf = sy.login(url=\"http://172.20.58.251:8081/\", email=\"sample2@zetyun.com\", password=\"zetyun\")"
   ],
   "metadata": {
    "collapsed": false,
    "pycharm": {
     "name": "#%%\n"
    }
   }
  },
  {
   "cell_type": "code",
   "execution_count": 35,
   "outputs": [],
   "source": [
    "import inter\n",
    "\n",
    "psi_client = inter.PsiClient(\"2nd\", esf, True, intersected_items)"
   ],
   "metadata": {
    "collapsed": false,
    "pycharm": {
     "name": "#%%\n"
    }
   }
  },
  {
   "cell_type": "code",
   "execution_count": 39,
   "outputs": [],
   "source": [
    "# import time\n",
    "# ls = []\n",
    "# while True:\n",
    "#     ls = [x for x in esf.store.store if 'setup' in x.tags]\n",
    "#     if len(ls) == 0:\n",
    "#         time.sleep(3)\n",
    "#     else:\n",
    "#         break\n",
    "#\n",
    "# ls"
   ],
   "metadata": {
    "collapsed": false,
    "pycharm": {
     "name": "#%%\n"
    }
   }
  },
  {
   "cell_type": "code",
   "execution_count": 36,
   "outputs": [
    {
     "name": "stdout",
     "output_type": "stream",
     "text": [
      "1. 首先客户端提供 client_items_len\n",
      "2. 等待服务端 setup\n",
      "3. 获取 setup 的值\n"
     ]
    },
    {
     "name": "stderr",
     "output_type": "stream",
     "text": [
      "[2021-12-31T16:50:08.443011+0800][CRITICAL][logger]][12424] You do not have permission to .get() Object with ID: <UID: 1a6bda5c308b428087eeaa38ccd9d275> on node esf Please submit a request.\n"
     ]
    }
   ],
   "source": [
    "psi_client.setup()\n"
   ],
   "metadata": {
    "collapsed": false,
    "pycharm": {
     "name": "#%%\n"
    }
   }
  },
  {
   "cell_type": "code",
   "execution_count": 37,
   "outputs": [
    {
     "data": {
      "text/plain": "gcs {\n  div: 31\n  hash_range: 12600000000000\n}\nbits: \"e\\216\\323\\234\\013U\\241p\\262\\315mL Nd\\332~\\006\\200\\313\\305\\277w<dy\\275m]\\247\\034\\331F\\323@\\021J\\026\\006n\\033\\340p\\001`\\350\\215:bEw\\225\\335b6\\360\\247\\273b\\240\\225\\324+\\2322%\\317\\243}%\\212\\005\\031\\317\\320\\344\\223\\rxo\\230\\243\\300\\242,}\\346\\317\\032U\\301\\321;0\\372\\017\\302S\\224\\026\\352\\206\\352\\230\\335{P\\337\\243={\\002{\\266?I\\213\\371\\032bl\\270\\200\\332\\260\\376\\337\\351c6\\014V-\\344\\375&\\225\\200Y\\360e\\352\\256\\000\\310\\t\\272\\361\\300:p\\312\\024\\277\\213O\\203s3\\375\\355\\0062\\000\\230\\023\\013\\376,d\\002.\\252\\300~@\\311S\\005\\360T\\\"\\232\\224w\\003eL\\316\\020\\315\\317\\372V\\236t\\343G\\323=\\372\\006\\037\\227\\326C\\320\\\\h\\023W\\t\\361\\313\\333CF\\0032\\267%|`\\223\\2201\\210t\\347\\260\\230\\030/3\\001\\3328+\\251\\016\\233\\316 \\313\\026Y\\r\\346 \\021q\\022U\\317\\037\\231\\343\\323}\\354\\220\\367\\000\\256\\261\\227\\345\\014t99B\\361\\252n\\017\\356m\\022\\370z\\243\\366\\325\\224\\325\\245\\255O4\\363c\\271>$g\\264\\263\\224\\007r\\316\\000\\350\\022\\232\\247\\331{\\372\\020\\362\\371\\030A*\\366\\311Br\\222\\030\\017\\310l@\\303P&\\362m\\224\\351\\026\\024P\\223\\363\\022\\314\\246\\262<\\003\\334\\035$2&\\034\\220m\\rqR\\353\\261Q%\\203n\\217<\\177\\344\\323d\\021\\340X\\031(ag\\377\\263Q\\216\\256\\256\\177\\337,\\231\\253\\3364\\2330\\014\\314\\375\\342\\301W\\211\\327d\\005B\\343\\333w\\2145?\\227L\\326\\247t\\032\\037v6\\230\\242z\\nd@\\212\\027\\253i^\\362FS\\201\\223\\327\\023\\353U]\\030\\206\\351\\244\\351\\233\\333\\345\\341\\316c\\267!c\\\"\\273ap\\216O\\226\\303\\332~\\233\\334`\\2221:\\001\\2148\\2352`\\026\\312\\234\\307\\207R_\\361-\\2262\\033!px\\325\\237\\212A\\177\\251\\317\\3507\\007\\362oI\\023\\277\\030\\315\\236\\006\\233\\235X\\277\\\\\\017Y\\353E\\232\\210\\017\\027Lr%\\375<w\\017Dy!\\374\\261\\253V^9\\237%wY\\353g\\273\\002\\244\\253MV\\013\\202e;w\\311eeR,ck\\273\\023<]\\020T\\220~\\377{\\'2\\016\\344\\214r,\\264\\212\\305\\245z\\004\\334q\\300}5\\257S\\304\\357\\017\\217\\246K\\003\\206\\t\\254\\201\\336B(\\372\\311\\270 \\341\\365\\025\\235\\310\\355\\242X\\361\\360\\227\\220\\274\\025U\\032\\251}\\3419[\\024\\202\\367K^.\\017\\373\\361*\\030\\023\\035\\3131\\220\\2702\\301i\\006[z}\\233(\\036$\\364\\317\\334\\354\\263^\\014\\232\\341AMK\\025z\\220\\321\\304$\\312\\030E\\263\\006\\253\\344\\317\\350\\327)\\245\\266\\231&\\201\\332\\344p\\345\\305H#\\367\\337\\177:h=.d0\\204\\000\\207\\211\\340\\314\\030pln\\274\\360B\\230\\312!/\\006\\326U\\340\\376:\\017fv\\304\\234eO\\3022W\\363<\\277\\341wV\\3023\\t\\257FfdA\\304\\300\\200\\270Y&6\\205\\037a\\337\\\\\\0214\\331=a\\237\\340\\251\\241i\\255\\177\\302\\022\\225\\370\\370\\304aybZ\\034\\204\\025M\\032{\\306\\263*,4\\033\\301Q\\326\\254\\271\\021\\251n\\233y\\327\\257ux\\300\\324\\311,\\025\\344@\\266\\333\\253Z:\\203-\\260H\\312\\357\\016\\255\\021\\003ChpX9\\006e\\205\\312r&\\r\\233\\315\\326l\\372\\366v\\2116q\\310?w\\246\\343_\\0139\\241@\\257\\\\\\027\\331\\335\\310\\307\\217\\332\\310\\241\\211u\\262\\002\\331$\\274\\270\\025\\345\\0161o\\374o\\024)\\276^01\\350\\005)\\224\\026p\\250\\322\\274\\277rAfv\\243\\350\\\"\\273\\345u\\352Av\\301\\013;u^\\031\\027Z\\226[\\324pN\\353\\260\\317_w99B\\352-\\002\\037#\\026\\377\\211S\\212\\330\\227\\\"\\216l<|\\031x\\265\\240\\344qul\\351U\\241#\\245k@\\0228\\354\\016\\030\\223\\317\\252\\371v\\213G\\007\\254\\357=\\246\\226s]\\253\\2255\\217\\007\\n\\373}\\250\\014\\n\\016\\265 \\362\\342\\005\\001\\203\\367$P0\\037\\273\\244`}\\002\\342{\\347\\346\\016\\007\\317\\255\\320W\\241\\301\\362#\\257,I\\360GaK\\370\\207J\\005\\360\\337\\026p8\\275\\274\\244/\\255\\271\\204\\177Dd\\027Rk\\221S(\\353\\230\\203\\202\\355\\351\\n\\256/\\031R\\\"\\310\\227\\200\\2250\\026\\200\\220\\022\\321?\\213V\\216V\\370\\016\\230\\227\\374\\263?\\246\\264\\365t\\032\\003\\241\\366G\\t\\007\\376\\232d\\023xGN\\253\\220l(\\310S\\r\\3625Km\\353V\\325\\213\\352\\260\\230EREq\\356\\306\\275\\201~\\230\\256\\223\\357\\326tldz\\304\\275\\305\\276\\025U\\320Y\\355\\370r9\\305\\207\\230l\\205\\276\\325\\214\\271X\\250\\\"\\344\\302\\350\\213[ K\\270\\216\\001vg\\352H\\265)t\\331\\037T\\301\\001\\025\\375sWd\\354\\202\\276\\316\\263\\341\\207\\356\\364\\263MW\\201\\245\\246\\270)\\222\\371\\005\\026\\200*GL\\315T:\\311\\237\\300\\256\\210vR\\226\\240*}\\324\\240\\357\\375L5\\t4\\377\\244\\245,\\317\\n\\325}\\\"\\354)\\201(\\276\\257\\320\\200\\034\\331\\253\\000\\352w\\345\\346\\031{r\\236@\\263y\\262\\354\\316!\\342Y\\021]\\2360\\211u\\223L$\\336\\177\\342\\037*>\\301\\224\\244+\\356\\366\\203a\\224\\306g\\323P\\265\\220Ut\\260s\\217\\032?\\333\\037i\\352\\213\\024j\\313\\203aG\\025\\235\\274\\004i\\351\\261\\313\\225>|\\236\\334\\216{C\\323R\\001\\316\\221\\270`\\006\\013\\200jQ\\033\\037\\365\\352qD]\\020X\\203\\010\\275j\\036:\\230\\021:\\236\\274\\246j \\002_\\322\\330M\\331\\005\\356\\t\\261Y\\305\\212\\233o~\\370\\216K\\'>\\263\\260\\260+\\225)\\001\\365Ma\\273\\205\\216\\245\\367\\200\\226cn\\210zN\\354\\214>\\354\\237I[] \\316\\2605\\216fY\\257\\3545\\010\\334\\017\\237\\375\\355\\362\\203\\006\\224\\243\\271\\343\\245\\301\\300\\276\\325\\201\\017\\342W\\373\\'\\344u\\222\\256Ut\\236S\\341\\014\\340\\261s\\313$\\356\\276,\\316,\\371\\010\\004\\234\\2462\\370V\\031\\335$\\337\\246\\\\\\354w\\336\\215\\246\\221i\\243c\\247x\\200Q\\324}\\351\\224`\\310\\2476\\321\\312-\\006\\342\\236\\251\\350d\\233Vi\\0251\\276w\\335\\264a\\362+lK!\\314o\\t\\216\\253\\277\\0041( \\'p\\214~\\005\\025\\245\\201\\026Ha\\270\\362\\254\\277&\\241\\304\\250\\253kf\\331\\310C\\010I_\\347_\\362C\\201\\231\\261A\\213\\352\\247\\n\\237\\347C;}\\320xY\\242\\242\\001\\202\\364z\\236\\266\\333\\235\\024\\244\\276\\374\\035\\226\\345\\351\\371\\277\\215\\327[\\324L\\252\\373\\016\\355\\277,9\\237O|I\\013\\236\\344\\021\\332/Q\\364\\201\\256\\332u\\337\\323%dpb\\004d\\243ay\\323msc\\001\\\"\\272\\341\\204\\226\\332\\215f\\032\\026\\217\\203\\004yc\\013\\376(ZS\\331X\\364lE\\244\\226ahc\\275C\\236\\244\\316\\236\\007F\\034\\205\\201T,\\315\\226\\264/\\264\\234\\257\\002\\346z\\027o}\\350\\374\\320PX\\\\_\\020\\023\\004iu\\235\\220\\330\\2279\\236\\032\\257\\016j:fqN\\300\\317\\224\\203\\370\\020\\004\\245\\340y\\344\\241\\272Vr\\373\\330%\\273\\240\\030\\277\\206x\\023\\303Q\\230\\035\\211\\024Cs\\312\\3400W40\\022\\311:4$\\365\\336\\236Z\\007\\024p\\213\\315\\3525\\014L\\304\\231Ols\\016\\347\\034\\377\\251\\224\\r\\317%Ie\\350\\315C\\265+\\201\\262\\214|\\323\\245x>\\307A\\354\\322\\3001\\325\\226t\\'\\353\\277\\236\\251\\256(J\\246^xkp\\277\\354\\003\\231\\216\\035\\327e\\213\\343\\256u\\220;\\235\\031\\032%\\222\\200\\007?\\212OD\\331S\\252\\023\\\\1\\236\\373U\\343KB\\253fq\\333\\215\\r+z}\\316v\\343\\005\\263\\302\\334\\275\\366\\001\\245\\211J\\n\\366\\264\\\"\\305\\263\\005\\204t1\\200VG\\337\\267\\314\\003\\337\\022?\\000,\\244\\023C\\207J]\\317\\343!f\\266)\\202*\\267\\257\\331\\200Wx5\\243)i~\\205\\312GM\\300\\244\\002\\033\\212\\370\\2549\\254\\255\\na\\315\\334\\272\\233q\\227v\\371;\\230\\006\\350\\202pA\\375\\301\\343\\032\\201\\360\\217\\264\\3417\\034\\377\\360y\\030(1\\344\\363\\211\\017Z\\226\\244Af\\273\\n\\'\\270\\306k%,{\\205\\t\\263\\236T\\007P\\260\\305\\300\\251+q\\r\\353\\2364\\005_O\\304M\\324%S\\226\\214j\\234.\\343\\335\\303\\026\\233\\253G\\320\\351K*k\\273\\322\\210\\240:\\274\\260T\\031\\200G\\317m\\351\\216\\277\\031[9\\274D\\314a\\003\\246Fo\\253\\254=\\332\\201\\177([\\274\\006\\3105\\360\\357\\336\\355|Z69\\203\\300\\277\\345\\276\\314f\\002\\032\\345\\200\\017\\212\\360\\361il6\\322\\006\\350d\\325.\\311~\\341;2m\\0161`f!\\313\\371\\310\\331[\\210\\325\\311\\314\\331\\251\\306\\035\\200PP*\\362\\3245\\360\\357{\\374\\030\\246\\234\\t\\357\\252\\301\\246f:&\\210\\260j~JTh\\305W\\0068\\010_\\261q\\301\\204\\245\\275\\014\\337F\\340\\244\\223\\210[\\016\\323>\\3119_\\3378\\213\\003\\356z2R.\\034wz\\362kn\\271\\320\\307b\\005\\375\\257>,K@\\t\\370%\\314\\204\\303\\216\\0271\\026\\2557K@\\305\\224\\\\\\240E\\001\\362\\237\\300{]*\\344\\262\\365V\\334\\261\\241\\\\M\\245\\331P\\3176\\333%g\\022\\3718\\002x\\332\\302\\227=\\333\\022\\225@\\373\\340\\316\\372\\366uR\\r\\253\\333\\013\\247\\361\\303\\216t\\241\\245\\201\\357\\356V\\321=n\\030\\031 +P\\354\\310D\\323\\253\\3418\\321\\352\\265i/\\005E\\361\\314\\311\\023\\367\\305H\\237\\357\\300\\017\\233\\t*\\352\\260\\310$\\025\\001>\\344\\000\\226\\025\\374\\276Ls\\374\\206;\\\\\\007\\216K\\232\\030\\247NWR\\262T\\004\\300\\366v\\245,\\203\\n\\262\\201>A\\211\\021\\321#d\\t(9\\364ol\\235I&\\233\\251?\\371YZX \\\"\\221\\316\\216\\301\\262\\372\\254\\217`\\253\\025\\275\\336i\\372\\277\\305\\356-4rd\\305\\215\\366\\266q\\304l\\222\\337\\334\\302G\\003?\\215=t\\201\\274G2+\\307\\016\\306\\021/\\315\\020\\351\\257\\r\\372\\007\\222\\324\\0064\\235\\325(\\246\\310\\325\\213yN\\270.U\\373\\371(\\\"m?\\204.ts\\013\\332\\352\\023\\353B\\346\\2708\\365j\\3226\\246U\\354\\237\\214/\\222\\313My\\254\\361\\370P\\224\\200\\307\\327=-\\361\\203\\352e\\214\\2422ZJ\\322:\\001q\\364\\350r\\023}\\347,\\255\\204\\325\\\\\\266\\315<\\006\\003\\341T\\003\\222.\\374o\\347\\226\\325\\254\\t{U\\346\\344$R\\027<\\020\\330\\301\\306\\022\\245Q\\263\\331TN?[2\\335\\267\\003\\322\\272\\n\\241\\341\\000j\\275UTu6\\\\<\\262M\\211\\177\\220^\\\\\\340\\371\\\\B.\\276W\\307\\n\\271\\346\\316\\003\\006\\304\\371\\373Z`\\261\\320_\\341h\\203:\\3151\\303%\\326\\265\\355\\241u\\237$GE$\\273\\323K-@v\\217\\323\\'\\301\\362D<0\\354Pd\\213\\224|\\236O\\215\\210\\365_\\205\\373r\\255M\\265S\\234\\375\\243\\366\\330\\343c\\230\\007\\333\\245\\310\\255\\227I\\013\\324\\277\\233\\334\\025\\0317\\032\\242y\\260\\026c\\312I\\226\\002\\223\\030\\356K\\271d\\213\\311#S\\254\\275\\333\\254\\260Hj\\274;\\251#\\013\\365z\\314u$\\204\\235\\030\\231\\276\\024J\\267\\270\\020\\003\\230\\\\\\270,\\350@{]\\350^\\204A.m:\\037u\\336\\275fp\\355>i\\034\\367y\\315\\272\\204@\\307\\270.E\\206\\320#0\\033I\\233#+\\247~pGXs\\260\\350\\360\\233\\020\\234\\365\\372Q}m\\034\\333Df\\200\\362\\221\\350\\361&(\\377[\\006\\321Nf\\030>P\\010!.\\254\\321\\364\\352\\020\\260\\302\\345\\321\\331\\027\\353h\\275\\224,\\254\\337~\\342\\276Trk$#\\256>\\200\\263\\243\\212\\032\\025\\236\\2569X\\304\\232\\244\\237\\341 \\333\\200\\243T\\213\\245\\2308g\\241\\3170\\032\\275 \\030\\225\\362\\271\\202t\\224\\212\\366\\235\\365\\020W\\316\\016\\325]\\034|U\\215JyQ\\010\\341.\\310ugCDZo\\225;\\302c\\312\\257\\221\\232f-RH.\\344\\223\\360\\252\\324*4\\264C\\354Z\\352\\203\\225\\036$\\277\\344\\272\\002\\253\\243\\036\\033\\274\\3311\\\"N\\033\\266\\030}\\236\\347=\\270\\325\\270\\\"\\360\\221\\021\\332\\236>\\202\\0000\\207I\\257\\255Y\\302\\3440#sQ[\\014\\356\\204\\315\\327#\\205\\025\\355\\322\\312\\205\\203\\201\\027\\334\\272I\\276\\251^4+z&\\307ZE\\265\\226\\250i\\255\\261\\332;(yDC\\013\\237:B\\251iZ\\332[\\304\\251\\360\\375\\007\\'\\356\\367\\2761\\261\\373a\\252\\2301^\\204\\375\\274\\251Dl\\322\\360\\232\\321\\321\\222y\\365\\272\\n&|\\241\\3554\\370(E\\205+it\\361[\\240\\202\\360\\\"\\307\\024~\\253\\026\\342O\\307L\\340\\202`>*\\253\\316\\302k\\325/\\342\\303\\013;\\036\\247\\006\\365\\262\\356\\377\\177\\360C7~f\\317\\371\\374r\\024\\363)j&Q\\320\\202\\244}x\\027e\\241\\243\\256\\004\\372\\312S\\243\\363\\007\\260\\324\\372xl\\307:J\\034\\277\\242\\200\\n\\243\\203\\256\\260\\301\\215s\\037,\\245\\263na\\335\\257\\362.<U\\261\\026W\\346C\\n\\333\\243\\340ooTL\\315\\320\\262$\\337\\363\\271\\tn\\013\\223#^\\207-\\204EE\\336\\351\\034\\204\\203\\267\\234\\004\\010zX\\250\\331A\\210\\203:\\014\\206V\\343\\251\\027\\317\\333bqY\\241a\\013P$\\227_\\357[\\351\\027!tDq\\301\\004X\\373\\234\\334A\\223g\\241zTk\\224:\\t}\\272 r\\246\\367\\350i\\316@\\013-\\2633\\234v\\247\\270\\237a\\224\\035SW\\320\\214\\274\\302m\\241r\\324\\277\\'\\214&\\302o\\265,h\\212\\374W\\327\\221\\222\\220\\231\\333\\232g \\324\\216\\313\\\"_\\202\\372k\\3478h\\342\\374L\\314\\336\\253\\20323\\212\\254\\345[\\032\\324.\\031L4\\346H)!;\\201\\226\\3568\\206)\\010\\201\\220\\303\\240\\026\\263zz\\217\\026\\334V=gG\\355M\\026kLCg\\3235]\\216\\017\\371\\314\\245\\232\\222\\273\\021F\\000\\364 \\263@,\\3459Hd]\\325\\237\\277\\315\\0241\\311\\210\\300\\367\\032\\265\\310%\\235\\006rM7\\305\\207\\006\\262\\274\\323o=\\375\\024\\224\\214\\\\=H\\016\\262\\235\\316*\\230j\\361\\367\\2707\\221\\025\\317_\\305\\333U%\\023\\222\\252z\\306hO\\375M\\312\\211r\\274+\\200caJ\\014\\n\\250\\247OH`\\036\\361\\031\\030\\301\\341n\\373\\360\\331\\270o\\222\\010\\242\\177v\\341\\313\\213\\213\\017\\345\\355\\'\\026\\376\\325\\366y\\352\\316\\231}[\\204:-\\202`\\226\\263\\236@\\336c\\265\\213\\rD\\354\\253\\004ad\\032L7k]\\337\\370\\250\\2779\\336\\254\\031\\'\\300\\355\\\\\\007\\207\\333\\013\\312\\020?\\372\\360>F\\233\\2245\\024[Q\\003\\310\\332\\306\\250\\350\\304\\357\\323\\211\\307\\001K\\261\\t>\\347\\307\\263<\\301\\357N\\'T\\251\\010\\351\\225{\\326\\330t\\233\\250\\214W\\330T\\211*dx\\270\\350\\251\\355\\177\\236.\\262\\230\\030(\\345h\\347\\211Q\\202\\273\\323\\210\\214\\361P#\\354\\221\\224\\335\\014\\223uiC\\242\\236\\254\\234%h\\264T\\2710\\027%\\210\\365\\207d`\\262E\\345\\240\\241\\2361\\2313\\245pWL\\231\\322\\026\\356s\\332\\030\\312B\\344\\210K{\\027\\367\\200$F|\\220\\001>\\334(\\031\\177\\351\\226\\034Af\\331\\202$X\\207t\\373k\\007\\274y\\002\\347\\255?\\322#\\373\\314\\222\\244\\316\\\"\\305\\023\\331@7\\272\\252L\\250\\t\\240\\241\\252\\300:Q\\262\\257\\350\\017\\232B\\241<^LFv\\031\\251\\324\\345\\013pZz\\274\\252\\343\\203\\325r\\316\\237>\\201\\260};\\324\\\"\\204\\260\\335\\035\\236H\\330\\210\\257\\013\\014\\373h\\024\\353\\345&\\216\\255\\326\\206\\221Sn<\\211z?\\353\\325|\\324\\247i\\227\\250I\\272\\320\\271H2\\322Ee\\301\\n\\2112\\210[@\\362s\\001\\347\\266\\353\\320\\326\\314\\223\\340*\\213\\242\\220D1X\\006\\221\\323\\314J\\277\\336\\325\\364\\254\\334\\226\\334\\273\\005\\370o[%3w\\302\\377\\n\\237\\303DSrA\\342\\013L\\236\\217<\\\\\\237\\nEm\\274+Q\\337\\255q\\333l\\037\\212\\214\\304\\037hd\\213\\362v\\240v9\\265\\355\\327\\016K\\321p\\020\\302\\375\\205\\2606\\311\\237-\\375<\\325\\303c\\347\\3766\\354QVQ\\373m\\2116f]\\321C\\206\\245 \\236\\337\\277\\234\\201]\\335(\\331=\\267X\\035\\220l,BNF6\\006\\311\\272\\377\\237A\\344\\2611\\346\\336\\277x\\310\\026\\371\\351\\240;o\\260\\006\\345%\\242\\264\\t;\\027N\\315R\\007\\266*\\304c\\030\\223x\\345\\272\\312B%xT&,\\032\\343\\027/\\337\\273\\300\\351\\240\\027\\354:\\362|\\230\\252c\\004\\243\\236\\372\\352\\002I\\311DU\\257O\\357m\\247\\315L\\003\\257C\\020\\247r\\203\\231F\\356R7\\375t\\306\\215\\333$\\366wf\\260K\\227\\\"%\\271\\302\\026\\222m@\\306S\\236\\271\\204\\232\\034\\373\\r\\365{\\210\\221\\261\\r\\002]\\221\\272\\327\\\\(4\\024\\016]\\005\\226\\362\\375\\266\\315p)\\341\\256\\341D\\347\\315\\024]\\016\\206C\\356+\\'V>\\177\\225\\314/\\246\\355dLd0\\007l\\314\\334\\210\\254\\304/\\377U\\254\\215\\273\\014\\341\\307\\201\\265\\323^\\201\\250\\270\\000cp\\352#\\317|\\323\\031\\013#\\305\\345\\322\\262\\343\\344`i\\237`\\\\\\341\\245\\302}\\315(\\250:\\200\\317\\370\\353\\023a9\\260\\270m\\353\\007.#P\\376?\\251\\261\\345n#\\265\\r|\\204\\020D9W\\337\\263\\003/\\227|\\330j\\271\\306a\\310l\\322h\\215\\337\\242*k\\275\\002\\'N\\371w\\230U`\\323\\361\\254\\004\\254\\210C\\260tDG$\\335f\\313\\344P\\006\\322~\\227BD4}0\\207\\006\\374t\\237\\315\\375\\002<\\357\\035\\251\\\"\\235.l0\\261\\263\\317\\246\\336\\345\\316\\253\\366i\\324\\255\\014\\252\\023\\241E\\273\\345\\222\\031r\\301g\\213\\361E\\371hJ{ml\\261\\223(\\211E\\226\\345xl$\\264\\271\\236\\237\\024\\212A\\265\\034\\265\\232\\034\\312$\\252\\264\\002\\340\\0271$\\3042\\357\\242\\016N\\374U\\016\\363\\326K\\307\\n\\347\\250\\037\\234\\270\\201\\305by(T\\275\\243\\001\\215\\312\\271\\353\\345\\264\\224\\260\\341 \\0143_\\203\\253\\202\\370\\207\\314\\001o\\240\\370\\002\\335\\264\\224oS\\376\\376\\242\\263+P\\211\\003\\020\\'\\250\\013G\\322\\017\\305\\330\\323!\\031B\\230\\247i\\314\\2039v\\272\\273\\310(\\313X\\251\\003\\375\\251\\022\\201J\\210V\\276\\305\\272\\332\\267\\323\\304v\\027\\365\\007T\\254\\311\\240}Q\\306\\370\\320Z}B\\273\\022\\037S\\000\\277\\302^\\034%\\220\\005\\177`n6=\\003]\\251\\354*\\325\\236\\366\\006\\365\\314\\364h\\3749\\345T\\'I\\326\\232\\373\\\\L\\210\\211&\\240h&\\247\\356y\\\"\\333\\240\\202\\177]$G~\\320\\016\\262\\260\\344\\320\\247\\345-\\370F$\\024\\262\\027.\\335y\\017\\362\\336O\\224\\366>\\365\\260Yw&#\\347\\266\\332\\373\\034\\272\\304\\223\\317\\343\\\\\\230\\327n\\204\\024|\\262\\3526A\\205wx\\006P\\347SeY[Ae\\246\\227k\\375\\353\\231\\301\\260\\370\\352\\252\\323\\264\\2724p\\031\\271\\257\\255\\364\\256\\024\\023#\\366\\31551M\\001:/\\331L=\\275o\\233\\235\\337\\347UB\\305\\331\\224\\214\\316l1\\355o\\220\\2428h\\253\\256D\\352\\237\\254/{\\343\\333\\332\\260m\\007rq\\316\\367\\002\\276G-E\\344\\032\\241\\363H\\307\\303\\201\\211\\000\\t\\025C\\346n\\262\\331\\237\\344\\001\\324\\211_\\2007\\267\\302\\337\\350y\\307\\306\\\\\\230\\322\\250\\272*\\314\\002\\340\\r\\264\\034\\243\\271\\246m\\030\\255eV\\212\\323\\254S,\\223fpw\\031\\243m\\352\\\\\\346\\230\\265T+\\270\\230UA\\202f\\'\\003\\030\\274\\352\\206\\006]O\\243\\355d\\261p\\003<\\3019Pk\\265\\377\\3526\\211\\032\\341EK\\245\\246\\2442c\\0243\\242\\314n\\204)\\250C)\\230zT\\214\\243\\2108\\370\\346\\206\\246\\355\\3369m\\034\\337\\332\\311\\202\\353\\234n\\201V\\305\\205\\261\\317/?_\\304\\232\\356\\300\\227\\222\\261\\246\\2547\\3273\\246\\242G\\035\\362\\313\\335|\\202\\237\\254\\000\\212f[\\214h7\\267N\\356\\360\\267*\\022k\\010\\031\\256\\203\\013\\004+\\326i\\235\\215\\354\\rH\\005\\273O\\211\\3519l\\020wA\\216`7E6\\203\\'\\261pf\\246w\\030\\031\\035\\372\\313\\232X\\340\\205\\265$*\\272^,\\223\\027\\004\\312\\373\\361\\371\\344lp\\212\\007\\336\\002\\250\\320\\375\\274\\022}\\210O\\230\\363\\226`\\327\\227\\227\\253\\264\\026$\\370\\201M?\\232([\\276n\\007\\271\\273KY?0\\005\\315k\\235U\\\":\\245_\\027\\023\\320\\2529^\\371\\212G\\212\\322Z\\237|\\214\\017h\\350\\260\\302\\001\\327\\307\\037\\264;\\301\\004\\035\\345Z\\005\\313\\247\\362\\343\\311\\263r\\204\\304\\332\\366\\304/\\030\\\"\\272\\321>2\\341\\213\\330\\336\\221\\341I\\353\\303\\241\\311\\362\\303\\325\\030\\224\\\\\\356\\253\\376F]R\\014\\356\\264u\\347\\177)#\\2507\\316:]q\\253\\0350\\346\\312\\rx2%\\262\\222\\370\\213\\007A\\210\\0171fK\\016\\245\\320\\243C\\227a#\\256\\320\\376t,\\321n\\276\\215}\\314\\007&,\\302#f\\\\\\265\\327\\241\\007\\315\\311G\\375:B\\345\\372\\340ia;\\004\\277w\\234y\\030\\310~d\\201\\327i\\026\\220\\255C\\332g\\003\\314\\272o\\352f.t\\346r\\'8R\\rF\\307;#)\\n\\363(\\\\n\\375\\033\\3108\\304\\205\\3424B\\'\\307\\240\\327\\273\\2258\\0309\\272\\347\\273N\\316-P|\\0232\\000\\254{m\\264\\215\\323\\327\\315\\353\\365?B\\323\\307\\302\\363\\355\\311\\321\\304\\354\\232?\\202\\022\\304#\\275*!\\t\\242\\265\\325\\200G\\r\\313\\t\\221\\306\\324\\324\\321\\r\\027\\365\\r\\027\\200w\\227\\250ui#|eaB\\274\\010\\320n]mT\\022M&\\347)aN\\211*H\\033>@\\316\\324\\262(\\033\\355\\t\\360\\257\\324f\\036Y\\377\\340\\253\\233\\331\\346\\211\\272\\271Dx\\3157)\\203j@\\232\\016\\224x\\233=S\\026\\353\\205J$\\213\\225\\361\\227^i\\354\\253v\\322\\026\\272\\336\\367`N\\244;\\254\\311\\026}1\\367 A\\326m,\\3437Wj\\036\\265\\203\\3169F;\\273[S\\251\\321\\307\\270\\304R\\326H,\\317\\346\\017\\240]\\n\\367\\330d\\314\\324M\\324>\\031\\317|\\266m\\006\\002\\035a\\231\\034\\235\\354\\241\\002\\006&\\035\\245\\202l\\256Z,\\264\\252<uD\\010\\270\\302\\315\\321\\207\\037F\\005\\206\\037\\256\\340\\240\\311\\374W\\345/\\350\\223o\\362\\204T\\212\\241\\373\\201!\\207\\0106s}6y%\\333\\217\\216M\\032\\353\\352\\334\\024\\366\\332\\326\\364\\241\\033\\375\\325\\255\\371\\303\\250\\353}\\020\\325\\305\\3105\\\\Ip\\022\\025L\\004c\\307\\224\\320i\\276\\031\\036A\\373\\215l\\363\\240~$\\351$\\342&\\311\\\"\\363G6\\303\\304P!\\2265\\335\\216\\273\\255\\315 \\272\\237\\023(\\226\\345\\361\\330<b\\343\\212_\\007Q\\255LR\\031@\\231\\210\\300U\\370{\\300\\026\\300M\\227@\\002Q,^\\tU\\314DU\\177\\3616c8q\\000\\235\\253\\324\\211\\304.d\\355:iT\\226DM\\341\\023I^:\\325j</7\\311\\222\\323\\223\\371\\225I\\261?\\220\\373\\230o\\267l\\374\\237\\273\\207|\\026@)g\\323\\315\\371\\360N$C\\345v\\302\\235\\313\\372m\\335\\367\\002US\\005B5\\253`\\020)S<\\233\\334k\\020y,n\\306\\333\\035T\\307\\345w\\\"\\337\\276\\337\\247\\356\\221\\2418R\\312\\004uH\\264\\2779`\\302B\\'>\\226h\\364:\\2770@\\301\\301Qf!\\207\\r\\001\\367\\237\\001\\201B\\255\\235\\255\\010?|8\\203\\365\\031n\\236\\264\\265\\n\\244\\372v\\244\\361\\312\\031\\304^M\\344D(\\016\\300\\305\\357]\\246\\260\\225\\344\\020\\177\\225X\\316\\016#\\252\\225\\262\\006.\\374\\331R\\014\\331*\\'\\354e\\224aeC\\255\\233\\001\\253\\277\\225\\224\\010\\341\\316\\0372\\316\\254\\365\\244~\\215$D\\266\\211\\033V6\\3729\\211\\0343\\253\\266uM\\360\\206\\306\\266\\255\\361\\221\\224M\\211\\034\\346%\\203\\007\\260wB\\374\\033\\217(\\205\\366\\324\\007\\204K\\341\\001N\\373\\212v\\347\\323\\344\\224\\265|h\\013u@\\264(E*\\252\\217J\\326\\254s0\\305X\\016\\025>\\226]\\241\\366\\325\\216:$\\322\\021\\3631+*\\265\\224^\\337+\\357(p\\007\\236\\250\\275\\336.\\255Mb\\260\\212\\024\\305cTrD\\341\\351\\020\\217\\240h87\\203\\253\\203\\340\\307\\345\\332o\\202\\342zY\\022\\023\\371#\\016\\n4GD\\034\\356\\346\\213\\367>\\337\\251 \\366\\273J\\376\\177\\r\\267\\321\\274\\213cH5x\\345\\024.e\\344\\354\\374\\232\\035\\026L\\235\\\"\\323^\\254\\\\\\204\\271-\\262b\\223\\n\\331\\031\\260=X4\\321hhV\\323\\262lf1\\231\\337\\371q\\216\\313@`_\\232\\254p\\007\\252\\025\\342*\\351\\255G\\354z\\311\\3026\\271\\215N0\\226\\254\\330\\271\\214\\034\\300\\000\\310d^\\332\\217\\230O\\311\\232\\203\\005\\353\\312\\002\\027\\204\\010C\\032M\\316}w\\005>\\265\\246d\\235\\307sL\\001\\242\\343\\327v\\013\\313Q_ E4GH\\3776j)\\264\\320\\026\\340;\\261^D\\371`\\2433\\213\\305\\335U\\262G\\276\\322\\030E\\332+\\0308\\322\\037b\\341w\\304\\332\\226;)[\\253\\370\\354\\340\\254z\\307\\021t\\372\\357\\t\\2325\\236\\256\\266)\\211\\342\\244\\250\\356\\016{\\001\\332\\274\\246[\\016\\200<5\\232\\256\\360u}\\256\\232/6\\226#\\360p\\253Q\\321\\203\\252\\373\\254\\367\\233\\315)<v~\\035u\\002+4\\251\\025J,\\250,\\267\\300\\237k\\227\\266\\345A\\224\\027\\353\\354t2\\240\\321idI{\\351P\\213\\300`\\225A\\302\\203BUa\\237A\\244^k@\\265OG\\342k\\214\\\\\\307\\'\\366\\354\\221\\004\\016r)\\321\\r\\344\\214H\\342\\023?\\225\\320\\271\\324\\03381\\256\\025\\3551\\027S`~Rw\\003\\201\\254O\\345\\022Q\\265\\372\\3615\\235e\\3534Ch\\022\\010&<s\\036u\\340\\250\\364\\350l\\244\\264,\\255\\t\\231\\273\\003\\277v\\275\\243\\221\\255\\373\\177t\\250\\227\\342\\233\\305\\017a\\324p=\\333AAA\\341\\323\\203\\017\\375je\\216\\243\\377[\\016\\221\\306\\343\\360c\\3725\\365C\\r\\203[0\\344\\274%kQ\\34545\\205\\301\\234\\017W4\\202\\376\\026\\223\\000OFc\\024Bs\\205\\233\\360t?\\270\\264s\\217\\324:\\305\\367w\\024N\\331\\2200\\215Ze\\345~D\\240\\024\\305\\007m\\017\\206E\\3227\\230\\336\\277|$\\203\\254c\\246\\206\\t\\202b\\2417\\223\\223\\002.s\\346\\351\\n\\\\\\367\\351\\337\\255\\340\\263Cm\\270\\213kc\\010G\\322\\2259h\\003\\235m\\017\\227\\323\\233\\'X\\203\\216\\352\\367\\0378\\024#\\305\\202A9\\205\\214\\207\\355\\3157\\201\\370~\\270\\021\\360\\233\\3030\\263\\271.\\324\\215\\2219\\023\\345\\350\\300\\003\\3002E\\215\\210\\215)`\\266r\\225\\320\\347\\311HK\\215\\367\\265L\\001\\307\\270\\201j\\227dPE\\350\\331\\316\\351^N\\276\\234%\\212\\264\\324\\307\\031\\260\\275\\001Ch E\\261+\\217h\\264\\314\\345\\256\\030\\025\\000\\356\\0218\\'%\\327?l[\\177\\346\\355Zql\\345<\\330\\2577&=\\341\\\\uF\\364\\304\\232\\013!\\3010_\\2658*\\032\\355T\\177\\372\\362_\\272j\\277\\205\\365\\032\\312\\254\\346e\\331EN^\\t*\\002\\333\\3240\\361\\301P\\250\\251(l\\014\\357\\017`\\342\\375\\267B\\000\\364\\255o\\001U\\302\\031\\361\\317\\nK\\036\\325\\0010`\\237:ck\\242\\277)\\246\\305\\372$X;\\305\\345mmd\\332\\300,\\331@NJl\\010!\\273\\254\\006Q\\215\\032\\221\\201\\305\\033S\\277\\337.BB\\0204\\301p0*\\027\\206\\024{SBl\\357\\235\\367\\246L\\262\\353\\321\\013\\022\\353+\\354O\\215{\\226\\346\\270\\233\\341\\244_Q5\\206\\265\\'h\\370j\\250\\353\\337\\r\\025\\304\\247\\246#zL\\340\\371g\\0205t\\223\\375+\\203\\270\\275PpZ\\345Q\\316\\251\\211RZ\\242\\266\\226\\213!\\225\\014\\023\\002\\274\\356\\322\\276\\222\\177}F\\026\\325\\327\\217\\244\\253\\204\\354\\376S\\331*\\036\\025j\\247aG\\033\\r\\213K\\330\\024\\272\\033\\352\\234\\026\\322\\310\\221\\3449G4\\004x\\312Y`\\367\\210*\\3062`\\301\\013\\003h&\\217C\\032\\347\\237\\354\\354p\\331;\\322<\\243\\323Bj\\253b\\001YT\\332v\\265\\026\\3543X>\\370\\210<ig\\035\\351\\013dts\\320\\233t\\262h\\321\\237\\254,\\243\\263f\\352H-\\023\\343\\025}\\025{i\\002\\213V\\341v\\212\\032P\\217>L\\003\\026e\\367\\266+\\216\\213\\244\\200u\\251=*[\\036\\360\\330\\007\\013\\230\\210\\273\\310QB\\255\\201\\213\\326G\\001]\\301\\241:\\234,+\\227\\005{\\212\\017\\2521\\037\\023x\\335&\\377\\n\\203H\\324`\\366\\254#}>\\347\\304\\221&\\026\\230\\365\\311\\373.\\222\\271\\256}\\251x%\\215\\305\\365\\221v`\\203\\343JU\\340[%\\325\\277\\021\\270\\203\\177.\\263\\005\\035e\\321\\005w\\217\\217YA\\002\\373_`\\006 \\243=Qz}3i\\013\\304\\\\\\361\\202\\212\\310\\307\\223j\\205\\032/\\210m\\320\\353\\357!\\r\\347\\\"\\226\\306$\\327\\006\\273x\\314p\\241Zr\\254\\221\\222\\232\\272\\341\\360\\022\\177\\326\\225\\330\\216>\\226\\210v}\\355\\246\\213\\247\\301\\227\\233\\270\\221/\\214\\236\\207\\255\\220)\\016\\350\\265\\327[\\256\\201\\331\\013\\034\\017\\371\\365\\n/\\272\\024\\2719\\313\\225\\363}\\250-\\360\\341\\265\\245\\244\\276\\024\\221\\340\\242\\016\\023\\330\\000\\031iP\\3242\\244\\306\\251YD\\204\\270\\254|\\210\\177\\032u\\375g\\314\\235\\252\\221\\340\\270\\363\\275\\214\\307)\\342\\030\\020v\\177s\\177\\257\\304S\\351\\321,\\360,6\\024\\017\\007[\\311_\\0341\\277-\\301;,f\\262rL\\226\\314\\006\\326\\377~\\211\\313g{\\374bC\\265D\\233\\3560\\360\\224\\234ZL@\\376 _\\234\\010\\002\\204\\276\\351/(\\264\\244W\\247X\\263\\031\\317\\266x\\353k>U\\356\\260E\\322\\370\\264\\007\\320V0Z\\210*\\360t\\370ak\\275\\241\\033\\264\\001\\245\\333\\350E\\356\\327\\312\\317\\236\\035y\\001X-D\\004\\010\\332\\016MMgS\\025v\\257\\371?\\347\\267\\272\\360\\220\\336EK\\230\\307^\\337v\\366H&\\252,\\020L\\225\\345\\023\\233\\321\\0252\\243\\033\\030\\350\\325,\\231eT\\007\\033\\345\\223\\374\\270\\246j\\002\\3716SG\\273\\234y\\010\\302\\251\\241a\\305\\275.\\014[\\210PnW\\343\\323[\\\"H\\225E\\236\\254\\366\\241\\260\\316\\222\\323?\\357<4\\262\\256\\363\\352\\230cfA\\220\\216\\250\\261\\336UX\\227\\002\\300\\273F\\010E\\213)5\\337e\\313\\253~\\217\\367$\\377\\313^\\366\\024\\233\\246\\3335\\275\\030\\363\\017;/\\200\\260\\014H\\\"\\324A\\'\\327\\216\\r\\305\\232\\237\\312\\313\\244\\213\\311U\\330\\376\\006\\317\\370H\\210q4y\\317\\373\\250\\275a\\327H\\307\\226\\357\\361\\301\\022\\315\\275\\023\\363\\372\\002\\245\\2544\\274\\0304\\177\\354\\361\\237s^U\\217yQ\\021\\004\\324]\\362b*!\\310\\t\\325\\375\\036\\016\\357\\225\\371\\232\\266~\\\\v\\256\\210\\014\\034\\231X\\35096p\\372*\\372\\270\\274dz\\207\\351\\226D\\277\\214\\177\\032;F6\\232\\2435\\375\\351\\215\\233^8\\001`\\023\\364\\332\\032\\317\\223\\372C\\332W\\021?\\305>\\023P\\356\\332\\347\\312\\310\\006\\215dm3\\341\\350{\\314\\032ws\\033C$\\225\\n\\210\\035\\355\\037\\375i\\307\\344\\t)\\341\\305A\\036VNE\\325v\\344W=\\212\\373\\325\\211\\233\\276\\212\\016.w\\025\\3342\\3567eQ;a\\213~\\\"K\\2110Vq8\\332\\006\\274~\\033\\372\\260\\247\\\\.\\363\\031\\307\\373fAND\\261\\364\\027\\231\\004\\324\\206\\034\\3258\\333\\030\\025\\020\\315\\372586t\\331Ogq\\242\\306\\013\\242HG\\323=\\014\\263\\222\\336\\r\\341\\006\\233\\273\\236\\360\\272\\347\\351)\\344\\014\\002\\'\\211\\352]5\\263S\\t\\232\\250\\310=\\350\\352Q@\\226\\206\\007\\303\\t\\275\\221(\\003\\000\\033\\255GP8|\\025\\010j\\376\\351\\301\\233z\\276\\323\\230\\351\\177\\372\\313\\212<\\220\\362\\363\\225q7V{\\334\\3437S\\306\\316\\216\\330\\314AG\\024U\\335`8\\270\\233\\350\\324\\200Hk\\345s\\344\\001\\356\\211\\266\\001\\263\\231\\315W\\360\\335\\375%%\\354yE\\024\\355\\363\\263\\327a\\370\\014/\\002\\0074\\351\\206\\2145\\205y\\307e\\177S\\3504w\\017\\'\\271+\\207\\3543\\337\\353\\324\\207V\\305\\204?~\\017@~x_\\331\\000F\\252\\031n\\3370\\037\\345F\\2340Gw\\267\\022\\354\\353\\357\\260)\\307\\\"\\021\\254\\214\\372\\326\\237-\\236\\021\\374\\233\\214\\032\\311\\000\\342\\005\\343\\371\\231lS\\302\\204\\342\\374h\\236I\\262EW\\257\\tV-\\237a\\327Q\\236l\\025-\\314\\2165\\306\\241I\\375s.\\320\\334\\234\\244\\224\\\\y\\302\\316\\005\\2675Deg\\350X\\300\\232\\241\\337\\016\\005\\365\\020\\255@\\253\\261^\\354\\036\\222\\360\\335\\031\\226;Q\\334Ah\\022T~pE\\251Z>\\306o\\212\\207\\'4\\225\\307\\014\\307\\211\\265\\304\\177\\001\\354\\376\\216\\226\\030&Y\\277Fy\\241\\021\\227\\346\\177\\270\\212e\\270\\341\\005$Q\\232\\250\\307>\\002\\332e\\2165i\\324n\\301\\372\\301q\\226\\343N\\376\\321\\027\\253\\327\\351\\302\\374\\334\\336\\250\\007\\234\\334\\321\\352vb\\2121M\\3727\\240f\\235\\n\\316}\\257\\272\\361\\371-\\346\\026\\364\\365S\\241\\216/jT\\267Ji\\274\\263o\\237*\\353\\307B\\214X\\332\\373\\312\\275|\\347\\260\\327\\342\\2475\\312\\253\\215\\206o\\270\\304\\367\\366\\3179j\\252^#\\301d\\335\\025\\204u\\334hR\\324\\224\\\"\\037/\\210@\\255wk\\233\\361\\024\\n\\004\\272\\321\\201\\311[\\251Q&:F\\0131\\340\\031\\373\\275m\\032\\237No\\021\\227S<\\367M\\202b#\\230\\2315\\311:0H\\030j\\247\\304\\003\\361\\333~\\227-\\323x\\034\\375\\216\\216\\036\\206\\257\\212\\264\\340\\236\\364\\215\\013>\\023\\317\\035\\324(\\243\\007\\\\\\340\\261\\\"\\034\\266\\211\\346ck)4}\\211M\\200\\246\\215\\')%\\314\\345+\\316rg\\232\\215\\307c;\\223e\\0028\\315\\260\\002\\035\\307\\3578Dh\\211\\214\\207\\257\\315\\321\\346JR\\342\\311\\264\\032uX\\014\\271=\\356\\257-i\\021\\023_\\217\\177\\033\\335\\241\\250\\225\\307Ppl\\234\\324e9\\342}\\337\\320\\237,1v\\370\\351\\365r\\210\\245\\261\\025F6\\001L\\241\\344\\014 \\352S\\n\\336\\251\\027\\352\\340\\301A\\017\\307\\362\\363\\327G\\002\\227y\\240\\261\\375\\244b\\\"\\303\\235\\222\\344\\257\\210o\\343eb\\334\\262\\326M\\271\\263\\374\\223\\311S{\\032\\006X\\261\\030\\026LS\\260\\237e\\241QP\\353\\227\\363\\010\\210\\201\\000M\\306|\\255\\271\\225A\\317\\357\\221\\264o\\323\\010\\345\\307\\177^\\305\\'\\001U\\312O\\302\\257p\\3655\\324ptP\\205\\027\\220a#\\027O\\340v`\\003\\033W\\320\\322\\347\\315\\013\\306\\314\\0278\\266:X\\034\\027\\326xI#\\235fJ\\007\\025\\340m\\243\\013\\277\\027\\231\\374\\346\\255\\311\\264\\376;\\363\\333\\2354\\247\\336\\325re\\352\\204\\341MIu\\374D\\356\\244\\332\\215\\347\\364+\\027\\233\\260\\177\\002\\214\\300<\\336P\\313\\035&\\353l]\\220\\366\\314\\036\\317\\362\\321\\264\\312;\\213+\\026\\222\\345\\370]\\341{\\200\\374\\263\\353\\370\\320\\301D\\342\\352]\\202\\364\\376\\341eGw\\312Q\\231q\\367\\305\\361\\273\\027\\306\\263\\347*\\313A9\\034>K\\216\\301\\353\\355`l/\\277\\3439\\301\\371\\326\\350\\334\\232\\352\\326\\000\\264\\207\\246\\347Y\\315\\301\\231\\276\\275#\\035\\367\\271\\214\\204O\\000\\310\\323\\261h*v\\021\\306\\322\\021\\355v\\216\\254\\336yx\\233\\341Y\\361\\314\\217\\323\\263\\032\\300\\331\\325\\002\\306\\242\\344kpi\\271\\303{Kc\\010I\\222\\362\\341\\026(\\271@\\201\\003\\377\\0204\\203\\265q\\267\\256)\\313\\024O*0N\\200\\023\\250\\212\\315.\\277\\240\\005\\326\\343\\342\\006b|\\360\\220o\\305\\t\\246\\374q%\\261ex\\\\\\024?\\371 J\\371\\362\\247>\\252\\t\\375Npu\\010\\336FM\\215\\277\\333W\\200a\\353\\016\\201R:\\225\\303W\\021\\271\\363\\026\\024\\306\\010\\030\\215F\\007\\263\\355:\\376\\007\\371\\363aZ\\364\\264\\335\\254u\\260N\\365\\003Q\\271\\270\\363\\255\\220\\322%\\323bRx\\303&\\2316|\\335>\\346qc\\253\\337Y92\\217\\202\\002R\\016\\343F\\'[\\217??1\\010\\374u\\272\\321\\346\\234K\\320=\\204\\247\\226\\331;\\205@\\351\\313\\353\\275\\t\\276oW-\\226\\250\\214h\\340\\305\\377\\\"\\365\\233\\'\\243\\022\\312\\353\\251ijO\\202\\317\\315\\016.^.k\\363\\350I\\033\\245[P\\336O\\203\\021\\2148F\\354\\356\\366h\\373\\320\\366U\\337z\\276\\255\\254g\\177\\302-r\\204\\355*\\271\\334\\32115\\206\\032G\\260\\206\\256p\\276S\\262H\\027\\033\\327\\224\\033\\254\\2129\\332lP\\177\\213\\316\\350\\214\\2135\\002\\000\\376r@|W\\315\\005\\272\\347?\\270j\\274r\\347\\035tgP\\007\\367B\\036Z\\306\\241\\243\\264n\\346\\021\\325\\024\\032\\230\\326$\\254\\333\\0142j\\225\\002\\2045c\\302\\2207g\\204X\\272n2[:[lH\\233\\342\\235\\201e\\365J\\014\\2249\\030\\262,N\\354AO\\205}X)\\363\\035$6\\3020\\247\\243~\\260yO\\017Er\\342\\340\\'7\\214\\356\\342b\\254(\\023\\031x<\\036E<\\205\\010\\225\\031\\025\\242\\231\\025\\314}\\357F\\345Lv\\377\\345\\303b\\205\\276\\026\\036\\265\\007\\020\\242rx\\025\\235\\006\\023\\321\\302\\231\\003\\024(6\\220.h\\356\\210\\305\\026\\307y\\035na\\305\\261\\262\\314\\312\\025\\357\\274\\306\\271\\226\\007\\220\\030 \\320[Z\\307b\\n\\221\\342\\303\\247\\360\\305\\237\\335\\245\\317\\0174u\\232_\\267\\324Ui#\\206{\\001\\332ni\\274\\007\\030\\030j\\341E\\354*\\221~T\\245\\201\\2436\\215.M\\201]\\010\\275\\r\\027.l\\\\\\031\\364\\270/\\303\\275qc\\314\\346\\205 l+y\\205q\\0318\\365\\037\\223|\\375\\300\\177N\\374\\240\\333F\\201\\207\\355\\360\\263}\\027z#\\236\\277;\\006_g\\262\\233\\252m\\024\\2000b:a%;\\356\\017\\032>;\\303\\0314\\006j\\275\\274\\263J\\006\\255ei\\345P8O4\\003\\202\\336<\\034\\316\\027\\341\\266\\304\\316\\357\\204\\304e\\345\\035\\335\\220\\024\\326\\372\\354\\337\\300\\234\\360E\\347\\263a\\\\\\364\\342\\346\\2134*\\324c\\361\\230N\\374\\306\\263\\274\\322\\263y\\353\\023\\251\\026\\316\\017u\\010\\373\\301y[\\312)\\177\\\"`\\345[\\020\\356>\\261e\\311)h\\034\\2137\\330\\037/9\\346\\235\\314\\256;\\017\\226\\251\\3401\\233J\\032o\\320\\tk\\214\\252\\232\\005\\275\\251*\\267\\023\\242\\363H\\347!6\\320,34\\354!.\\027N\\027\\256\\321s\\237\\232T57A\\203r\\304\\023\\207\\330\\246c\\031A?\\365\\251w\\203\\221\\260ZD:X\\217K\\022\\037$\\226\\2635\\316v\\305\\325o\\332W\\230\\312\\372\\360\\327\\205<aH\\275\\304\\252\\331\\r\\271B\\361\\007-\\373W\\005\\266\\036x\\034n\\244\\345\\341\\277 \\331\\222p\\020\\010\\007\\\\?\\301\\232<s\\007\\'\\321^t\\230\\021_\\215c\\262\\346q\\342\\343\\026@P\\217\\315\\202\\265\\201\\023U\\365t\\016\\016<\\034\\247;\\336(T5O\\032\\336\\003\\355h\\356\\345\\273\\352S\\215\\344\\204\\021K3\\002\\360h4A\\032\\302\\230\\033r\\034\\211\\334\\243\\323\\354\\371\\257\\277\\347\\325\\343\\234\\246r\\214\\360\\241\\225\\023v\\354\\374\\020\\306\\317\\202\\322\\177\\247\\211\\030\\317\\324\\236@\\275\\016\\353\\311\\270A\\330\\252#\\367\\242\\235\\326\\372\\032fIo\\344a\\t\\317\\r\\201\\232\\202\\207\\370\\200Q\\350(z&\\254/7S\\2449t\\351\\006Y\\253\\356\\326~\\277\\347\\333\\361]Yh\\014\\302\\315XeE\\243\\307\\302\\255=C\\267\\235\\005\\242q6;Kz^lJ\\246\\231u~\\312\\216A8\\310\\270~\\222\\025\\036/y\\300\\301E6\\326\\031\\032\\374\\014U0c\\316\\274\\245\\3346\\242\\310P\\352zJ\\377\\0324nE\\316de\\250.\\325\\345\\233{\\272.k&\\266\\361:\\316\\240D\\326T\\001\\002R\\355\\376\\310\\027#I\\3663s\\205\\0334\\320\\205~<\\347Q\\236\\255\\312)1,\\313\\304\\004\\224\\202\\025l\\376\\270g?\\360F\\246\\010\\016\\3455\\344\\002\\266\\010\\237\\3415\\013:e\\363_\\233\\306\\356Y5\\347\\271Q\\326\\n\\024\\361\\261\\250\\315\\312\\013\\n,^\\354\\260\\236\\210^\\312\\3734}\\352R\\257\\027\\003N8\\262\\364\\216\\'Q~\\311c\\200f^\\006\\230\\207\\013}\\201\\016o\\265\\330,5k\\243\\204\\351y\\220\\212N\\207C}}\\342\\003\\367\\216\\'\\0179f\\201,g\\367\\261\\302\\\"y/\\201,iDmJ\\307\\326\\337=k\\004c\\265<\\233W\\341\\n\\344\\\"D\\300A\\316\\307m\\216\\335\\360!\\273n\\205\\341{\\001\\r\\205\\315\\200|\\366\\312P\\270\\273\\307\\037Ig\\205\\201\\254\\346{|\\310\\251\\013yyE\\265V\\253\\204z\\014\\016\\316%\\200{\\201\\010a$\\020\\375\\376X\\307O\\333C\\020\\311\\350\\330\\013~\\315][\\354\\342A\\177:5\\3526\\375\\342A!\\327\\224/T}\\355\\220\\237\\277\\324G\\342\\326\\026S\\336\\227\\260L\\025\\366\\260\\n\\364\\323\\367s(\\324!h\\313\\023\\000\\0136\\324\\214|\\2766\\027\\353M7\\'\\271\\214\\341\\224\\017j6\\023&\\013\\244\\244B\\260X\\000\\343W vP\\315pufm\\267\\207J\\300\\333\\3754\\327\\3344(5\\031\\260n\\263\\342j\\346LP\\377\\212\\311\\212\\014\\020\\240\\200\\372\\371\\255e\\334\\364\\322\\001\\321\\315Oi\\206\\311\\250{\\340\\351\\2456w<\\237\\362\\022S\\313\\334\\366\\224\\255\\255\\302\\367\\220.f\\0244\\361wq9\\271\\005\\215\\307j|\\024}\\032\\000&ME\\360\\371\\023z\\253\\255\\327^\\331g\\362/,\\\"#jLu\\316\\027\\374\\250\\316\\302\\031M&\\263\\332-\\345\\250\\006-\\027\\265O\\'l\\303\\266c\\313\\301\\347%\\310\\332\\220O#B\\302S\\275w\\376\\334\\003\\325\\t\\\"\\237\\222\\340\\235\\265\\366\\221\\033k{\\317,\\354\\253\\272\\256_)\\362|\\316\\377d\\245\\2731\\\\\\305\\235\\374\\n^\\252\\000\\201/\\261\\344\\231\\032\\010\\304\\311\\004)(\\353\\257\\t\\\"\\346 \\313\\336)F\\301\\344\\233v\\224\\231\\211V\\334\\300B\\0169]n\\376J\\332h\\364[kCP\\2348\\235\\267N\\327\\364\\203?\\177\\231\\010\\346\\226jT\\254\\035\\036:\\350|\\360\\3108\\002\\3706B\\337]y\\262\\255\\006\\276W\\257Dx\\225\\372\\202\\001\\2009\\213\\225\\357\\226\\014^\\305\\355\\323\\256\\353\\306\\263\\2761\\236\\207uA\\325\\214\\335\\211\\305}\\006\\222\\212\\203\\210\\236\\234\\014CDN\\362\\233\\304\\035 \\201\\313\\356D?\\272gY\\026?\\343C/\\207\\321G\\2036+\\2563\\374Z\\204\\310\\014\\213\\321\\007\\337wc/f]\\3753W\\347c\\271\\246\\r7\\266bX\\241r[\\246n\\036\\375\\325 &\\214^\\230\\320>\\253\\256\\275\\214\\020{\\241\\341\\202\\207LFH\\357is\\204\\247n`7 \\337\\344e\\031\\334\\344\\004yUt\\301\\255\\356\\010\\024\\273i>\\275\\204\\006L[j\\227\\021\\205\\032_}\\033\\367\\n\\255\\301\\016\\317\\264\\230\\0103\\237\\263\\033\\236\\250\\220\\210\\261\\337\\343C\\261d\\032\\352\\325\\305g\\267\\034\\226rdt\\355\\315/\\335`X\\227|I\\337ZL8\\212\\031G\\225\\211\\360\\006J\\220\\370q=R\\332|\\260\\331\\302\\303N!\\233\\266\\320`\\3715\\2567\\247\\376\\314\\003\\035\\313\\375>\\233\\320\\230\\033Ie\\326\\320o\\255\\353\\0077\\3479\\302#\\000\\237\\023CT\\264\\200\\374]\\252\\345\\203\\037\\334(\\252\\344ck\\371\\273$c\\202\\300\\310\\326P7\\265$CO\\341\\204^Bf\\274B\\212\\207`\\251\\317\\352\\325\\004\\266\\326\\2048Z\\005\\010\\301\\204\\256\\353*\\030~\\301\\372\\271g\\367\\021\\271\\236`\\217T\\030\\014*\\213\\315\\233\\311\\351\\310\\241Z\\241\\320@i\\002\\016E\\272\\327\\306\\251?bb\\326))\\363\\263\\333vD]\\263/\\031\\233\\021\\303\\033\\357\\025g\\330\\366a\\302\\231D\\201U\\035\\202\\200JU]B\\014G\\375@4\\036-u\\344\\357\\\\e:\\304Y0\\301\\322\\004\\274\\344f~h\\237\\325>\\227\\372z\\231\\253\\335\\356\\205\\211\\204kbR\\234\\007`\\215\\324\\275\\330\\\\\\213&\\316p\\360`v\\257\\365\\251\\002\\357\\201#\\'\\355JJ\\202\\0037miY\\372\\345\\014t]0\\035D\\333\\320\\006\\036\\0064\\351\\370\\253\\236j;\\000\\321G\\364;\\014\\03291X\\327e\\332\\320[\\003\\247\\035\\231^\\351\\'\\270x]\\004R\\355o\\006\\260\\244\\354\\375\\252y\\225\\207\\373\\353b\\260\\240\\006q\\240T\\302\\356)G[\\364\\373\\241\\334\\274|\\315\\352\\364\\025B\\343*\\227\\001\\352\\021-\\260r\\306y\\374\\234@CplW\\2543%|Mj\\025S\\315\\006\\226\\315\\376|\\315Ko;\\251b(\\2603\\375\\335\\211\\014!\\322\\rf\\326\\222\\220\\n\\0074-?\\\"\\027\\365\\034\\033\\272\\270y\\215\\344h\\233m=\\354\\035\\025\\376\\224T\\016\\271\\212^\\311\\022(\\230\\217gBo\\275?D\\200\\030\\034\\232\\232\\212$\\347\\024\\335\\317\\223\\030y\\\"u^H8\\362D\\'\\276~\\317\\302\\252\\242Y\\340\\305\\241\\003GLF\\203\\3418\\270\\265GP\\372\\361\\363\\307\\2654X\\310ctN\\275\\235\\037\\010s\\321x\\306C3\\210\\203\\003#\\256\\307D\\343\\325\\354\\237\\034\\221\\332I$\\337\\331\\215J\\270\\305\\371\\271\\177\\027S\\364\\265N\\0229`*V\\350p\\206\\347\\211VT\\313\\024\\344;Ix\\026w\\312\\'\\037\\252\\262\\343\\0246\\233\\033\\002\\r\\004\\256\\267\\313O\\331dC\\016\\314\\005c;\\310oo\\204\\247\\016\\370S\\320\\246\\320\\355\\225F\\315^x\\267\\2561\\354PH\\314k\\003Ab\\375\\242Y\\006\\337a\\305+\\236\\372\\243\\034\\265\\002\\033\\277\\271.H\\200]\\346\\255x]$1\\317 \\222\\355\\207W\\224\\320d\\376\\332Jx^\\245M\\223\\027r\\274m]\\177N\\354s\\240B \\210\\352\\377G0}\\304\\327\\214\\324x\\276\\352\\232R\\263[\\t\\364\\360w\\300\\315\\014\\244!Q\\004H\\372[@\\004\\017\\244\\272\\215\\030\\034\\236!\\320T\\231\\037u\\332\\232\\3000;ty7\\nO\\256\\336\\247\\211\\200\\2260\\237\\371\\207;\\270\\243\\230 6\\222\\026\\275\\227\\314\\016\\255\\332UT\\346\\t\\014./[\\374;\\276eX+\\253i\\233;m\\320\\373\\010;\\252r\\232\\031\\253\\364\\345\\356\\337\\336\\373<i\\367\\026\\202\\020-.\\252`\\246V\\272,\\342\\r\\013\\346!\\234\\245r\\346\\322x\\232@`\\336\\254\\340n\\235\\010\\teG\\231\\014cG\\030\\254\\247/|\\350\\356\\320\\3619\\364\\r\\221\\267+Z\\326A\\224W\\001-\\036\\037\\214lq\\363a\\311\\035+\\223\\225\\\"3$\\306\\314\\375\\\"k\\004(\\013[\\003\\036Y\\372wX\\350E\\274\\351*\\305R\\226\\365e\\261\\333\\214_\\027\\004\\322Bk\\377z\\307\\324J\\036\\321\\224@\\351\\204\\371\\001\\231\\327\\230\\265\\240\\303WJ\\301^~\\204\\250/\\227\\313\\226\\204a\\223\\236\\021~^\\213\\212s\\030]\\256g\\345j\\277l\\266\\316\\326\\363\\256\\360\\324\\261\\374J\\3542\\230\\000Lm\\302R\\236+\\t\\025\\361\\257\\211Z\\316\\316\\014\\356\\330\\303\\221\\242\\337\\2242\\025\\013\\250\\305\\032\\036\\257\\230\\366\\233\\n\\r#\\275?+\\342q2\\215\\245\\223\\035T4\\273\\206\\356\\274\\\\\\363\\224\\350_+:J\\\"\\340h\\371\\tT\\245}H\\252\\317\\223\\341u\\024\\336t\\227a\\002\\375\\356\\303\\210\\267\\212S\\261\\203\\001\\365/\\361\\210d\\313I\\353\\307F\\256={\\036\\312\\303\\333\\225R\\312\\332\\300\\320%\\357Yhz`\\231\\245\\243\\271\\036a\\030\\204\\276h&/\\260\\321\\261=Ui\\006\\002\\243\\266x\\004b\\010\\025\\321\\300\\325\\364Uk\\225%g\\324\\272\\223\\316?\\375\\366\\234\\310\\302>c\\261[\\375+^\\323t{\\341\\346\\242\\227\\365\\330\\031\\271\\006\\214~\\312i\\014\\210\\230\\300\\037\\216Z\\031\\341\\361X\\004\\326\\375\\256[\\320U\\236\\316\\331X\\210\\251\\310\\256I\\306\\205\\207\\231\\213:\\263\\254\\341\\217\\330KYH\\262\\325\\t`\\240p!\\217\\226\\270Z\\025\\337\\273D\\250K\\235\\316\\345\\274\\2132\\235<N=\\364\\014\\247\\036\\227\\357\\247\\320\\035\\207\\211B\\351\\035\\211\\364\\305\\377\\374\\373\\177\\227\\340\\200\\357\\246\\352\\203F\\313\\013\\035\\3220\\346\\033\\262\\316,U\\231\\371\\231G \\353p7-\\375\\365\\023\\006\\213\\335\\375%\\370\\3240\\206\\341\\335\\206\\246\\022oX\\213b.\\201Y\\342\\331),+\\257\\346;\\235\\224{\\247g\\006\\332\\366\\336\\214\\214$i\\214=/A\\223Ip\\365w~\\332aO\\252\\273\\375\\236Uf\\0035\\201],V\\225-\\360NzBA\\027\\234\\266\\217\\323\\005\\343\\262\\013b\\224\\037\\230\\t\\0050\\271\\010\\356\\025\\'\\340@\\306\\263o{\\324\\357E4Vv\\206]D\\255\\327\\275\\224L\\320p\\024\\330\\247\\325I\\344\\333\\344\\010\\322\\375\\211G\\023\\330\\340\\342d\\204\\345\\256\\t\\310\\024\\243\\376\\033$\\330\\210\\271\\262\\235\\201Q\\365eu\\350\\262\\252\\225\\373\\004\\006O\\311\\3138k\\205\\234\\352\\346\\225X\\300Pnh\\266\\013{\\275\\'\\203\\366\\027&\\341\\377\\013]\\004%\\254\\267G\\324c\\275O\\340\\232\\264\\007\\320bmN\\263A5\\250_e\\307\\335\\252\\307\\342\\336c0\\265\\274\\351\\022\\364\\326H\\035\\232\\030%\\025;7\\306R\\235;\\177\\274\\241\\253~/}I\\361\\'\\013\\271-4\\225\\223\\336\\342\\352\\010taDi>\\233\\027\\\\\\255\\315\\034\\363\\332\\235~@\\307\\256\\260\\354\\265=\\037\\330r\\256\\333U+dN\\271\\000\\351\\267\\314\\325\\366\\222&\\340\\202\\004\\3568\\335\\\"\\253\\276\\374\\'\\227^s\\2663y\\300\\036\\361T\\037\\020\\215J+NO\\237\\225>\\351\\360Ik\\256\\027\\305\\030\\216\\340%CB\\026\\234\\267\\344\\364\\330ykM\\312\\207>\\221\\213#\\200y\\371\\303\\026\\275\\355\\235\\034\\321\\350J\\033L\\373\\2754\\200,\\301\\301\\261\\366y\\222\\301h\\251\\001\\230\\203x%{R\\037\\226{Z\\275\\\"\\346)=\\325\\230L\\273\\370\\221\\355\\266_\\322\\361\\332\\360aWE\\325\\n\\t\\251+\\210\\033\\317\\213\\2270\\371Yg\\033\\371\\275\\177\\357\\307\\\"\\217\\325\\223\\036F\\262G\\2120\\\"9,,V\\003I\\366\\003\\305e\\244_\\326oj\\202\\377\\220\\354N\\326c\\204\\272\\314\\242Y\\203$\\333#\\261yH\\346\\243\\035\\306\\243;\\022{\\230\\323\\t\\275*\\221QO\\000\\235\\252\\324\\343\\345\\016\\330$\\r\\357H6l\\035\\311\\342G/\\313U<\\204\\257\\031\\344V/\\244\\364\\372\\370\\244`LK\\375\\233k\\001\\226\\014\\263\\224?&\\237\\335\\036\\341\\304?V\\374\\270\\354\\t\\036\\263L\\367weS[\\315J;Q\\262\\267Sg\\272\\256`\\306<\\000\\260P|\\201\\005\\026B\\366\\2318\\177\\215\\027\\210\\031s\\241d\\251\\2223]p\\037*\\343j\\tm\\364\\200\\006\\344T\\004\\335D4%i\\332F,0\\013\\333(\\230~\\361\\334s\\276s\\322dRN\\016\\354\\343;\\352\\307\\226@\\366T\\0232z\\317\\010>\\037\\005\\321\\342\\251\\000=\\222\\357\\254{d\\320\\037\\302\\300\\001\\271\\007\\2570,\\223\\244\\274<\\326]V\\027w9\\022\\237\\340\\320\\206Hi\\275\\345\\3211<f:\\377Ga\\211\\374V\\256\\007a\\330R\\351(\\001=`E\\026\\3428\\307\\216\\313\\010\\354?\\025\\366\\314\\321\\376|\\006E\\341\\314\\366\\262\\001\\236\\371\\207\\230\\361\\235mU\\241\\240\\r\\007\\227s\\\\\\017o\\342~\\000\\271e5.\\2533\\014\\001\\256<!\\305\\200\\025\\206\\271\\346%\\002\\357\\347\\267z\\252\\004\\247\\1776p/\\236\\266hz\\351\\204\\0364\\003\\037%\\245/\\256\\347\\302\\177%\\331z\\213N\\016\\2128QE\\314\\006\\241M~Lp\\327j\\035\\276a\\235O4\\013\\371@1\\236\\354\\261\\021\\373F\\033S9p\\257^Cr\\330\\025\\276z\\0021sN\\364t\\266\\332\\262ero\\263\\374\\2747=\\277\\231\\205\\334\\347\\251n>j\\037\\364`\\273\\374F\\005\\331\\331{jr\\213=2\\020K\\277VC\\220\\013\\337\\005\\205\\244\\3739\\2378\\315\\373\\211\\374/:\\365K\\352\\304\\253\\002]\\233\\363\\342\\\"\\177#\\361\\301\\033;\\225\\341\\324b\\362A\\026\\006\\010\\317l\\221\\334\\351\\232\\005SC\\274\\267\\372\\307\\367a\\246#sKf\\311P\\377\\212\\t\\270\\032\\020\\362]\\320\\301;\\347: \\316s\\034,\\\\\\0272\\267\\241\\222\\244Th\\322\\272\\241\\340\\346:YD\\324:(\\222g\\006b\\262\\r\\240KM\\371\\312\\204\\031\\373\\244\\245\\226S\\321\\320}\\231K\\3332\\366V\\267#\\372\\363\\212\\262\\334\\332K\\235^B-!\\212\\222\\037\\365{\\211\\224\\027\\262\\351\\033*\\366b\\364P\\360\\347\\352\\223\\263,3\\254\\310Ep\\3711\\341~\\001\\004K\\307\\025W\\371\\215\\331<o\\326!\\312\\351\\315\\356\\273\\260\\374f\\022t\\257\\331\\035a\\257\\212\\243(=k5\\351\\206q\\220S\\002~=\\327\\333\\330VY\\253Q\\240\\233\\0031\\355mG\\023\\247,\\366#04\\260`\\037\\213 \\246\\247\\353H\\026\\345\\006\\017\\265\\341\\307&u\\241\\275\\375\\223B\\200V`\\366\\350=x\\302\\004\\335N\\367\\276@\\275\\266Nr\\275\\021Z$\\344\\314\\207\\257\\332\\236\\271\\030Z\\006e+%X.oq\\275]vf\\323mC\\033\\373i5\\300\\270\\0135\\374\\325F\\257\\322\\24787\\300#c\\343\\'\\351\\022\\007sG\\215_U\\332\\373}\\371#\\245\\246\\315y\\326\\273L4F\\373V1\\n\\337\\200\\240\\223l\\250\\033\\237\\271\\232\\036\\273\\177=\\020\\200w\\373\\207\\034\\035\\322\\324\\\"\\341\\372\\002.\\323H\\277\\366\\236b\\372<\\212\\360\\013\\017e\\253\\342\\324\\262\\203\\236\\007\\322\\026=~O\\215\\364\\'Gg\\354m\\314\\346\\374\\266\\302L\\267:\\325\\0335\\362\\325wj\\n\\'\\002?\\340+\\016tjG.L\\331\\227\\260\\20288\\347\\0041\\264\\357\\364-v\\207*A\\220\\005\\261I\\212\\331\\271\\360wp\\267(\\207\\361Q.\\003Zu\\'Y\\237\\305\\233\\\"\\263\\010\\325WK \\207\\007\\331p\\\\\\030\\270\\300.\\270\\255\\327}\\343\\377\\276\\251\\345\\001\\247YQ\\277\\256\\361\\242&_\\275E\\374\\027\\223ZQ\\2449~\\023K\\n\\227~\\360JB\\222ED\\030\\206V\\314\\261\\005\\307\\221J\\016\\003Lx\\030ZAGVR\\224\\037\\205t\\3527}\\261\\316G\\200\\253\\345!3\\232\\232\\2059\\030\\346\\236\\346a\\255\\2333Vy\\001^\\261\\261\\335S\\036\\334\\251S5&N\\022\\311\\023\\370\\265\\311\\016\\321\\335\\241\\377e\\357/\\247\\362\\235\\221y\\350-EX\\235Luj\\340\\026G\\350@\\361?\\366\\t\\227\\314Vq\\227\\337\\250%\\341\\344\\202\\030a\\375\\362\\272\\261>a\\355\\002N\\017\\323\\216\\346\\313Bl\\177.\\204\\346\\254\\nK\\277[\\221\\004\\035\\214\\247\\206?%\\330*\\366N\\023Y}N\\210\\331\\3316\\030~L!\\270On\\247\\325[\\307\\361\\307\\323\\226m\\240#\\201\\017a\\314=:\\212\\014\\200\\317s\\233\\316\\372\\330\\0303\\\"\\351(\\033*S\\203\\343\\315\\004+\\375>\\316\\325\\357\\')U\\257\\to\\3632h\\356\\016+\\266\\250\\333{\\021\\020\\360\\361G_p\\024\\031\\335H\\03135\\nMt\\313\\\" _#\\225\\352J\\371\\2016\\243f\\314?\\333\\244PRi%\\371I7\\225\\367\\t81\\372\\215\\365\\341\\r:o{l\\232<{q\\346p\\024\\014^Y,\\3621.\\330j\\236|\\351\\260\\036\\004\\344\\330\\276R\\312\\226\\'] ]\\245\\220q6\\323\\336}\\276\\010\\335\\203J\\201!\\324\\321\\247\\206O\\310\\205\\210H,\\205%\\250\\224\\226\\007\\373\\225\\315-Z7\\205L\\343k\\241\\022nUE\\325\\211m\\255\\177\\007\\255\\002\\223\\003\\333\\021\\223\\321O\\244\\202\\201\\340N\\246\\2431\\023\\002\\371S\\027\\350|f\\323\\254s\\214\\230\\313\\237\\376c4\\020\\003\\255it\\225fJ\\223\\257\\232\\374\\312\\'\\351\\367\\364l\\022_\\\\\\371\\207W\\350\\006\\027\\262\\356 T9,\\311\\363\\354|^\\025\\035;,\\231\\211@ZIfTgj\\363D\\027\\201\\\"b\\215[/D\\275\\260\\216`\\275WB\\037\\2324\\342\\324\\206\\345<J\\310\\215i\\260\\t\\337\\334\\343\\240( \\320!\\210\\302\\224\\231\\371\\256\\001\\310Q.\\211J\\355\\333\\253\\214\\253Y<\\2052J\\346\\240g\\2253D.\\036T\\367\\205i\\332\\340qPg\\271v\\250\\375\\315\\310P<\\223B\\351\\371\\226U\\360\\3653\\233K&?\\305\\247]\\004\\212zG\\277\\245]\\233\\364\\246,\\002o\\347\\347\\275\\203\\347\\253\\2442\\177\\002\\224\\'\\270\\200\\314U\\242\\003M-;hG\\014\\270\\324\\274\\372P?\\244m9\\365\\247\\021\\307&\\264{i\\214\\036\\341\\270%gb\\316\\0360V\\3365]&\\300\\244\\215C4)F0n\\010\\265\\326\\226\\275\\n\\211N>\\003\\321SO\\277\\002dGFh\\273D \\336\\014\\361v4\\350\\203\\256\\260!\\344XqD\\303(!\\316\\006\\250\\300\\236;mU\\231\\354\\271\\340\\265\\005\\\"\\324\\'\\277\\275\\t\\342`9\\236\\247\\177\\377i~\\352\\tq=\\355 c\\353\\2357V\\316\\016\\251cC\\373\\025.\\315zY\\252D\\253\\205\\226b\\324\\257\\335\\325>\\365\\317\\340r\\037y\\277\\343\\243\\271\\031\\025\\353$\\225\\rS\\274\\236\\253>\\322.{\\367\\343\\023\\356\\030\\306\\236\\'/o\\r\\005\\332\\260(\\364\\034\\254.\\217*z\\345\\001\\316D\\252.\\214\\314\\245J\\034\\221\\234\\342Y\\213p\\213@\\034vot\\266\\365\\206c\\235\\\"Y\\230\\332\\212\\204b\\022\\232\\022\\325\\n\\211\\353{\\214vV\\034\\351\\020\\344{\\374L\\034UM\\n1`\\220\\306\\033\\343$a\\200\\304h\\322\\334].\\013\\251j\\030\\217\\265\\2663\\263K\\037\\252\\223\\030\\267\\200\\024\\247\\322\\254\\206\\325n_\\036w\\277\\\\\\254O]\\377F\\314\\'\\300\\321\\264\\256E-\\010\\\"\\253\\371\\273\\'A\\243\\332\\211\\322\\220\\250\\270\\026\\357\\0243&\\013\\227 y&J\\316\\277\\253\\254\\353\\237U\\374:\\360x\\372D\\231\\274\\374\\247\\313\\361\\t\\213A\\247\\205\\261\\226*\\000?k\\366\\215.\\002Z\\300b\\243\\332\\037\\322\\257\\312\\r\\225F\\351-\\021\\2402\\352\\037\\265\\340\\334\\260\\377\\271\\355\\0035\\275\\\\\\036\\270\\1771r\\\"l[ \\034e\\220\\021\\347QK\\261\\004\\023\\275\\300K\\343a99e\\032N2v\\305\\257\\316=9\\\"\\312\\n\\014\\006\\313\\031\\205\\222\\366\\230\\033\\232a\\261\\305w\\222\\262\\212\\330\\3612;\\273\\257P\\2235\\177\\000|\\3726F\\236w#\\245\\216\\355\\2678/8\\026\\203\\254\\001\\217\\261\\3361\\230\\324\\320f[\\211\\317\\005\\213\\200g\\254\\372\\361\\312\\326\\317\\330\\365|U\\304\\256\\211\\272\\317yV\\310i\\334\\026\\003-j\\365\\342\\013SO\\2504\\2366\\247\\256k\\207\\237\\356\\371\\374\\224\\036\\272\\271E\\340;lT[\\335*\\260\\334\\033\\203{N\\001\\036\\343\\244s\\000\\201\\254\\002\\307H9\\013r\\t\\263\\200NV\\247_\\301.i5\\337\\344n\\234D\\255I\\330\\257\\227v\\204\\177\\271\\306KR(\\332\\356mkLH>\\304TF@\\310\\235\\256\\025R\\205\\203{`a\\236\\242M.=\\254\\201N\\214!2\\262\\304\\306\\033@\\2739\\353iv\\354\\351h\\355\\234\\214{\\274\\345T\\214\\236Y\\300?=>\\321\\255%`\\247\\243\\350\\371}\\233@\\250vm\\355Oz\\236\\024\\312\\tnc>\\'\\262@#\\324\\036\\316fY\\270)Y\\353Yy\\3207\\263\\320(\\247\\024\\013Y\\225\\3013X\\023\\001\\371o\\030\\376\\344G9\\262\\337\\024^\\016V\\241n\\355zs\\272\\3137 \\320\\335\\374*\\343\\337\\266w\\002>\\240\\035\\316\\253\\r\\337_7\\274\\303\\265D\\214\\210\\311\\270\\276i\\217\\243~\\321?j\\301>hf\\372\\344\\027S\\327\\234\\005\\314O\\016\\365\\307mR\\036T8\\244f\\255i\\005\\221\\342\\247\\224\\022\\t\\337}\\217+\\364\\016\\3158=(s\\362g\\274&!\\341\\034@\\247\\240\\\"\\215\\247zP\\300\\017E\\272\\\\f\\207E\\233\\271\\364\\021K\\226\\265\\376)\\025\\000\\306\\\"\\246\\206\\t\\352BU\\351A\\207\\257\\017\\224l\\236\\034\\303~\\311\\013X\\362\\256\\3272a\\203\\342\\337\\242\\316\\357dz\\266W\\205m\\362O\\304+KV\\\\\\362<\\027r\\360V\\335F}6\\247\\252\\316\\255m\\025\\213\\257\\'L\\204\\237,+(\\311/\\373\\302\\3111\\354IT&\\257W)\\336\\031\\272L=\\306\\324\\376\\210\\236\\307/\\177\\t\\367\\002\\315\\027\\2159\\362\\234\\230>g\\235\\334\\024\\332\\261M\\216\\030\\276!W*4\\363\\322Q\\035f*r\\332k\\255\\r\\247\\233~\\367(\\024\\037\\263/\\347\\266BWRZ\\274\\005=\\253lB\\010\\324G\\226Lh\\255?\\230\\016\\357l\\246\\360N R\\3356w\\023\\222_B\\302\\023WSB\\264\\326U\\206\\242\\350A\\325\\346\\nl\\342>\\226\\241\\365-\\302l\\227\\240\\256\\002\\367\\375N\\276\\311\\2158\\352\\251~\\235r\\247\\246\\275m\\315]\\020\\224\\031u\\2624c\\'xs\\245\\2573\\210\\007\\276{\\372\\270)b\\264K}d\\2411\\212\\366\\027GH\\325?\\376\\251\\223i\\372\\232\\223\\264\\310\\247\\202\\243k\\000\\201\\304#\\202\\215\\324@\\323\\376\\337\\337J\\031V\\226dE\\226\\356zpG\\022\\235\\262\\013\\223\\n\\201>\\221i\\\\\\005@\\227\\344\\240G\\215\\371\\356y\\221\\246\\016\\355\\366\\266\\326\\2658\\340\\235\\352\\240z]\\222\\035\\342\\256\\274\\210\\340A\\311c>\\330\\324v]\\021g\\245\\353F@\\310:\\000\\271\\0300\\326\\246J4\\366\\2402\\t\\023\\n=\\037\\355\\300(\\225m\\337\\365\\231\\002\\264T\\271+\\201\\r\\333Q`\\206v\\234\\312\\014>dX\\004\\223\\275 u{\\002\\216\\214\\004\\235\\013\\244\\3240P\\006\\272\\225w\\0204\\365zy\\320sc\\337\\360\\327\\362#\\322\\260\\337[\\303K\\032\\331\\311\\245`y^\\276\\001\\206\\305\\004\\332\\035U\\206>GZ\\200\\231\\025\\332:/\\005f\\344N\\250\\220\\215-\\371\\031v\\263\\006\\010[b:XL\\240\\215\\222,q@\\022y\\313l\\376|\\256R_\\373\\026\\353P\\372\\211Q\\\"\\314\\250^\\225fS\\330\\222\\304\\304\\\\l\\331\\266\\343\\250\\353\\240P\\252\\004\\221\\262</\\356\\335\\367Q+\\006\\225@\\\"\\221\\256#\\226D\\276D|lR^\\251S\\037k\\025O\\335\\035>\\301\\312\\001\\267\\307+\\t\\206D\\224K\\207\\323\\361\\255-\\304*\\325\\240oT\\254\\237\\253\\333\\265\\306\\030\\0177\\212\\230\\227\\375\\323\\331^\\025>|V\\024vtxq\\207X\\177\\242B\\37438)2A\\265Z_\\301\\240\\272\\032\\342\\261c\\376\\023\\354\\317\\231X\\214\\026\\252F\\253\\351c\\177\\254\\267\\271\\225\\266\\216\\247\\207\\206?\\243\\035\\223\\365\\364C\\251\\0245>>-\\'\\220\\262\\001\\247\\306$\\346\\212\\023\\346\\330\\357\\233S\\\"\\334_{\\324\\004\\2616\\343C\\'H\\226Dg\\316\\252f\\333\\023kS\\342\\016z\\031X\\363\\257&\\023\\370\\006\\314D<bt\\263\\213\\362BY\\325pv\\274\\223\\306\\243\\232\\366\\205y\\212\\372\\221o5\\210+D\\000\\010\\323\\371&\\312\\362\\027\\013-\\317\\322AM0\\3363\\202C\\221\\266\\023\\235\\027/V\\343\\351IG\\247\\261\\356\\014\\321\\257\\350\\263\\tC\\271\\206\\275U\\274\\003/\\006\\316q\\245w_X\\226\\005\\025:\\236\\377\\032\\365\\361\\306\\201\\246\\270\\001Q\\010=R&*\\245\\377\\313Rq\\302L\\'i\\251W\\375\\270\\240E\\354*~\\024:s\\345\\342\\r,d@\\013\\325n=J\\251.\\353\\t\\255\\010\\006\\247\\013\\350\\334`\\001h\\330\\t\\207\\371h\\037=\\234#\\223C[\\r\\234\\365?zn\\340\\330\\304N\\'\\021g\\253\\230\\001\\363(\\270H\\373\\2472\\027\\216\\305Z\\325\\362\\213\\367\\001RNY\\315T%\\371\\013\\2215\\237\\2332Y\\021;\\273\\250if\\210#\\257\\357\\250\\034)\\354f\\026d&.\\344\\030*8\\360\\326\\007\\014\\225\\201\\256\\007\\023\\376\\025\\301/>M\\321 j\\321\\316h\\016\\233\\025\\232\\370Yf\\267HZ\\270\\221\\203lQ\\0029\\325\\t\\021\\244\\022\\245\\245h\\010\\21118-\\336\\301\\002\\tN\\272\\200\\235h\\272\\275\\242\\036\\3456\\364+\\377I\\\\\\274\\005V\\307ib\\021\\025HA\\275\\254\\224g\\007\\311dl?\\271\\222\\223\\275\\005fI\\242\\037.\\264\\264\\362M>\\360\\377p\\303\\327,\\304\\234}\\250#\\334*w\\346\\256\\307\\234\\320K\\361k\\016\\\"\\016\\033e\\330\\342\\035\\330\\234m\\247C\\031\\315^\\023K\\274\\272`a\\\\\\236\\214\\343\\322\\210\\2226y\\333F\\206\\201\\033\\373\\351\\230.\\223U\\223\\370\\227\\341+\\215r\\007\\244\\236d\\255\\237\\\\\\310\\204r\\274\\237\\276\\273\\325\\265AD\\367)\\001\\256\\3646\\351 \\334\\342Sz\\020\\356\\205\\333ZM\\355\\023\\231\\251\\234\\376\\347L\\212\\320\\352\\213\\212\\242\\2274\\321\\273\\206tq\\366\\267\\364K\\037\\002\\231\\212HCZ\\360\\306\\022\\2620XcSp\\331\\373\\002|\\021\\351*\\220\\017\\213\\n*\\255\\036\\361e2\\004Pf\\217\\355\\251\\241\\033\\270\\267\\2021\\267\\367^\\262\\233D\\333E.\\346#\\024u\\325\\2628\\304\\035\\204@\\0375h\\204S\\376\\001z%\\300\\304>\\321\\304\\300\\371\\000\\261\\276\\004\\373\\025Q\\202\\313\\376\\004j%/I\\244\\276\\223\\255[\\235\\231\\237b\\240\\020Aw\\002{\\313{r\\005\\\\\\202a\\351\\325\\2370\\375\\347\\340\\336W\\341#\\025\\010\\347\\221=\\213\\236.\\277H6\\000\\277\\002IX\\234\\t[.\\305a\\374\\337\\007\\020\\274~\\235N\\372\\337\\2759\\016\\342m\\017g\\273\\203\\230\\271\\024\\352\\037\\352\\246\\375f\\301\\245P\\nY\\374\\235\\301\\310\\365|\\243OM\\236\\016#ugX\\227\\361\\331[/h\\364(~\\352\\351Q\\270\\260h\\007`\\315^\\226\\334m\\222\\240\\357\\214\\032\\337\\245\\r\\237It\\007\\326\\304|e\\371\\226\\212\\347\\252\\355\\346\\370(rBQ\\276@\\245\\370\\321\\375\\320|\\205\\235\\033\\331\\357\\264!\\362\\251ZC|\\370w\\310\\304\\201\\222L\\327-\\032\\342\\322U\\274\\351\\200\\304\\024\\225ds\\037\\026\\205\\241\\251\\230\\326t\\3716\\356\\323+2\\351\\3429\\'/$\\340\\006\\361\\r\\001\\236n\\007\\000\\247,r\\2607?\\206\\220\\231\\370GLR\\334\\327b\\230\\250n\\033\\330\\\\i\\221\\357X\\304\\205\\254\\354i\\254\\207\\363<H\\205&e\\342\\027{\\037MCm3(V\\376\\343\\330\\235\\216Y\\235r:\\013L\\371\\360.\\371\\264\\312LS/W\\306\\006\\337\\221\\2021\\333#\\362\\006\\2044\\260\\210%\\352\\0031\\363F|b)\\032\\340c\\352\\274\\\\.\\311|R\\302Z?.\\220\\207\\005\\354\\320\\371\\312H\\323\\304\\352\\313\\221\\223r\\350rl\\026\\310 ^Q\\270\\270;\\371\\014\\361\\304\\303\\375\\013\\373\\266\\223\\030\\313\\021\\350c\\030\\352\\357\\243\\0216\\257@WQ\\021\\222:\\236\\013jz\\212\\022u\\2360{h\\030\\006\\240\\276h\\001\\273\\365!b\\240\\214\\366s\\013R\\361\\356\\313\\245\\325\\225\\315dY-q\\341\\302k\\225\\325\\013\\264c\\230>{\\223\\317\\351\\205\\215\\317\\372\\2354\\375m.Q\\257t\\215X\\303!\\256\\352k.R\\031TU\\235L\\r8\\256\\213k^\\374\\276\\212\\364~R\\033\\236O\\370\\306\\230\\314\\336r\\360\\361\\362oIe\\314qvm\\006\\332vaO\\305+J\\010R\\247\\300Y8\\367V\\361#\\346\\353`\\215Rlu\\255i\\332\\031q\\343\\376!\\036\\321\\\"w\\252\\227\\005\\377\\031\\034\\224.\\025\\211(vMX.\\326\\376\\272,\\340:\\2556\\370\\331\\233A\\373kH\\1771\\317\\201\\270\\0308\\250\\261\\201\\236P\\013\\022\\254LFG/\\026\\344h\\321O\\345\\247\\271\\215\\350\\002j\\334}s\\317\\006\\351\\343\\352~\\203k\\215\\265%)\\010\\245\\220jB_\\006O\\312\\343V\\377\\340\\223\\'@x\\302\\244\\210e`\\373\\201\\376%\\237\\255\\352\\315\\321\\3040\\250qe\\367~\\324q\\210\\270\\363\\025BT\\r@\\236\\2044\\236\\323\\357Un\\214\\212C2\\342kE!K\\002\\255\\314\\027S\\033\\213G\\002lc\\2150\\263\\362\\235\\024\\006T\\247#R=#\\025\\037jFUu\\363Q1\\305\\304\\002\\226\\371\\236\\265\\272*\\r\\244j~(\\002\\223\\342\\2775^7\\324Q\\006r\\362\\361\\341_\\200\\332\\342\\361]\\036\\217\\274\\357\\341\\274Z\\266d\\2061G\\262\\205\\327\\326E\\\\J\\264\\340#\\334\\370\\033z\\221\\242\\274\\035\\244J\\034\\232\\031\\316\\212\\313\\010W\\315t\\316\\202\\231\\006OR\\261\\025\\213\\332+\\304%|\\225+\\350\\314\\242\\377;\\330\\342+\\361\\014\\306Fi\\221\\304\\'\\004\\301\\036\\374\\270\\274g\\366\\352\\263Q\\230\\233\\321\\005\\273\\020\\006\\362\\241\\362\\301\\254vPN\\251\\274\\277\\333\\364^\\312G\\340\\\\\\354-/\\375S\\226*\\263\\371\\0008\\206\\223\\346w\\341Io\\364Vr\\232H\\210\\370\\014\\362,\\376\\tA\\363\\2716\\235\\332\\363\\r\\251h\\227\\273\\324%\\020\\333\\212\\tx\\362 \\217\\340>{\\177\\0206\\222\\3609\\022\\010\\341A\\272\\330a\\257q\\206\\363\\256\\230\\315zt\\231\\316\\305\\214\\001;\\327r\\212\\367`\\263\\216\\317\\222\\334%vW \\202\\366\\005W\\342u\\301\\005\\240\\014\\204.\\364\\361\\254\\353S\\354\\324\\204\\004r\\363\\361\\257Y\\240\\231|\\354\\263X\\314\\010\\313\\357\\t\\235\\203\\256q),\\005\\017\\3277YN\\2708\\270O\\347\\016\\327S\\373+\\027\\005\\347\\366\\320\\243\\305yv\\2412\\004\\344\\036\\356\\252\\265\\371HjE\\n\\346f\\3533D\\304t\\310Cd&\\275v\\217\\246\\\":5\\374\\331$\\265\\266R\\315\\357\\335\\266e\\262\\035\\305Bi\\001G\\257;S,MazYT4\\300}\\225\\233\\304$\\301\\340v\\tm\\032\\255\\3031\\274\\332mi\\226\\243\\261\\343ub\\013\\241$\\367\\024\\345\\262\\025\\\\\\244\\247\\274\\236\\311\\207\\270\\347#\\255\\034X!&A\\341t\\264P\\024r\\225\\371\\216K\\006JC\\270TQM\\253&*\\017\\230\\307\\342\\206\\305\\214\\017\\036^O\\255\\263>\\003S\\201\\001\\231Y\\263\\230K\\250\\330o\\314Q\\220\\273\\014\\026cs\\234\\000\\0133\\212\\304\\243\\375\\244\\265\\'\\323TG\\033I\\234!\\036A\\211S\\265\\300\\272\\375\\313\\351I\\372\\204\\355!Z!\\001\\022g\\256\\\"<\\237W\\231\\336`\\271\\3266\\260\\271\\'\\201\\030\\232\\254\\201\\246\\323\\203\\256\\313\\272\\r9\\'\\372\\374\\231\\257\\357\\036%GT\\\"\\034\\302n!\\277\\357\\354\\035N\\350\\211!\\331\\246i\\017\\010(\\335d\\305\\306.=\\3273Z\\212\\2336\\360\\257o\\360\\324\\207\\357\\333\\3658\\370c\\r~\\360\\371\\362\\226[\\310\\3353\\304;z&`\\277\\3646\\232\\222h\\3647&\\274E\\237\\256P\\240\\357\\323<5 \\313D\\3161\\373\\022\\207\\323\\225\\2169(\\255\\377\\037Pi\\202p\\305\\374L\\343\\037^\\300\\025_\\034\\226\\203\\231\\223e\\266\\235\\254f\\336\\223\\343\\262,\\363\\324\\226\\303\\374[\\333\\267\\310~\\334b\\256oNr\\013:\\003\\020\\246\\232\\340r\\'^l\\'\\322-\\220\\374\\222)\\301\\264\\233\\215\\362\\226)\\363\\361\\007\\215\\365,\\373R9^\\366)\\264/t\\366\\310$9\\346\\367\\322<\\275;\\004\\234\\013s\\376\\030\\036S[iP1\\275\\331\\315\\n:\\204\\253\\014\\341\\037\\021\\223|\\tou\\0001LFz\\016\\254\\320G\\024\\225d\\t\\337[-\\350\\263\\302/\\251P\\\\\\r\\304\\371u~\\213\\031\\202\\234\\205\\002\\235\\314\\270\\316\\3739\\177Ba\\321\\n\\317\\267\\343[e_\\206\\220\\177\\237v\\357\\007;\\304\\336f\\024\\213b\\356|\\224\\013\\252\\204\\223GF\\316\\241\\352\\006>K\\366KH\\310\\230\\2042\\200\\347\\017O\\025\\035\\372\\000\\3428\\330\\265!\\372\\210IW\\375-g\\254\\370\\027\\340\\325)$\\020X\\0255w3w}ne\\342\\007\\254M\\241\\266\\215I\\013\\242\\350\\367Ht\\236\\t\\246\\334\\223\\205\\360\\023+Wjd,\\242<\\363\\265\\314R.\\337\\202\\270a\\030\\006\\336u\\225t\\251\\253zu\\035\\335\\0254W\\364g4\\2237\\005\\352\\316~\\207\\035\\2339EC:;\\336W<\\326]\\3429E\\324\\000@H \\331\\004\\331\\321\\005\\375\\322!\\337\\235\\353\\213\\220v\\221 9s\\242\\301\\273\\252\\251m\\373\\256\\017\\365\\323\\033\\361b\\340\\376[\\366\\254\\236\\000\\267\\005\\311\\344WV\\373\\357\\234\\005\\267\\317\\253\\227\\342\\263<],\\346:\\352$\\337C>\\214\\301\\010y@\\231\\366\\252\\177\\211\\375\\366\\366,\\307&\\337\\001\\305\\017i\\317\\261\\204Y\\022\\220\\210\\331W#\\027\\017\\260\\tt\\372\\204\\200h\\361\\273L7\\344(\\202Q\\230W5@T3V\\256\\375\\003\\330T(\\226T\\037\\275\\376{7\\203\\260\\212.\\351\\034UA\\241\\222b\\251Y\\t\\354R\\352\\031\\371\\222-\\254;K\\317\\313\\013\\232$.\\244\\372\\316\\024g\\332\\\"\\0043~I;0\\343\\027?\\305\\211w\\337C\\2243i|c\\206\\216\\375f3\\333^\\333\\244\\240\\274\\253\\265p\\202\\3501\\234\\022g\\032~\\243\\034\\003\\253\\323\\365\\361\\331yH\\273R\\351!\\300-\\216m\\242\\224\\037\\363\\202\\231\\243!<8\\242\\037\\364\\016+^\\243\\235\\206\\016\\237\\240;\\331\\216\\331\\205\\343\\032\\233\\376\\3728\\302y.\\360\\261\\245(\\260\\332\\234\\214y\\375\\020.\\330\\207\\000^4\\200@\\037C\\377r\\323Q\\016\\226\\200\\332\\257\\224z|A\\347K\\202\\360\\333\\253\\227\\226|\\007B\\343\\013\\2462?M\\022\\225\\277.\\313\\353\\244\\361P\\207\\013\\2323\\t\\226\\342\\2423\\201\\223\\243\\030B\\014K\\264,\\277\\005)S>sc\\022t\\013\\225\\357\\325\\305J\\267#\\264\\361\\316\\r\\272\\264\\246\\'\\262\\003\\276\\275\\304\\t#|\\254\\r\\321BD\\373\\371|:0\\266\\257\\334v\\351\\311/le\\213N0\\025A\\322F/\\035\\334 \\3224\\242\\217x\\265\\373{\\336\\203\\241\\253\\222\\323\\203w\\247\\217\\275ZX\\314J\\243\\321)K\\2348w\\331\\212\\022g\\261\\266\\347\\224`{\\240h\\333\\263O\\\\\\232SJ+\\261\\334\\t\\374J\\222\\266\\010\\234\\360p\\345\\355\\221=\\273M\\234\\342\\374A/a\\304C[\\315X\\260\\030<\\245\\354\\373?\\240\\300\\347[`h\\272\\223\\247~\\217\\322(\\230\\373#\\252 2\\225b\\023\\320\\273\\311~<\\324y\\241x>\\030z4\\302\\\"\\302Y\\254\\033L\\324C\\327\\221x\\205\\352\\352T\\272\\351\\007\\272\\026Fu\\272\\300\\354\\323\\353\\033\\325\\264\\002\\341\\256\\263jv\\304|\\336n\\273C4\\354\\303\\031\\023\\260\\233\\302\\245\\254-l)\\362X\\034\\3253\\331\\316\\320v\\347\\276O\\0067\\361\\233\\021\\217\\3176\\276\\201\\372P)\\267T\\343\\251?\\256N}\\346z\\272S\\254\\230JW,\\336\\253\\326 <)\\361\\254\\373\\236\\355Y~8\\224_\\373M\\001\\373p53\\344\\311\\212A|[\\037[i\\261B/\\251\\035\\262\\216a\\243\\255\\366\\016\\234?\\327\\342^\\237\\245\\265,\\337\\324}wA\\256\\351\\204\\342\\274 \\277\\003}\\305oe\\344\\245\\035\\371\\345\\207CH}/\\364\\232Io\\3329!:\\342\\373\\322\\262\\377%\\226M\\244\\274\\377\\236\\310\\245\\272\\0100\\276\\360\\362\\'\\305m[\\366\\305\\353\\356u{\\221\\311\\rv\\350O\\236@\\001m\\\"\\236\\355\\374\\354\\231\\330~\\02240$\\\\\\263\\035\\330M\\263\\013=\\006\\320\\206\\302\\024\\361\\0206\\305D\\014>\\224P\\036\\377@\\n\\243rR\\313f\\006*\\336<\\370\\254]\\220\\221\\233\\317\\342e:\\344\\260B|-\\n\\356\\255\\357z\\302\\255\\353\\377%v R\\203\\370\\345\\025M\\266Ah\\021ZM\\321\\3545\\201\\017\\002{M(\\215z\\277\\204\\225\\325\\t\\226c\\263\\225\\024\\255`hl\\375sO\\272+9\\330\\3231K\\255\\253\\2620+\\340\\227\\257\\263\\325\\361\\241\\332\\r\\334a\\365\\221\\362\\352\\324\\260\\031\\273\\311P\\254\\377S\\3063\\334\\334\\265\\017\\373!+\\276T\\0101\\034x!\\310\\270\\337\\3167\\023\\035K\\340\\276\\331VH\\232\\006$\\225s\\017\\205\\270\\247\\027\\216TgW#\\2074\\262q8\\261\\303\\324\\001\\366G\\326u\\2503*1\\277z\\215\\253\\244\\275\\000\\335C\\017bMG\\036\\222\\264\\326\\034\\231\\363s\\271\\217\\034\\313\\033\\366\\361\\263\\026\\007\\201\\372n\\364\\215\\224@\\006\\361\\275\\275\\351\\224p\\253\\367\\230\\327YL\\264t1(k\\360\\276\\320\\241j\\236\\223\\241\\022\\357\\366>W\\256)\\266 M\\'\\301\\362\\245\\264o.\\231\\346?*\\001G\\000^\\010\\340\\227\\204\\014\\375;>\\223I.-\\354\\241\\210\\237i\\217\\352\\036(\\035G\\022mYVt\\365\\020\\225?MP\\355\\212\\002\\203\\010\\335 \\2173\\017\\357&\\204\\3566\\032\\375\\215\\340\\340\\014o\\231\\210W:9I;\\232\\265\\266\\n\\333xC!.!\\260IB5\\226\\216\\357\\013\\275\\236\\346\\177l\\323\\354\\204\\250N}\\253\\017\\334@\\341\\257\\243\\202\\252\\354.89p\\213\\006\\273\\312\\300\\022\\320\\316\\226\\256-7\\313\\327r\\266\\361\\272\\365\\2572u\\024O\\204\\0040n\\336\\020\\036&:\\306\\267 \\222\\024\\006\\'\\\"\\336\\002\\335\\350\\357\\362\\300\\335zY\\rsc\\272\\036a\\275\\271@W$\\037\\250\\221\\367#\\347\\201t\\2210\\305D\\n~d\\2772\\241\\020\\250r\\223\\227q\\233\\227=H\\313M\\3743<\\222p>\\317\\032p\\210\\261\\020\\334\\255~\\311J_\\255G\\343\\251\\361\\026\\013^\\315\\021\\256<\\367\\364!\\325(\\3377R\\207w\\375Ic\\351\\3667\\3406q\\027|\\327\\014f\\216\\366\\355\\301\\233~\\315\\217\\315\\250=m\\026 \\210\\316\\243N\\347\\247[N8S\\261\\225\\207u\\365w\\333X1\\273\\023\\322\\013=J\\021\\030O\\322\\n\\010\\302\\256\\313N\\253\\303\\24582p\\034p\\324\\241<y\\350\\003ox+A\\241]\\t\\347]`!K|\\016\\210\\306\\320\\305\\204j\\354\\334bw\\250&o\\033\\342~C\\347\\374\\334p\\027\\000\\325\\374\\255\\266\\'\\354\\327\\006h\\333\\265o\\003\\244x\\263\\365\\350\\025\\270\\227c\\212.\\247\\246\\314\\254\\244\\240\\212\\315\\360\\217\\362G\\213\\366kf\\021\\256\\006d\\372\\353N~\\321\\303\\007\\321Y\\346\\347\\243\\2323\\310\\2514\\255\\236{\\346T \\230g\\352\\265\\034M{\\353\\275\\317G\\313\\220\\021E\\230\\236C\\362\\004\\360F\\006\\004*\\364\\201\\255C\\364\\315\\023\\373$\\310\\037\\243\\312@l\\371\\202\\356\\220\\314V\\362\\252\\316D\\022\\247\\032\\301\\271\\2212A\\3048\\374L\\212E\\211\\033\\341\\372\\345\\r\\341\\016\\317}\\370}\\313Y\\256\\340\\327\\034\\010\\231\\226\\221,\\373#\\262?\\016\\347C8\\260\\253R\\243\\243\\262\\265\\233\\002\\203\\201\\372E\\255\\202\\355\\\"\\214\\246\\313n\\3515\\033\\316\\206\\356\\206\\253\\347Z?\\3201\\3732\\303\\316\\004\\243<e2\\327`\\326\\nBa\\253\\263\\\"\\233\\263\\205\\376\\273L\\332n\\332\\003\\200g\\237\\235?\\275\\220\\245\\351L\\3279\\005h\\203n\\244\\361\\022\\351\\371\\247v^\\333\\351\\217/)93\\261\\345\\311\\r\\351M\\305Y\\236\\205\\347\\304\\033\\324\\001_\\346K\\r\\002\\331\\250\\2426\\261\\360\\360\\273q\\317[\\314\\314_6\\354\\023\\013)\\342\\305\\344\\363X\\037\\316\\361?\\337*\\315\\211\\013e\\007\\027\\r\\243\\256\\307~N}q^\\370Xl\\222\\261YtL\\225\\001\\027\\232\\005\\r\\372\\263F\\256\\371H\\361,5-y\\350\\301\\034bj\\010\\302@f}\\006\\305\\021\\300\\356\\3372\\312\\306G\\303\\027\\340\\342\\312\\272\\346w0\\\"\\223\\037\\242b\\274@$|qjo\\010\\330^\\355\\326\\223\\221\\233_\\212\\343lI\\357^\\307Xw\\314m\\375\\310\\224\\351bq\\276\\377\\266\\363\\032e7\\203\\235p\\025r\\215\\312\\205g4A}\\024z\\t~\\260\\266\\251\\332/(\\321\\360\\300\\210Fp\\270o\\'.1B\\275\\327\\2419a\\237o#\\000\\201\\265$\\027\\021\\203[U\\351\\257\\264\\321\\0104\\303\\350\\177\\205w\\221w\\230\\343r\\235\\2770\\326\\245\\250H\\330\\021\\320<\\023]\\336\\324\\001\\333vig\\273\\314\\304\\300\\257\\0237E\\004T\\260\\003\\317\\374\\223\\234\\032R\\241\\267%D6\\345\\231z\\345f\\001JJ\\212|^CH\\335\\205s\\226L\\3637\\236\\250\\244\\010\\331j\\270\\270k\\323\\036\\031\\\"\\006\\323@(\\375;(\\202\\321\\376d^7\\234P\\032c\\364\\031Pw\\021\\n\\200\\007\\217\\017?N{n\\271\\246\\312\\217R\\212\\203\\243\\2762\\330\\376qS\\3146\\035\\346J\\364\\370\\376%1\\\"\\362\\256\\330\\225\\016\\000\\271P\\026\\267\\362\\n<<W\\325`\\313\\\\\\006y\\340kfw\\252_\\272\\353\\017\\254Y\\276\\344\\256\\217\\364\\341\\221W8\\237WXB\\213\\023\\037\\336\\335\\263\\354\\216l\\336\\305\\266?\\311s\\343Bz\\227,\\205V\\222_\\301}\\271\\004Ya\\200\\347\\247@\\204E\\322s\\325Fnb-\\337\\370\\254E\\373\\204\\370O\\036\\202S\\300\\224\\024\\246\\211c\\273w\\033Fs\\342&T\\214\\n@\\213\\250\\215\\216<\\367-\\332\\315\\252\\335\\256:\\205\\r\\306%\\352\\020\\006\\3500d$\\334\\0176\\333E\\324\\352UW;\\311_s\\350\\341\\275L\\263O\\310\\236,\\263\\317Zm\\334r\\000p\\2534\\303\\304\\010zV\\326y\\351\\034\\201+VV \\337\\003\\2133\\325 \\251\\036\\333\\\\\\256Z\\314\\343j\\226\\215\\212\\\\^{$\\262\\247\\204%X\\027\\025\\342z4J\\334#\\274\\240\\352=\\361\\036\\013\\t\\333\\201\\316\\022\\334\\251F\\274\\265\\000\\306\\342\\306\\002\\233\\316 \\246\\n\\032\\312\\264\\376x\\2222\\320\\327\\021\\2756\\214\\023;\\004\\277x\\307z\\347oNNxf\\334)FmJ\\240+[X\\251\\024\\374\\307\\n\\234\\010\\3762Wg\\257\\345\\270\\276\\'\\316\\327*}6y\\001\\323\\007\\305\\257\\250\\312\\273\\300\\353rC+\\254|\\257\\033t4^i\\n\\225\\305\\246\\361\\360@\\226\\247o\\330^\\360h|\\270\\317\\357\\005\\001\\373\\305\\240\\331\\314p\\237\\274\\013A\\251oU\\007\\207\\270\\357P\\027\\373\\347\\240\\016/\\322\\267\\032;\\370\\206\\304\\305\\016\\204u\\022d\\315Pq\\317\\233\\231)\\324\\347\\242\\013\\342k*\\336\\251\\340X\\374\\275\\335\\232\\242\\277p\\226p\\211Nz\\2538\\373\\371h\\317\\211\\365\\274\\336\\344\\2252\\2658\\246ZH\\301\\000\\020rC;\\340\\310Y\\276\\245\\251@\\002T\\271e\\276\\212\\010\\350\\016\\005\\n\\361\\022\\275\\\\\\005>*\\371\\023\\024\\033\\t\\221\\326\\234\\010L\\350ark\\201\\021\\263\\377`\\25171L\\272|\\310\\236\\234\\271\\237\\276\\245\\324\\251\\025a\\242\\360\\247\\341\\r\\246\\266|&r\\204\\355=\\356\\255\\305O\\3174\\366\\240\\310\\215\\240\\302?\\357E\\352S\\355\\217\\026f\\214\\325FK\\225\\202A\\375Q\\247\\030G\\376!5\\307\\266\\n}R\\022\\333bO\\333?\\265\\302\\303\\330\\263XSs\\254\\374\\234\\023J\\344l\\240EB\\271\\303\\007\\030\\341\\317\\266\\025^e\\033\\347~\\366Pt2\\026\\223\\316\\\\r\\340D\\177\\025VG\\'f\\267\\201&\\300\\210\\\\\\267p\\365Y\\235B\\207z\\346\\302\\255\\246\\353Q\\322\\037\\027F(\\001r\\356\\033bA7w\\264\\212|`M\\312\\356\\370|\\237\\350i\\211\\3120\\000\\2615#\\nj\\246\\223*\\033`i{\\361\\310/\\221\\263\\025\\233\\331\\202\\2625\\367t\\330\\202w=)\\333Pn\\307\\277gL\\307Q\\305\\030\\2371\\340\\363}\\223\\367\\361\\224\\0275\\313\\\"\\372\\033@\\000\\316\\362\\2116R!!\\243SaY\\247h=\\027\\006A\\324sLD\\345)\\221\\303\\327\\344\\375\\310^\\016\\301W_\\010\\372V\\220i\\340\\322\\026\\351\\245\\032\\321\\316\\\"\\266\\326\\261\\275\\022\\363\\302}m{2\\255Z\\357\\\\8\\204\\360hP\\301\\223\\247\\204\\212\\003\""
     },
     "execution_count": 37,
     "metadata": {},
     "output_type": "execute_result"
    }
   ],
   "source": [
    "psi_client.setup_info"
   ],
   "metadata": {
    "collapsed": false,
    "pycharm": {
     "name": "#%%\n"
    }
   }
  },
  {
   "cell_type": "code",
   "execution_count": 38,
   "outputs": [
    {
     "name": "stdout",
     "output_type": "stream",
     "text": [
      "1. 客户端发送 request\n",
      "2. 等待服务端返回 response\n",
      "3. 获取 response\n"
     ]
    },
    {
     "name": "stderr",
     "output_type": "stream",
     "text": [
      "[2021-12-31T16:51:28.908858+0800][CRITICAL][logger]][12424] You do not have permission to .get() Object with ID: <UID: 07390f0bd4074293bc403a90dbd4ce57> on node esf Please submit a request.\n"
     ]
    },
    {
     "name": "stdout",
     "output_type": "stream",
     "text": [
      "4. 计算 intersection\n"
     ]
    }
   ],
   "source": [
    "_, intersected_items2 = psi_client.intersect()"
   ],
   "metadata": {
    "collapsed": false,
    "pycharm": {
     "name": "#%%\n"
    }
   }
  },
  {
   "cell_type": "code",
   "execution_count": 39,
   "outputs": [
    {
     "data": {
      "text/plain": "1259"
     },
     "execution_count": 39,
     "metadata": {},
     "output_type": "execute_result"
    }
   ],
   "source": [
    "_"
   ],
   "metadata": {
    "collapsed": false,
    "pycharm": {
     "name": "#%%\n"
    }
   }
  },
  {
   "cell_type": "code",
   "execution_count": 40,
   "outputs": [
    {
     "data": {
      "text/plain": "['450007691', '466742559', '-1557623790', '-1585423580', '-1966399277']"
     },
     "execution_count": 40,
     "metadata": {},
     "output_type": "execute_result"
    }
   ],
   "source": [
    "intersected_items2[0:5]"
   ],
   "metadata": {
    "collapsed": false,
    "pycharm": {
     "name": "#%%\n"
    }
   }
  },
  {
   "cell_type": "code",
   "execution_count": null,
   "outputs": [],
   "source": [],
   "metadata": {
    "collapsed": false,
    "pycharm": {
     "name": "#%%\n"
    }
   }
  },
  {
   "cell_type": "code",
   "execution_count": null,
   "outputs": [],
   "source": [],
   "metadata": {
    "collapsed": false,
    "pycharm": {
     "name": "#%%\n"
    }
   }
  },
  {
   "cell_type": "code",
   "execution_count": 41,
   "outputs": [],
   "source": [
    "sub_positions = []\n",
    "inter_set = set(intersected_items2)\n",
    "for index, value in enumerate(ids):\n",
    "    if str(value) in inter_set:\n",
    "        sub_positions.append(index)\n"
   ],
   "metadata": {
    "collapsed": false,
    "pycharm": {
     "name": "#%%\n"
    }
   }
  },
  {
   "cell_type": "code",
   "execution_count": 42,
   "outputs": [
    {
     "data": {
      "text/plain": "[0,\n 8,\n 12,\n 18,\n 22,\n 26,\n 34,\n 38,\n 40,\n 50,\n 60,\n 66,\n 68,\n 84,\n 90,\n 92,\n 94,\n 96,\n 104,\n 106,\n 108,\n 112,\n 118,\n 128,\n 130,\n 140,\n 156,\n 182,\n 188,\n 192,\n 196,\n 202,\n 208,\n 210,\n 214,\n 244,\n 254,\n 306,\n 310,\n 324,\n 326,\n 328,\n 334,\n 350,\n 352,\n 362,\n 372,\n 408,\n 422,\n 430,\n 440,\n 454,\n 456,\n 474,\n 478,\n 482,\n 500,\n 502,\n 510,\n 514,\n 520,\n 528,\n 544,\n 546,\n 550,\n 560,\n 562,\n 566,\n 572,\n 574,\n 586,\n 594,\n 600,\n 602,\n 606,\n 620,\n 628,\n 638,\n 646,\n 650,\n 652,\n 666,\n 668,\n 680,\n 692,\n 702,\n 740,\n 742,\n 744,\n 758,\n 766,\n 774,\n 782,\n 786,\n 800,\n 804,\n 806,\n 824,\n 828,\n 838,\n 844,\n 848,\n 856,\n 862,\n 866,\n 872,\n 876,\n 878,\n 884,\n 888,\n 890,\n 894,\n 896,\n 900,\n 902,\n 906,\n 912,\n 914,\n 936,\n 972,\n 984,\n 990,\n 992,\n 996,\n 1014,\n 1016,\n 1024,\n 1028,\n 1034,\n 1046,\n 1050,\n 1052,\n 1054,\n 1064,\n 1066,\n 1082,\n 1096,\n 1100,\n 1106,\n 1120,\n 1124,\n 1132,\n 1134,\n 1142,\n 1148,\n 1190,\n 1200,\n 1210,\n 1238,\n 1242,\n 1246,\n 1258,\n 1260,\n 1272,\n 1292,\n 1302,\n 1338,\n 1346,\n 1356,\n 1372,\n 1376,\n 1378,\n 1388,\n 1392,\n 1394,\n 1398,\n 1412,\n 1416,\n 1440,\n 1450,\n 1454,\n 1456,\n 1460,\n 1474,\n 1476,\n 1484,\n 1506,\n 1508,\n 1510,\n 1518,\n 1522,\n 1524,\n 1536,\n 1546,\n 1550,\n 1552,\n 1558,\n 1562,\n 1568,\n 1576,\n 1584,\n 1586,\n 1592,\n 1602,\n 1614,\n 1616,\n 1618,\n 1620,\n 1622,\n 1628,\n 1648,\n 1658,\n 1690,\n 1702,\n 1728,\n 1730,\n 1740,\n 1744,\n 1750,\n 1756,\n 1764,\n 1766,\n 1772,\n 1776,\n 1782,\n 1784,\n 1786,\n 1790,\n 1792,\n 1806,\n 1810,\n 1812,\n 1840,\n 1844,\n 1852,\n 1878,\n 1888,\n 1890,\n 1892,\n 1902,\n 1906,\n 1910,\n 1914,\n 1924,\n 1926,\n 1932,\n 1936,\n 1938,\n 1956,\n 1968,\n 1978,\n 1984,\n 1990,\n 1992,\n 1994,\n 1998,\n 2006,\n 2010,\n 2016,\n 2018,\n 2020,\n 2026,\n 2028,\n 2054,\n 2076,\n 2080,\n 2090,\n 2094,\n 2106,\n 2112,\n 2118,\n 2120,\n 2126,\n 2134,\n 2144,\n 2146,\n 2148,\n 2152,\n 2164,\n 2178,\n 2182,\n 2198,\n 2200,\n 2216,\n 2220,\n 2222,\n 2224,\n 2240,\n 2244,\n 2252,\n 2264,\n 2270,\n 2282,\n 2296,\n 2312,\n 2332,\n 2338,\n 2346,\n 2364,\n 2370,\n 2372,\n 2378,\n 2384,\n 2392,\n 2404,\n 2412,\n 2416,\n 2420,\n 2426,\n 2428,\n 2432,\n 2454,\n 2466,\n 2468,\n 2470,\n 2492,\n 2500,\n 2510,\n 2514,\n 2526,\n 2540,\n 2542,\n 2544,\n 2558,\n 2564,\n 2570,\n 2572,\n 2586,\n 2594,\n 2598,\n 2610,\n 2614,\n 2618,\n 2620,\n 2624,\n 2628,\n 2652,\n 2680,\n 2684,\n 2688,\n 2704,\n 2710,\n 2712,\n 2716,\n 2726,\n 2734,\n 2752,\n 2776,\n 2780,\n 2786,\n 2828,\n 2832,\n 2840,\n 2852,\n 2854,\n 2860,\n 2862,\n 2870,\n 2872,\n 2876,\n 2888,\n 2902,\n 2908,\n 2916,\n 2920,\n 2936,\n 2938,\n 2940,\n 2954,\n 2956,\n 2958,\n 2966,\n 2978,\n 2986,\n 2990,\n 2994,\n 3000,\n 3004,\n 3006,\n 3008,\n 3018,\n 3022,\n 3026,\n 3040,\n 3046,\n 3056,\n 3058,\n 3064,\n 3066,\n 3080,\n 3090,\n 3096,\n 3102,\n 3114,\n 3130,\n 3136,\n 3140,\n 3146,\n 3156,\n 3164,\n 3174,\n 3176,\n 3180,\n 3184,\n 3190,\n 3192,\n 3198,\n 3200,\n 3208,\n 3216,\n 3224,\n 3240,\n 3246,\n 3252,\n 3270,\n 3272,\n 3274,\n 3278,\n 3304,\n 3306,\n 3328,\n 3340,\n 3342,\n 3360,\n 3368,\n 3370,\n 3384,\n 3394,\n 3400,\n 3402,\n 3406,\n 3414,\n 3430,\n 3438,\n 3466,\n 3468,\n 3472,\n 3480,\n 3486,\n 3488,\n 3494,\n 3502,\n 3506,\n 3530,\n 3538,\n 3540,\n 3546,\n 3548,\n 3566,\n 3568,\n 3574,\n 3582,\n 3586,\n 3590,\n 3604,\n 3606,\n 3608,\n 3614,\n 3620,\n 3622,\n 3626,\n 3632,\n 3642,\n 3644,\n 3646,\n 3682,\n 3704,\n 3714,\n 3720,\n 3724,\n 3738,\n 3748,\n 3754,\n 3760,\n 3766,\n 3776,\n 3794,\n 3826,\n 3830,\n 3846,\n 3862,\n 3866,\n 3868,\n 3874,\n 3880,\n 3898,\n 3900,\n 3908,\n 3914,\n 3926,\n 3934,\n 3938,\n 3946,\n 3966,\n 3970,\n 3974,\n 3982,\n 4002,\n 4006,\n 4022,\n 4024,\n 4028,\n 4054,\n 4066,\n 4068,\n 4076,\n 4086,\n 4088,\n 4104,\n 4108,\n 4110,\n 4114,\n 4126,\n 4138,\n 4140,\n 4142,\n 4146,\n 4152,\n 4164,\n 4166,\n 4170,\n 4174,\n 4182,\n 4184,\n 4192,\n 4198,\n 4202,\n 4208,\n 4232,\n 4238,\n 4242,\n 4250,\n 4254,\n 4264,\n 4266,\n 4270,\n 4274,\n 4278,\n 4300,\n 4302,\n 4306,\n 4310,\n 4312,\n 4320,\n 4326,\n 4330,\n 4346,\n 4348,\n 4360,\n 4374,\n 4378,\n 4384,\n 4386,\n 4390,\n 4392,\n 4400,\n 4408,\n 4412,\n 4414,\n 4418,\n 4432,\n 4444,\n 4472,\n 4474,\n 4492,\n 4494,\n 4506,\n 4510,\n 4528,\n 4540,\n 4544,\n 4562,\n 4566,\n 4570,\n 4574,\n 4584,\n 4596,\n 4602,\n 4606,\n 4610,\n 4618,\n 4622,\n 4624,\n 4644,\n 4648,\n 4650,\n 4654,\n 4664,\n 4666,\n 4682,\n 4694,\n 4716,\n 4718,\n 4720,\n 4734,\n 4742,\n 4748,\n 4750,\n 4768,\n 4778,\n 4788,\n 4798,\n 4806,\n 4824,\n 4844,\n 4854,\n 4866,\n 4882,\n 4900,\n 4912,\n 4924,\n 4944,\n 4958,\n 4964,\n 4966,\n 4978,\n 4982,\n 4996,\n 5002,\n 5008,\n 5016,\n 5032,\n 5036,\n 5038,\n 5046,\n 5052,\n 5054,\n 5068,\n 5074,\n 5076,\n 5080,\n 5084,\n 5086,\n 5092,\n 5098,\n 5108,\n 5116,\n 5128,\n 5134,\n 5142,\n 5148,\n 5154,\n 5166,\n 5168,\n 5172,\n 5188,\n 5198,\n 5200,\n 5210,\n 5216,\n 5220,\n 5234,\n 5244,\n 5246,\n 5252,\n 5278,\n 5280,\n 5288,\n 5308,\n 5310,\n 5316,\n 5318,\n 5340,\n 5344,\n 5348,\n 5352,\n 5366,\n 5372,\n 5382,\n 5396,\n 5406,\n 5408,\n 5414,\n 5428,\n 5430,\n 5432,\n 5434,\n 5446,\n 5456,\n 5458,\n 5462,\n 5466,\n 5472,\n 5482,\n 5498,\n 5500,\n 5508,\n 5512,\n 5516,\n 5522,\n 5532,\n 5540,\n 5544,\n 5548,\n 5562,\n 5566,\n 5572,\n 5582,\n 5586,\n 5588,\n 5602,\n 5608,\n 5644,\n 5648,\n 5650,\n 5652,\n 5658,\n 5660,\n 5664,\n 5666,\n 5668,\n 5674,\n 5678,\n 5696,\n 5702,\n 5704,\n 5706,\n 5712,\n 5716,\n 5720,\n 5736,\n 5744,\n 5746,\n 5752,\n 5762,\n 5766,\n 5770,\n 5780,\n 5784,\n 5792,\n 5802,\n 5804,\n 5810,\n 5828,\n 5830,\n 5842,\n 5860,\n 5866,\n 5874,\n 5876,\n 5888,\n 5902,\n 5910,\n 5926,\n 5932,\n 5934,\n 5940,\n 5948,\n 5966,\n 5976,\n 5984,\n 6006,\n 6010,\n 6014,\n 6016,\n 6028,\n 6030,\n 6058,\n 6060,\n 6080,\n 6082,\n 6086,\n 6088,\n 6096,\n 6098,\n 6102,\n 6106,\n 6118,\n 6122,\n 6134,\n 6136,\n 6140,\n 6142,\n 6150,\n 6162,\n 6194,\n 6198,\n 6204,\n 6206,\n 6208,\n 6216,\n 6240,\n 6246,\n 6248,\n 6250,\n 6252,\n 6286,\n 6314,\n 6322,\n 6332,\n 6346,\n 6350,\n 6352,\n 6370,\n 6374,\n 6380,\n 6390,\n 6394,\n 6396,\n 6408,\n 6410,\n 6414,\n 6418,\n 6428,\n 6436,\n 6450,\n 6456,\n 6476,\n 6480,\n 6484,\n 6488,\n 6500,\n 6502,\n 6504,\n 6508,\n 6514,\n 6518,\n 6526,\n 6542,\n 6544,\n 6554,\n 6556,\n 6558,\n 6564,\n 6566,\n 6570,\n 6572,\n 6576,\n 6586,\n 6594,\n 6602,\n 6606,\n 6608,\n 6618,\n 6628,\n 6630,\n 6636,\n 6660,\n 6662,\n 6664,\n 6668,\n 6672,\n 6676,\n 6688,\n 6694,\n 6702,\n 6706,\n 6708,\n 6710,\n 6718,\n 6722,\n 6724,\n 6728,\n 6732,\n 6738,\n 6774,\n 6776,\n 6788,\n 6792,\n 6800,\n 6808,\n 6814,\n 6818,\n 6820,\n 6822,\n 6828,\n 6832,\n 6852,\n 6858,\n 6860,\n 6872,\n 6874,\n 6882,\n 6884,\n 6888,\n 6898,\n 6900,\n 6902,\n 6904,\n 6910,\n 6912,\n 6916,\n 6922,\n 6924,\n 6934,\n 6938,\n 6940,\n 6944,\n 6954,\n 6964,\n 6970,\n 6972,\n 6976,\n 6982,\n 6984,\n 6988,\n 7006,\n 7020,\n 7024,\n 7066,\n 7072,\n 7076,\n 7084,\n 7098,\n 7102,\n 7104,\n 7108,\n 7110,\n 7114,\n 7118,\n 7144,\n 7152,\n 7154,\n 7160,\n 7162,\n 7180,\n 7186,\n 7192,\n 7216,\n 7218,\n 7226,\n 7236,\n 7250,\n 7260,\n 7270,\n 7280,\n 7286,\n 7308,\n 7310,\n 7312,\n 7318,\n 7322,\n 7330,\n 7352,\n 7364,\n 7378,\n 7406,\n 7408,\n 7410,\n 7412,\n 7430,\n 7432,\n 7434,\n 7454,\n 7472,\n 7476,\n 7480,\n 7484,\n 7488,\n 7496,\n 7500,\n 7506,\n 7518,\n 7520,\n 7530,\n 7534,\n 7544,\n 7548,\n 7558,\n 7560,\n 7586,\n 7590,\n 7594,\n 7596,\n 7616,\n 7640,\n 7650,\n 7654,\n 7660,\n 7668,\n 7684,\n 7686,\n 7690,\n 7692,\n 7694,\n 7702,\n 7710,\n 7712,\n 7722,\n 7732,\n 7736,\n 7742,\n 7760,\n 7762,\n 7764,\n 7768,\n 7774,\n 7794,\n 7808,\n 7812,\n 7816,\n 7824,\n 7834,\n 7836,\n 7842,\n 7856,\n 7862,\n 7894,\n 7908,\n 7914,\n 7916,\n 7918,\n 7924,\n 7928,\n 7944,\n 7950,\n 7956,\n 7966,\n 7972,\n 7984,\n ...]"
     },
     "execution_count": 42,
     "metadata": {},
     "output_type": "execute_result"
    }
   ],
   "source": [
    "\n",
    "sub_positions"
   ],
   "metadata": {
    "collapsed": false,
    "pycharm": {
     "name": "#%%\n"
    }
   }
  },
  {
   "cell_type": "code",
   "execution_count": 43,
   "outputs": [],
   "source": [
    "sub_matrix = []\n",
    "for i in range(len(intersected_items2)):\n",
    "    line = []\n",
    "    for j in range(len(ids)):\n",
    "        if j == sub_positions[i]:\n",
    "            line.append(1)\n",
    "        else:\n",
    "            line.append(0)\n",
    "    sub_matrix.append(line)\n"
   ],
   "metadata": {
    "collapsed": false,
    "pycharm": {
     "name": "#%%\n"
    }
   }
  },
  {
   "cell_type": "code",
   "execution_count": 44,
   "outputs": [
    {
     "data": {
      "text/plain": "array([2180872, 2052307, 9050969, ..., 3962364, 8727695, 9173389])\n\n (The data printed above is synthetic - it's an imitation of the real data.)"
     },
     "execution_count": 44,
     "metadata": {},
     "output_type": "execute_result"
    }
   ],
   "source": [
    "zetyun_value_ptr = zetyun.datasets[0][\"zetyun_value\"]\n",
    "zetyun_value_ptr"
   ],
   "metadata": {
    "collapsed": false,
    "pycharm": {
     "name": "#%%\n"
    }
   }
  },
  {
   "cell_type": "code",
   "execution_count": 45,
   "outputs": [],
   "source": [
    "zetyun_value_ptr.request(reason=\"获取zetyun_value\")\n",
    "[x for x in zetyun.requests.requests if x.request_description == \"获取zetyun_value\"][0].grant()"
   ],
   "metadata": {
    "collapsed": false,
    "pycharm": {
     "name": "#%%\n"
    }
   }
  },
  {
   "cell_type": "code",
   "execution_count": 46,
   "outputs": [
    {
     "data": {
      "text/plain": "numpy.ndarray"
     },
     "execution_count": 46,
     "metadata": {},
     "output_type": "execute_result"
    }
   ],
   "source": [
    "zetyun_value_tensor = zetyun_value_ptr.get(delete_obj=False)\n",
    "zetyun_value = zetyun_value_tensor.child.child\n",
    "type(zetyun_value)"
   ],
   "metadata": {
    "collapsed": false,
    "pycharm": {
     "name": "#%%\n"
    }
   }
  },
  {
   "cell_type": "code",
   "execution_count": 47,
   "outputs": [
    {
     "data": {
      "text/plain": "(10000,)"
     },
     "execution_count": 47,
     "metadata": {},
     "output_type": "execute_result"
    }
   ],
   "source": [
    "zetyun_value_tensor.shape"
   ],
   "metadata": {
    "collapsed": false,
    "pycharm": {
     "name": "#%%\n"
    }
   }
  },
  {
   "cell_type": "code",
   "execution_count": 48,
   "outputs": [],
   "source": [
    "import numpy as np\n",
    "zetyun_slice = np.array(sub_matrix) @ zetyun_value"
   ],
   "metadata": {
    "collapsed": false,
    "pycharm": {
     "name": "#%%\n"
    }
   }
  },
  {
   "cell_type": "code",
   "execution_count": 49,
   "outputs": [
    {
     "name": "stdout",
     "output_type": "stream",
     "text": [
      "(1259,)\n",
      "[  87389 8779892   49139 9464883    5450]\n"
     ]
    }
   ],
   "source": [
    "# print(np.array(sub_matrix))\n",
    "# print(type(zetyun_slice))\n",
    "print(zetyun_slice.shape)\n",
    "print(zetyun_slice[0:5])"
   ],
   "metadata": {
    "collapsed": false,
    "pycharm": {
     "name": "#%%\n"
    }
   }
  },
  {
   "cell_type": "code",
   "execution_count": 52,
   "outputs": [],
   "source": [],
   "metadata": {
    "collapsed": false,
    "pycharm": {
     "name": "#%%\n"
    }
   }
  },
  {
   "cell_type": "code",
   "execution_count": 50,
   "outputs": [
    {
     "data": {
      "text/plain": "<ListPointer -> esf:6dc91b0858064227a367c5c3e067a206>"
     },
     "execution_count": 50,
     "metadata": {},
     "output_type": "execute_result"
    }
   ],
   "source": [
    "sy.lib.python.List(intersected_items2).send(esf, pointable=True, tags=[\"intersected_items2\"], description=\"intersected_items2\")"
   ],
   "metadata": {
    "collapsed": false,
    "pycharm": {
     "name": "#%%\n"
    }
   }
  },
  {
   "cell_type": "code",
   "execution_count": 51,
   "outputs": [],
   "source": [
    "zetyun.users.create(\n",
    "    **{\n",
    "        \"name\": \"esf\",\n",
    "        \"email\": \"sample3@zetyun.com\",\n",
    "        \"password\": \"zetyun\",\n",
    "        \"budget\":200\n",
    "    }\n",
    ")"
   ],
   "metadata": {
    "collapsed": false,
    "pycharm": {
     "name": "#%%\n"
    }
   }
  },
  {
   "cell_type": "code",
   "execution_count": 52,
   "outputs": [
    {
     "data": {
      "text/plain": "<TensorPointer -> esf:49dcaec9fe0f430fa03d306da86c99fd>"
     },
     "execution_count": 52,
     "metadata": {},
     "output_type": "execute_result"
    }
   ],
   "source": [
    "sy.Tensor(zetyun_slice).send(esf, pointable=True, tags=[\"zetyun_slice\"], description=\"zetyun_slice\")"
   ],
   "metadata": {
    "collapsed": false,
    "pycharm": {
     "name": "#%%\n"
    }
   }
  },
  {
   "cell_type": "code",
   "execution_count": null,
   "outputs": [],
   "source": [],
   "metadata": {
    "collapsed": false,
    "pycharm": {
     "name": "#%%\n"
    }
   }
  },
  {
   "cell_type": "code",
   "execution_count": null,
   "outputs": [],
   "source": [],
   "metadata": {
    "collapsed": false,
    "pycharm": {
     "name": "#%%\n"
    }
   }
  },
  {
   "cell_type": "code",
   "execution_count": null,
   "outputs": [],
   "source": [],
   "metadata": {
    "collapsed": false,
    "pycharm": {
     "name": "#%%\n"
    }
   }
  },
  {
   "cell_type": "code",
   "execution_count": null,
   "outputs": [],
   "source": [],
   "metadata": {
    "collapsed": false,
    "pycharm": {
     "name": "#%%\n"
    }
   }
  }
 ],
 "metadata": {
  "kernelspec": {
   "display_name": "Python 3",
   "language": "python",
   "name": "python3"
  },
  "language_info": {
   "codemirror_mode": {
    "name": "ipython",
    "version": 2
   },
   "file_extension": ".py",
   "mimetype": "text/x-python",
   "name": "python",
   "nbconvert_exporter": "python",
   "pygments_lexer": "ipython2",
   "version": "2.7.6"
  }
 },
 "nbformat": 4,
 "nbformat_minor": 0
}