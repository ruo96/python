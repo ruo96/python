{
 "cells": [
  {
   "cell_type": "code",
   "execution_count": 1,
   "outputs": [],
   "source": [
    "import syft as sy"
   ],
   "metadata": {
    "collapsed": false,
    "pycharm": {
     "name": "#%%\n"
    }
   }
  },
  {
   "cell_type": "code",
   "execution_count": 3,
   "outputs": [
    {
     "name": "stdout",
     "output_type": "stream",
     "text": [
      "WARNING: CHANGE YOUR USERNAME AND PASSWORD!!! \n",
      "\n",
      "Anyone can login as an admin to your node right now because your password is still the default PySyft username and password!!!\n",
      "\n",
      "Connecting to http://172.20.58.117:8081/... done! \t Logging into scc... done!\n"
     ]
    }
   ],
   "source": [
    "scc = sy.login(url=\"http://172.20.58.117:8081/\", email=\"info@openmined.org\", password=\"changethis\")"
   ],
   "metadata": {
    "collapsed": false,
    "pycharm": {
     "name": "#%%\n"
    }
   }
  },
  {
   "cell_type": "code",
   "execution_count": 4,
   "outputs": [
    {
     "data": {
      "text/plain": "<syft.core.node.common.client_manager.user_api.UserRequestAPI at 0x1d3ef07df70>",
      "text/html": "<div>\n<style scoped>\n    .dataframe tbody tr th:only-of-type {\n        vertical-align: middle;\n    }\n\n    .dataframe tbody tr th {\n        vertical-align: top;\n    }\n\n    .dataframe thead th {\n        text-align: right;\n    }\n</style>\n<table border=\"1\" class=\"dataframe\">\n  <thead>\n    <tr style=\"text-align: right;\">\n      <th></th>\n      <th>id</th>\n      <th>email</th>\n      <th>name</th>\n      <th>budget</th>\n      <th>verify_key</th>\n      <th>role</th>\n      <th>added_by</th>\n      <th>website</th>\n      <th>institution</th>\n      <th>daa_pdf</th>\n      <th>created_at</th>\n      <th>budget_spent</th>\n    </tr>\n  </thead>\n  <tbody>\n    <tr>\n      <th>0</th>\n      <td>1</td>\n      <td>info@openmined.org</td>\n      <td>Jane Doe</td>\n      <td>5.55</td>\n      <td>16cc388b1e7daac72f8fadd587788f21589add3efc827d...</td>\n      <td>Owner</td>\n      <td>None</td>\n      <td>None</td>\n      <td>None</td>\n      <td>None</td>\n      <td>2021-12-31 07:52:21.522472</td>\n      <td>5.55</td>\n    </tr>\n  </tbody>\n</table>\n</div>"
     },
     "execution_count": 4,
     "metadata": {},
     "output_type": "execute_result"
    }
   ],
   "source": [
    "scc.users\n"
   ],
   "metadata": {
    "collapsed": false,
    "pycharm": {
     "name": "#%%\n"
    }
   }
  },
  {
   "cell_type": "code",
   "execution_count": 5,
   "outputs": [],
   "source": [
    "scc.users.create(\n",
    "    **{\n",
    "        \"name\": \"zetyun_psi\",\n",
    "        \"email\": \"sample@zetyun.com\",\n",
    "        \"password\": \"zetyun\",\n",
    "        \"budget\":200\n",
    "    }\n",
    ")"
   ],
   "metadata": {
    "collapsed": false,
    "pycharm": {
     "name": "#%%\n"
    }
   }
  },
  {
   "cell_type": "code",
   "execution_count": 6,
   "outputs": [
    {
     "data": {
      "text/plain": "<syft.core.node.common.client_manager.user_api.UserRequestAPI at 0x1d3ef07df70>",
      "text/html": "<div>\n<style scoped>\n    .dataframe tbody tr th:only-of-type {\n        vertical-align: middle;\n    }\n\n    .dataframe tbody tr th {\n        vertical-align: top;\n    }\n\n    .dataframe thead th {\n        text-align: right;\n    }\n</style>\n<table border=\"1\" class=\"dataframe\">\n  <thead>\n    <tr style=\"text-align: right;\">\n      <th></th>\n      <th>id</th>\n      <th>email</th>\n      <th>name</th>\n      <th>budget</th>\n      <th>verify_key</th>\n      <th>role</th>\n      <th>added_by</th>\n      <th>website</th>\n      <th>institution</th>\n      <th>daa_pdf</th>\n      <th>created_at</th>\n      <th>budget_spent</th>\n    </tr>\n  </thead>\n  <tbody>\n    <tr>\n      <th>0</th>\n      <td>1</td>\n      <td>info@openmined.org</td>\n      <td>Jane Doe</td>\n      <td>5.55</td>\n      <td>16cc388b1e7daac72f8fadd587788f21589add3efc827d...</td>\n      <td>Owner</td>\n      <td>None</td>\n      <td>None</td>\n      <td>None</td>\n      <td>NaN</td>\n      <td>2021-12-31 07:52:21.522472</td>\n      <td>5.55</td>\n    </tr>\n    <tr>\n      <th>1</th>\n      <td>2</td>\n      <td>sample@zetyun.com</td>\n      <td>zetyun_psi</td>\n      <td>200.00</td>\n      <td>516003db543d69e8aa53649779315badb720d5e0d8c9c2...</td>\n      <td>Data Scientist</td>\n      <td>Jane Doe</td>\n      <td></td>\n      <td></td>\n      <td>1.0</td>\n      <td>2021-12-31 08:37:28.905109</td>\n      <td>200.00</td>\n    </tr>\n  </tbody>\n</table>\n</div>"
     },
     "execution_count": 6,
     "metadata": {},
     "output_type": "execute_result"
    }
   ],
   "source": [
    "scc.users"
   ],
   "metadata": {
    "collapsed": false,
    "pycharm": {
     "name": "#%%\n"
    }
   }
  },
  {
   "cell_type": "code",
   "execution_count": 7,
   "outputs": [
    {
     "name": "stdout",
     "output_type": "stream",
     "text": [
      "------------------------dataset/scc.csv------------------------\n",
      "                                 id name\n",
      "0  60dcd6597ac34d97aa2fc913b95009c4  李八搜\n",
      "1  b01d7b6de97b43eb82ee759da3397852  孙一捷\n",
      "2  c08f401620a744c0abe9417c7c15495e  黄六引\n",
      "3  01e95a079e9040db8be63d2cfea342e4  钱三文\n",
      "4  f586a37343b44a5a9a50bb0c8c4d23e1  钱四力\n",
      "------------------------id------------------------\n",
      "array([ 450007691,  901885509, 1372689838,  466742559, -736305036])\n"
     ]
    }
   ],
   "source": [
    "import load\n",
    "\n",
    "ids = load.load_column(\"dataset/scc.csv\", \"id\", \"str\")\n"
   ],
   "metadata": {
    "collapsed": false,
    "pycharm": {
     "name": "#%%\n"
    }
   }
  },
  {
   "cell_type": "code",
   "execution_count": 8,
   "outputs": [
    {
     "name": "stdout",
     "output_type": "stream",
     "text": [
      "Loading dataset... uploading... SUCCESS!                                                                                                                                      \n",
      "\n",
      "Run <your client variable>.datasets to see your new dataset loaded into your machine!\n"
     ]
    }
   ],
   "source": [
    "scc.load_dataset(\n",
    "    assets={\n",
    "        \"scc_id\": sy.Tensor(ids).private(min_val=float(ids.min()), max_val=float(ids.max()), entities=\"老赖数据:scc:id\"),\n",
    "    },\n",
    "    name=\"scc\",\n",
    "    description=\"老赖数据:scc\"\n",
    ")"
   ],
   "metadata": {
    "collapsed": false,
    "pycharm": {
     "name": "#%%\n"
    }
   }
  },
  {
   "cell_type": "code",
   "execution_count": 9,
   "outputs": [
    {
     "data": {
      "text/plain": "<syft.core.node.common.client_manager.dataset_api.DatasetRequestAPI at 0x1d3eeef51c0>",
      "text/html": "<style>\n                #myInput {\n                  background-position: 10px 12px; /* Position the search icon */\n                  background-repeat: no-repeat; /* Do not repeat the icon image */\n                  background-color: #bbb;\n                  width: 98%; /* Full-width */\n                  font-size: 14px; /* Increase font-size */\n                  padding: 12px 20px 12px 40px; /* Add some padding */\n                  border: 1px solid #ddd; /* Add a grey border */\n                  margin-bottom: 12px; /* Add some space below the input */\n                }\n\n                #myTable {\n                  border-collapse: collapse; /* Collapse borders */\n                  width: 100%; /* Full-width */\n                  border: 1px solid #ddd; /* Add a grey border */\n                  font-size: 14px; /* Increase font-size */\n                }\n\n                #myTable th, #myTable td {\n                  text-align: left; /* Left-align text */\n                  padding: 10px; /* Add padding */\n                }\n\n                #myTable tr {\n                  /* Add a bottom border to all table rows */\n                  border-bottom: 1px solid #ddd;\n                }\n\n                #myTable tr.header, #myTable tr:hover {\n                  /* Add a grey background color to the table header and on hover */\n                  background-color: #777;\n                }\n                </style>\n\n                <table id=\"myTable\" style=\"width:1000px\">\n                  <tr class=\"header\">\n                    <th style=\"width:30px\">Idx</th>\n                    <th style=\"width:20%;\">Name</th>\n                    <th style=\"width:35%;\">Description</th>\n                    <th style=\"width:20%;\">Assets</th>\n                    <th style=\"width:300px;\">Id</th>\n                  </tr>\n                \n\n          <tr>\n            <td>[0]</td>\n            <td>scc</td>\n            <td>老赖数据:scc</td>\n            <td>[\"scc_id\"] -> Tensor<br /><br /></td>\n            <td>493a00b3-e61a-433e-80fd-ecab9e055d3b</td>\n          </tr>\n        </table>\n\n        <script>\n        function myFunction() {\n          // Declare variables\n          var input, filter, table, tr, td, i, txtValue;\n          input = document.getElementById(\"myInput\");\n          filter = input.value.toUpperCase();\n          table = document.getElementById(\"myTable\");\n          tr = table.getElementsByTagName(\"tr\");\n\n          // Loop through all table rows, and hide those who don't match the search query\n          for (i = 0; i < tr.length; i++) {\n            name_td = tr[i].getElementsByTagName(\"td\")[1];\n            desc_td = tr[i].getElementsByTagName(\"td\")[2];\n            asset_td = tr[i].getElementsByTagName(\"td\")[3];\n            id_td = tr[i].getElementsByTagName(\"td\")[4];\n            if (name_td || desc_td || asset_td || id_td) {\n              name_txtValue = name_td.textContent || name_td.innerText;\n              desc_txtValue = desc_td.textContent || name_td.innerText;\n              asset_txtValue = asset_td.textContent || name_td.innerText;\n              id_txtValue = id_td.textContent || name_td.innerText;\n              name_bool = name_txtValue.toUpperCase().indexOf(filter) > -1;\n              desc_bool = desc_txtValue.toUpperCase().indexOf(filter) > -1;\n              asset_bool = asset_txtValue.toUpperCase().indexOf(filter) > -1;\n              id_bool = id_txtValue.toUpperCase().indexOf(filter) > -1;\n              if (name_bool || desc_bool || asset_bool || id_bool) {\n                tr[i].style.display = \"\";\n              } else {\n                tr[i].style.display = \"none\";\n              }\n            }\n          }\n        }\n        </script>"
     },
     "execution_count": 9,
     "metadata": {},
     "output_type": "execute_result"
    }
   ],
   "source": [
    "scc.datasets"
   ],
   "metadata": {
    "collapsed": false,
    "pycharm": {
     "name": "#%%\n"
    }
   }
  },
  {
   "cell_type": "code",
   "execution_count": 10,
   "outputs": [
    {
     "name": "stdout",
     "output_type": "stream",
     "text": [
      "array([-1659229690, -1219033503, -1137083311, ...,  1105562285,\n",
      "         512543903,  -718007060])\n",
      "\n",
      " (The data printed above is synthetic - it's an imitation of the real data.)\n"
     ]
    },
    {
     "data": {
      "text/plain": "[<RequestMessage: a9812e69e6d944188d2efdae578a0e4f>]",
      "text/html": "<div>\n<style scoped>\n    .dataframe tbody tr th:only-of-type {\n        vertical-align: middle;\n    }\n\n    .dataframe tbody tr th {\n        vertical-align: top;\n    }\n\n    .dataframe thead th {\n        text-align: right;\n    }\n</style>\n<table border=\"1\" class=\"dataframe\">\n  <thead>\n    <tr style=\"text-align: right;\">\n      <th></th>\n      <th>Name</th>\n      <th>Email</th>\n      <th>Role</th>\n      <th>Request Type</th>\n      <th>Status</th>\n      <th>Reason</th>\n      <th>Request ID</th>\n      <th>Requested Object's ID</th>\n      <th>Requested Object's tags</th>\n      <th>Requested Budget</th>\n      <th>Current Budget</th>\n    </tr>\n  </thead>\n  <tbody>\n    <tr>\n      <th>0</th>\n      <td>Jane Doe</td>\n      <td>info@openmined.org</td>\n      <td>Owner</td>\n      <td>DATA</td>\n      <td>pending</td>\n      <td>需要获取准确数据, 准备求交</td>\n      <td>&lt;UID: a9812e69e6d944188d2efdae578a0e4f&gt;</td>\n      <td>&lt;UID: 75323e0cb6ed46479ab45e0198ba5b2e&gt;</td>\n      <td>[#scc_id]</td>\n      <td>None</td>\n      <td>None</td>\n    </tr>\n  </tbody>\n</table>\n</div>"
     },
     "execution_count": 10,
     "metadata": {},
     "output_type": "execute_result"
    }
   ],
   "source": [
    "id_ptr = scc.datasets[0][\"scc_id\"]\n",
    "print(id_ptr)\n",
    "id_ptr.request(reason=\"需要获取准确数据, 准备求交\")\n",
    "scc.requests"
   ],
   "metadata": {
    "collapsed": false,
    "pycharm": {
     "name": "#%%\n"
    }
   }
  },
  {
   "cell_type": "code",
   "execution_count": 11,
   "outputs": [],
   "source": [
    "scc.requests[0].accept()"
   ],
   "metadata": {
    "collapsed": false,
    "pycharm": {
     "name": "#%%\n"
    }
   }
  },
  {
   "cell_type": "code",
   "execution_count": 12,
   "outputs": [],
   "source": [
    "scc_id_list = id_ptr.get(delete_obj=False)\n"
   ],
   "metadata": {
    "collapsed": false,
    "pycharm": {
     "name": "#%%\n"
    }
   }
  },
  {
   "cell_type": "code",
   "execution_count": null,
   "outputs": [],
   "source": [],
   "metadata": {
    "collapsed": false,
    "pycharm": {
     "name": "#%%\n"
    }
   }
  },
  {
   "cell_type": "code",
   "execution_count": null,
   "outputs": [],
   "source": [],
   "metadata": {
    "collapsed": false,
    "pycharm": {
     "name": "#%%\n"
    }
   }
  },
  {
   "cell_type": "code",
   "execution_count": 13,
   "outputs": [
    {
     "data": {
      "text/plain": "[array([ 331280693,  167602488,   56643494, ..., 1673362745, -369309282,\n       -643817042])\n\n (The data printed above is synthetic - it's an imitation of the real data.), <IntPointer -> scc:c5665845d6bd4ae2b526d9bc5db95353>]",
      "text/html": "<div>\n<style scoped>\n    .dataframe tbody tr th:only-of-type {\n        vertical-align: middle;\n    }\n\n    .dataframe tbody tr th {\n        vertical-align: top;\n    }\n\n    .dataframe thead th {\n        text-align: right;\n    }\n</style>\n<table border=\"1\" class=\"dataframe\">\n  <thead>\n    <tr style=\"text-align: right;\">\n      <th></th>\n      <th>ID</th>\n      <th>Tags</th>\n      <th>Description</th>\n      <th>object_type</th>\n    </tr>\n  </thead>\n  <tbody>\n    <tr>\n      <th>0</th>\n      <td>&lt;UID: 75323e0cb6ed46479ab45e0198ba5b2e&gt;</td>\n      <td>[#scc_id]</td>\n      <td></td>\n      <td>&lt;class 'syft.core.tensor.tensor.Tensor'&gt;</td>\n    </tr>\n    <tr>\n      <th>1</th>\n      <td>&lt;UID: c5665845d6bd4ae2b526d9bc5db95353&gt;</td>\n      <td>[client_items_len]</td>\n      <td>求交初始化: 请服务器设置好, fpr=1e-6, reveal_intersection=...</td>\n      <td>&lt;class 'syft.lib.python.Int'&gt;</td>\n    </tr>\n  </tbody>\n</table>\n</div>"
     },
     "execution_count": 13,
     "metadata": {},
     "output_type": "execute_result"
    }
   ],
   "source": [
    "scc.store"
   ],
   "metadata": {
    "collapsed": false,
    "pycharm": {
     "name": "#%%\n"
    }
   }
  },
  {
   "cell_type": "code",
   "execution_count": 14,
   "outputs": [],
   "source": [
    "scc.store[1].request(reason=\"获取client_items_len\")"
   ],
   "metadata": {
    "collapsed": false,
    "pycharm": {
     "name": "#%%\n"
    }
   }
  },
  {
   "cell_type": "code",
   "execution_count": 15,
   "outputs": [
    {
     "data": {
      "text/plain": "[<RequestMessage: a9812e69e6d944188d2efdae578a0e4f>, <RequestMessage: 4a84e7df0b054aa8934ed7d96af9f06e>]",
      "text/html": "<div>\n<style scoped>\n    .dataframe tbody tr th:only-of-type {\n        vertical-align: middle;\n    }\n\n    .dataframe tbody tr th {\n        vertical-align: top;\n    }\n\n    .dataframe thead th {\n        text-align: right;\n    }\n</style>\n<table border=\"1\" class=\"dataframe\">\n  <thead>\n    <tr style=\"text-align: right;\">\n      <th></th>\n      <th>Name</th>\n      <th>Email</th>\n      <th>Role</th>\n      <th>Request Type</th>\n      <th>Status</th>\n      <th>Reason</th>\n      <th>Request ID</th>\n      <th>Requested Object's ID</th>\n      <th>Requested Object's tags</th>\n      <th>Requested Budget</th>\n      <th>Current Budget</th>\n    </tr>\n  </thead>\n  <tbody>\n    <tr>\n      <th>0</th>\n      <td>Jane Doe</td>\n      <td>info@openmined.org</td>\n      <td>Owner</td>\n      <td>DATA</td>\n      <td>accepted</td>\n      <td>需要获取准确数据, 准备求交</td>\n      <td>&lt;UID: a9812e69e6d944188d2efdae578a0e4f&gt;</td>\n      <td>&lt;UID: 75323e0cb6ed46479ab45e0198ba5b2e&gt;</td>\n      <td>[#scc_id]</td>\n      <td>None</td>\n      <td>None</td>\n    </tr>\n    <tr>\n      <th>1</th>\n      <td>Jane Doe</td>\n      <td>info@openmined.org</td>\n      <td>Owner</td>\n      <td>DATA</td>\n      <td>pending</td>\n      <td>获取client_items_len</td>\n      <td>&lt;UID: 4a84e7df0b054aa8934ed7d96af9f06e&gt;</td>\n      <td>&lt;UID: c5665845d6bd4ae2b526d9bc5db95353&gt;</td>\n      <td>[client_items_len]</td>\n      <td>None</td>\n      <td>None</td>\n    </tr>\n  </tbody>\n</table>\n</div>"
     },
     "execution_count": 15,
     "metadata": {},
     "output_type": "execute_result"
    }
   ],
   "source": [
    "scc.requests"
   ],
   "metadata": {
    "collapsed": false,
    "pycharm": {
     "name": "#%%\n"
    }
   }
  },
  {
   "cell_type": "code",
   "execution_count": 16,
   "outputs": [],
   "source": [
    "scc.requests[1].accept()"
   ],
   "metadata": {
    "collapsed": false,
    "pycharm": {
     "name": "#%%\n"
    }
   }
  },
  {
   "cell_type": "code",
   "execution_count": 17,
   "outputs": [],
   "source": [
    "client_items_len = scc.store[1].get(delete_obj=False)"
   ],
   "metadata": {
    "collapsed": false,
    "pycharm": {
     "name": "#%%\n"
    }
   }
  },
  {
   "cell_type": "code",
   "execution_count": 18,
   "outputs": [],
   "source": [
    "import openmined_psi as psi\n",
    "\n",
    "server = psi.server.CreateWithNewKey(True)"
   ],
   "metadata": {
    "collapsed": false,
    "pycharm": {
     "name": "#%%\n"
    }
   }
  },
  {
   "cell_type": "code",
   "execution_count": 19,
   "outputs": [
    {
     "name": "stdout",
     "output_type": "stream",
     "text": [
      "10000\n"
     ]
    }
   ],
   "source": [
    "server_items = [str(i) for i in scc_id_list.child.child.tolist()]\n",
    "# print(server_items)\n",
    "print(client_items_len)"
   ],
   "metadata": {
    "collapsed": false,
    "pycharm": {
     "name": "#%%\n"
    }
   }
  },
  {
   "cell_type": "code",
   "execution_count": 20,
   "outputs": [],
   "source": [
    "\n",
    "setup = server.CreateSetupMessage(1e-6, client_items_len, server_items)\n"
   ],
   "metadata": {
    "collapsed": false,
    "pycharm": {
     "name": "#%%\n"
    }
   }
  },
  {
   "cell_type": "code",
   "execution_count": 21,
   "outputs": [
    {
     "data": {
      "text/plain": "<ListPointer -> scc:bf6dbcd68d8942a1b4626d67bdfaa452>"
     },
     "execution_count": 21,
     "metadata": {},
     "output_type": "execute_result"
    }
   ],
   "source": [
    "setupMsg = setup.SerializeToString()\n",
    "wrapper = sy.lib.python.List()\n",
    "wrapper.append(setupMsg)\n",
    "wrapper.send(scc, pointable=True, tags=[\"setup\"], description=\"服务器设置好了\")\n"
   ],
   "metadata": {
    "collapsed": false,
    "pycharm": {
     "name": "#%%\n"
    }
   }
  },
  {
   "cell_type": "code",
   "execution_count": 22,
   "outputs": [
    {
     "data": {
      "text/plain": "[array([ 1431135092, -1019133594, -1375803467, ..., -2026020935,\n        1410042963,   735750391])\n\n (The data printed above is synthetic - it's an imitation of the real data.), <IntPointer -> scc:c5665845d6bd4ae2b526d9bc5db95353>, <ListPointer -> scc:bf6dbcd68d8942a1b4626d67bdfaa452>]",
      "text/html": "<div>\n<style scoped>\n    .dataframe tbody tr th:only-of-type {\n        vertical-align: middle;\n    }\n\n    .dataframe tbody tr th {\n        vertical-align: top;\n    }\n\n    .dataframe thead th {\n        text-align: right;\n    }\n</style>\n<table border=\"1\" class=\"dataframe\">\n  <thead>\n    <tr style=\"text-align: right;\">\n      <th></th>\n      <th>ID</th>\n      <th>Tags</th>\n      <th>Description</th>\n      <th>object_type</th>\n    </tr>\n  </thead>\n  <tbody>\n    <tr>\n      <th>0</th>\n      <td>&lt;UID: 75323e0cb6ed46479ab45e0198ba5b2e&gt;</td>\n      <td>[#scc_id]</td>\n      <td></td>\n      <td>&lt;class 'syft.core.tensor.tensor.Tensor'&gt;</td>\n    </tr>\n    <tr>\n      <th>1</th>\n      <td>&lt;UID: c5665845d6bd4ae2b526d9bc5db95353&gt;</td>\n      <td>[client_items_len]</td>\n      <td>求交初始化: 请服务器设置好, fpr=1e-6, reveal_intersection=...</td>\n      <td>&lt;class 'syft.lib.python.Int'&gt;</td>\n    </tr>\n    <tr>\n      <th>2</th>\n      <td>&lt;UID: bf6dbcd68d8942a1b4626d67bdfaa452&gt;</td>\n      <td>[setup]</td>\n      <td>服务器设置好了</td>\n      <td>&lt;class 'syft.lib.python.list.List'&gt;</td>\n    </tr>\n  </tbody>\n</table>\n</div>"
     },
     "execution_count": 22,
     "metadata": {},
     "output_type": "execute_result"
    }
   ],
   "source": [
    "scc.store"
   ],
   "metadata": {
    "collapsed": false,
    "pycharm": {
     "name": "#%%\n"
    }
   }
  },
  {
   "cell_type": "code",
   "execution_count": 22,
   "outputs": [],
   "source": [],
   "metadata": {
    "collapsed": false,
    "pycharm": {
     "name": "#%%\n"
    }
   }
  },
  {
   "cell_type": "code",
   "execution_count": 23,
   "outputs": [
    {
     "data": {
      "text/plain": "[('zetyun_psi', <UID: dac05517400d4dc489450db17201d135>, '客户端需要初始设置')]"
     },
     "execution_count": 23,
     "metadata": {},
     "output_type": "execute_result"
    }
   ],
   "source": [
    "[(x.user_name, x.id, x.request_description) for x in scc.requests.requests if x.request_description != '' and x.status != \"accepted\"]"
   ],
   "metadata": {
    "collapsed": false,
    "pycharm": {
     "name": "#%%\n"
    }
   }
  },
  {
   "cell_type": "code",
   "execution_count": 24,
   "outputs": [],
   "source": [
    "[x for x in scc.requests.requests if x.request_description != '' and x.status != \"accepted\"][0].grant()"
   ],
   "metadata": {
    "collapsed": false,
    "pycharm": {
     "name": "#%%\n"
    }
   }
  },
  {
   "cell_type": "code",
   "execution_count": null,
   "outputs": [],
   "source": [],
   "metadata": {
    "collapsed": false,
    "pycharm": {
     "name": "#%%\n"
    }
   }
  },
  {
   "cell_type": "code",
   "execution_count": null,
   "outputs": [],
   "source": [],
   "metadata": {
    "collapsed": false,
    "pycharm": {
     "name": "#%%\n"
    }
   }
  },
  {
   "cell_type": "code",
   "execution_count": 25,
   "outputs": [
    {
     "data": {
      "text/plain": "[array([-2036081856,  1015253646,   -60438347, ..., -1442482077,\n        1248113293,   -99690833])\n\n (The data printed above is synthetic - it's an imitation of the real data.), <IntPointer -> scc:c5665845d6bd4ae2b526d9bc5db95353>, <ListPointer -> scc:bf6dbcd68d8942a1b4626d67bdfaa452>, <ListPointer -> scc:af32fc69463b4962892a9fd773480fd1>]",
      "text/html": "<div>\n<style scoped>\n    .dataframe tbody tr th:only-of-type {\n        vertical-align: middle;\n    }\n\n    .dataframe tbody tr th {\n        vertical-align: top;\n    }\n\n    .dataframe thead th {\n        text-align: right;\n    }\n</style>\n<table border=\"1\" class=\"dataframe\">\n  <thead>\n    <tr style=\"text-align: right;\">\n      <th></th>\n      <th>ID</th>\n      <th>Tags</th>\n      <th>Description</th>\n      <th>object_type</th>\n    </tr>\n  </thead>\n  <tbody>\n    <tr>\n      <th>0</th>\n      <td>&lt;UID: 75323e0cb6ed46479ab45e0198ba5b2e&gt;</td>\n      <td>[#scc_id]</td>\n      <td></td>\n      <td>&lt;class 'syft.core.tensor.tensor.Tensor'&gt;</td>\n    </tr>\n    <tr>\n      <th>1</th>\n      <td>&lt;UID: c5665845d6bd4ae2b526d9bc5db95353&gt;</td>\n      <td>[client_items_len]</td>\n      <td>求交初始化: 请服务器设置好, fpr=1e-6, reveal_intersection=...</td>\n      <td>&lt;class 'syft.lib.python.Int'&gt;</td>\n    </tr>\n    <tr>\n      <th>2</th>\n      <td>&lt;UID: bf6dbcd68d8942a1b4626d67bdfaa452&gt;</td>\n      <td>[setup]</td>\n      <td>服务器设置好了</td>\n      <td>&lt;class 'syft.lib.python.list.List'&gt;</td>\n    </tr>\n    <tr>\n      <th>3</th>\n      <td>&lt;UID: af32fc69463b4962892a9fd773480fd1&gt;</td>\n      <td>[request]</td>\n      <td>求交request</td>\n      <td>&lt;class 'syft.lib.python.list.List'&gt;</td>\n    </tr>\n  </tbody>\n</table>\n</div>"
     },
     "execution_count": 25,
     "metadata": {},
     "output_type": "execute_result"
    }
   ],
   "source": [
    "scc.store"
   ],
   "metadata": {
    "collapsed": false,
    "pycharm": {
     "name": "#%%\n"
    }
   }
  },
  {
   "cell_type": "code",
   "execution_count": 26,
   "outputs": [],
   "source": [
    "scc.store[3].request(reason=\"获取客户端request\")"
   ],
   "metadata": {
    "collapsed": false,
    "pycharm": {
     "name": "#%%\n"
    }
   }
  },
  {
   "cell_type": "code",
   "execution_count": 27,
   "outputs": [
    {
     "data": {
      "text/plain": "[('Jane Doe', <UID: 711f122a527a4929b0fa1c6982c45bd8>, '获取客户端request')]"
     },
     "execution_count": 27,
     "metadata": {},
     "output_type": "execute_result"
    }
   ],
   "source": [
    "[(x.user_name, x.id, x.request_description) for x in scc.requests.requests if x.request_description != '' and x.status != \"accepted\"]"
   ],
   "metadata": {
    "collapsed": false,
    "pycharm": {
     "name": "#%%\n"
    }
   }
  },
  {
   "cell_type": "code",
   "execution_count": 28,
   "outputs": [],
   "source": [
    "# scc.requests[str(uuid.UUID(\"13407e2317964d81aa415c6fd5bbdb28\"))].accept()\n",
    "[x for x in scc.requests.requests if x.request_description != '' and x.status != \"accepted\"][0].grant()"
   ],
   "metadata": {
    "collapsed": false,
    "pycharm": {
     "name": "#%%\n"
    }
   }
  },
  {
   "cell_type": "code",
   "execution_count": 29,
   "outputs": [],
   "source": [
    "msg = scc.store[3].get(delete_obj=False)"
   ],
   "metadata": {
    "collapsed": false,
    "pycharm": {
     "name": "#%%\n"
    }
   }
  },
  {
   "cell_type": "code",
   "execution_count": 30,
   "outputs": [
    {
     "data": {
      "text/plain": "350002"
     },
     "execution_count": 30,
     "metadata": {},
     "output_type": "execute_result"
    }
   ],
   "source": [
    "request = psi.Request()\n",
    "request.ParseFromString(msg[0])\n"
   ],
   "metadata": {
    "collapsed": false,
    "pycharm": {
     "name": "#%%\n"
    }
   }
  },
  {
   "cell_type": "code",
   "execution_count": 31,
   "outputs": [],
   "source": [
    "response = server.ProcessRequest(request)"
   ],
   "metadata": {
    "collapsed": false,
    "pycharm": {
     "name": "#%%\n"
    }
   }
  },
  {
   "cell_type": "code",
   "execution_count": 32,
   "outputs": [
    {
     "data": {
      "text/plain": "<ListPointer -> scc:25063f8efbd64d0e863f3329b0c38e39>"
     },
     "execution_count": 32,
     "metadata": {},
     "output_type": "execute_result"
    }
   ],
   "source": [
    "repMsg = response.SerializeToString()\n",
    "wrapper = sy.lib.python.List()\n",
    "wrapper.append(repMsg)\n",
    "wrapper.send(scc, pointable=True, tags=[\"response\"], description=\"求交结果计算好了\")"
   ],
   "metadata": {
    "collapsed": false,
    "pycharm": {
     "name": "#%%\n"
    }
   }
  },
  {
   "cell_type": "code",
   "execution_count": null,
   "outputs": [],
   "source": [],
   "metadata": {
    "collapsed": false,
    "pycharm": {
     "name": "#%%\n"
    }
   }
  },
  {
   "cell_type": "code",
   "execution_count": null,
   "outputs": [],
   "source": [],
   "metadata": {
    "collapsed": false,
    "pycharm": {
     "name": "#%%\n"
    }
   }
  },
  {
   "cell_type": "code",
   "execution_count": 33,
   "outputs": [
    {
     "data": {
      "text/plain": "[('zetyun_psi', <UID: 08d91befe17e4bdd9d29110d4c5e3e5f>, '客户端要看结果')]"
     },
     "execution_count": 33,
     "metadata": {},
     "output_type": "execute_result"
    }
   ],
   "source": [
    "[(x.user_name, x.id, x.request_description) for x in scc.requests.requests if x.request_description != '' and x.status != \"accepted\"]"
   ],
   "metadata": {
    "collapsed": false,
    "pycharm": {
     "name": "#%%\n"
    }
   }
  },
  {
   "cell_type": "code",
   "execution_count": 34,
   "outputs": [],
   "source": [
    "[x for x in scc.requests.requests if x.request_description != '' and x.status != \"accepted\"][0].grant()"
   ],
   "metadata": {
    "collapsed": false,
    "pycharm": {
     "name": "#%%\n"
    }
   }
  },
  {
   "cell_type": "code",
   "execution_count": null,
   "outputs": [],
   "source": [],
   "metadata": {
    "collapsed": false,
    "pycharm": {
     "name": "#%%\n"
    }
   }
  },
  {
   "cell_type": "code",
   "execution_count": null,
   "outputs": [],
   "source": [],
   "metadata": {
    "collapsed": false,
    "pycharm": {
     "name": "#%%\n"
    }
   }
  },
  {
   "cell_type": "code",
   "execution_count": null,
   "outputs": [],
   "source": [],
   "metadata": {
    "collapsed": false,
    "pycharm": {
     "name": "#%%\n"
    }
   }
  }
 ],
 "metadata": {
  "kernelspec": {
   "display_name": "Python 3",
   "language": "python",
   "name": "python3"
  },
  "language_info": {
   "codemirror_mode": {
    "name": "ipython",
    "version": 2
   },
   "file_extension": ".py",
   "mimetype": "text/x-python",
   "name": "python",
   "nbconvert_exporter": "python",
   "pygments_lexer": "ipython2",
   "version": "2.7.6"
  }
 },
 "nbformat": 4,
 "nbformat_minor": 0
}