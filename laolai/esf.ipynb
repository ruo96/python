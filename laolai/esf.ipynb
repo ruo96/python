{
 "cells": [
  {
   "cell_type": "code",
   "execution_count": 1,
   "outputs": [
    {
     "ename": "ModuleNotFoundError",
     "evalue": "No module named 'syft'",
     "output_type": "error",
     "traceback": [
      "\u001B[1;31m---------------------------------------------------------------------------\u001B[0m",
      "\u001B[1;31mModuleNotFoundError\u001B[0m                       Traceback (most recent call last)",
      "Cell \u001B[1;32mIn [1], line 1\u001B[0m\n\u001B[1;32m----> 1\u001B[0m \u001B[38;5;28;01mimport\u001B[39;00m \u001B[38;5;21;01msyft\u001B[39;00m \u001B[38;5;28;01mas\u001B[39;00m \u001B[38;5;21;01msy\u001B[39;00m\n",
      "\u001B[1;31mModuleNotFoundError\u001B[0m: No module named 'syft'"
     ]
    }
   ],
   "source": [
    "import syft as sy"
   ],
   "metadata": {
    "collapsed": false,
    "pycharm": {
     "name": "#%%\n"
    }
   }
  },
  {
   "cell_type": "code",
   "execution_count": 2,
   "outputs": [
    {
     "name": "stdout",
     "output_type": "stream",
     "text": [
      "WARNING: CHANGE YOUR USERNAME AND PASSWORD!!! \n",
      "\n",
      "Anyone can login as an admin to your node right now because your password is still the default PySyft username and password!!!\n",
      "\n",
      "Connecting to http://172.20.58.251:8081/... done! \t Logging into esf... done!\n"
     ]
    }
   ],
   "source": [
    "esf = sy.login(url=\"http://172.20.58.251:8081/\", email=\"info@openmined.org\", password=\"changethis\")"
   ],
   "metadata": {
    "collapsed": false,
    "pycharm": {
     "name": "#%%\n"
    }
   }
  },
  {
   "cell_type": "code",
   "execution_count": 3,
   "outputs": [
    {
     "data": {
      "text/plain": "<syft.core.node.common.client_manager.user_api.UserRequestAPI at 0x2288f571220>",
      "text/html": "<div>\n<style scoped>\n    .dataframe tbody tr th:only-of-type {\n        vertical-align: middle;\n    }\n\n    .dataframe tbody tr th {\n        vertical-align: top;\n    }\n\n    .dataframe thead th {\n        text-align: right;\n    }\n</style>\n<table border=\"1\" class=\"dataframe\">\n  <thead>\n    <tr style=\"text-align: right;\">\n      <th></th>\n      <th>id</th>\n      <th>email</th>\n      <th>name</th>\n      <th>budget</th>\n      <th>verify_key</th>\n      <th>role</th>\n      <th>added_by</th>\n      <th>website</th>\n      <th>institution</th>\n      <th>daa_pdf</th>\n      <th>created_at</th>\n      <th>budget_spent</th>\n    </tr>\n  </thead>\n  <tbody>\n    <tr>\n      <th>0</th>\n      <td>1</td>\n      <td>info@openmined.org</td>\n      <td>Jane Doe</td>\n      <td>5.55</td>\n      <td>ef85cb29819b6a66c6879d9e64970cec0264aa857c1c46...</td>\n      <td>Owner</td>\n      <td>None</td>\n      <td>None</td>\n      <td>None</td>\n      <td>None</td>\n      <td>2021-12-31 07:52:12.758909</td>\n      <td>5.55</td>\n    </tr>\n  </tbody>\n</table>\n</div>"
     },
     "execution_count": 3,
     "metadata": {},
     "output_type": "execute_result"
    }
   ],
   "source": [
    "esf.users"
   ],
   "metadata": {
    "collapsed": false,
    "pycharm": {
     "name": "#%%\n"
    }
   }
  },
  {
   "cell_type": "code",
   "execution_count": 4,
   "outputs": [],
   "source": [
    "esf.users.create(\n",
    "    **{\n",
    "        \"name\": \"zetyun_psi\",\n",
    "        \"email\": \"sample2@zetyun.com\",\n",
    "        \"password\": \"zetyun\",\n",
    "        \"budget\":200\n",
    "    }\n",
    ")"
   ],
   "metadata": {
    "collapsed": false,
    "pycharm": {
     "name": "#%%\n"
    }
   }
  },
  {
   "cell_type": "code",
   "execution_count": 5,
   "outputs": [
    {
     "data": {
      "text/plain": "<syft.core.node.common.client_manager.user_api.UserRequestAPI at 0x2288f571220>",
      "text/html": "<div>\n<style scoped>\n    .dataframe tbody tr th:only-of-type {\n        vertical-align: middle;\n    }\n\n    .dataframe tbody tr th {\n        vertical-align: top;\n    }\n\n    .dataframe thead th {\n        text-align: right;\n    }\n</style>\n<table border=\"1\" class=\"dataframe\">\n  <thead>\n    <tr style=\"text-align: right;\">\n      <th></th>\n      <th>id</th>\n      <th>email</th>\n      <th>name</th>\n      <th>budget</th>\n      <th>verify_key</th>\n      <th>role</th>\n      <th>added_by</th>\n      <th>website</th>\n      <th>institution</th>\n      <th>daa_pdf</th>\n      <th>created_at</th>\n      <th>budget_spent</th>\n    </tr>\n  </thead>\n  <tbody>\n    <tr>\n      <th>0</th>\n      <td>1</td>\n      <td>info@openmined.org</td>\n      <td>Jane Doe</td>\n      <td>5.55</td>\n      <td>ef85cb29819b6a66c6879d9e64970cec0264aa857c1c46...</td>\n      <td>Owner</td>\n      <td>None</td>\n      <td>None</td>\n      <td>None</td>\n      <td>NaN</td>\n      <td>2021-12-31 07:52:12.758909</td>\n      <td>5.55</td>\n    </tr>\n    <tr>\n      <th>1</th>\n      <td>2</td>\n      <td>sample2@zetyun.com</td>\n      <td>zetyun_psi</td>\n      <td>200.00</td>\n      <td>f58422e283847f216590944a58684ba8f062b176fdced2...</td>\n      <td>Data Scientist</td>\n      <td>Jane Doe</td>\n      <td></td>\n      <td></td>\n      <td>1.0</td>\n      <td>2021-12-31 08:48:35.885966</td>\n      <td>200.00</td>\n    </tr>\n  </tbody>\n</table>\n</div>"
     },
     "execution_count": 5,
     "metadata": {},
     "output_type": "execute_result"
    }
   ],
   "source": [
    "esf.users"
   ],
   "metadata": {
    "collapsed": false,
    "pycharm": {
     "name": "#%%\n"
    }
   }
  },
  {
   "cell_type": "code",
   "execution_count": 6,
   "outputs": [
    {
     "name": "stdout",
     "output_type": "stream",
     "text": [
      "------------------------dataset/esf.csv------------------------\n",
      "                                 id  value\n",
      "0  60dcd6597ac34d97aa2fc913b95009c4    522\n",
      "1  ace97a31c0b34c6cafc8c6cbb76ff49c    643\n",
      "2  518b5db5bfc14ecb8bf921c5b417b7c2    570\n",
      "3  e3071268cd964a258bced22b36f98f79    365\n",
      "4  01e95a079e9040db8be63d2cfea342e4    824\n",
      "------------------------id------------------------\n",
      "array([  450007691, -1643464018,  -956291306, -1892816489,   466742559])\n",
      "------------------------dataset/esf.csv------------------------\n",
      "                                 id  value\n",
      "0  60dcd6597ac34d97aa2fc913b95009c4    522\n",
      "1  ace97a31c0b34c6cafc8c6cbb76ff49c    643\n",
      "2  518b5db5bfc14ecb8bf921c5b417b7c2    570\n",
      "3  e3071268cd964a258bced22b36f98f79    365\n",
      "4  01e95a079e9040db8be63d2cfea342e4    824\n",
      "------------------------value------------------------\n",
      "array([522, 643, 570, 365, 824])\n"
     ]
    }
   ],
   "source": [
    "import load\n",
    "\n",
    "ids = load.load_column(\"dataset/esf.csv\", \"id\", \"str\")\n",
    "\n",
    "values = load.load_column(\"dataset/esf.csv\", \"value\", \"float\")"
   ],
   "metadata": {
    "collapsed": false,
    "pycharm": {
     "name": "#%%\n"
    }
   }
  },
  {
   "cell_type": "code",
   "execution_count": 7,
   "outputs": [
    {
     "name": "stdout",
     "output_type": "stream",
     "text": [
      "Loading dataset... uploading... SUCCESS!                                                                                                                                      \n",
      "\n",
      "Run <your client variable>.datasets to see your new dataset loaded into your machine!\n"
     ]
    }
   ],
   "source": [
    "esf.load_dataset(\n",
    "    assets={\n",
    "        \"esf_id\": sy.Tensor(ids).private(min_val=float(ids.min()), max_val=float(ids.max()), entities=\"老赖数据:esf:id\"),\n",
    "        \"esf_value\": sy.Tensor(values).private(min_val=float(values.min()), max_val=float(values.max()), entities=\"老赖数据:esf:values\")\n",
    "    },\n",
    "    name=\"esf\",\n",
    "    description=\"老赖数据:esf\"\n",
    ")"
   ],
   "metadata": {
    "collapsed": false,
    "pycharm": {
     "name": "#%%\n"
    }
   }
  },
  {
   "cell_type": "code",
   "execution_count": 8,
   "outputs": [
    {
     "name": "stdout",
     "output_type": "stream",
     "text": [
      "array([-841309539,  623975884, -778703461, ..., 1508312900, 1152483359,\n",
      "        -34168510])\n",
      "\n",
      " (The data printed above is synthetic - it's an imitation of the real data.)\n"
     ]
    }
   ],
   "source": [
    "id_ptr = esf.datasets[0][\"esf_id\"]\n",
    "print(id_ptr)"
   ],
   "metadata": {
    "collapsed": false,
    "pycharm": {
     "name": "#%%\n"
    }
   }
  },
  {
   "cell_type": "code",
   "execution_count": 9,
   "outputs": [],
   "source": [
    "id_ptr.request(reason=\"需要获取准确数据, 准备求交\")"
   ],
   "metadata": {
    "collapsed": false,
    "pycharm": {
     "name": "#%%\n"
    }
   }
  },
  {
   "cell_type": "code",
   "execution_count": 10,
   "outputs": [],
   "source": [
    "[x for x in esf.requests.requests if x.request_description == \"需要获取准确数据, 准备求交\"][0].accept()"
   ],
   "metadata": {
    "collapsed": false,
    "pycharm": {
     "name": "#%%\n"
    }
   }
  },
  {
   "cell_type": "code",
   "execution_count": 11,
   "outputs": [
    {
     "data": {
      "text/plain": "Tensor(child=SingleEntityPhiTensor(entity=老赖数据:esf:id, child=[  450007691 -1643464018  -956291306 ...   266749272 -1085474894\n  -585203823]))"
     },
     "execution_count": 11,
     "metadata": {},
     "output_type": "execute_result"
    }
   ],
   "source": [
    "esf_id_tensor = id_ptr.get(delete_obj=False)\n",
    "esf_id_tensor"
   ],
   "metadata": {
    "collapsed": false,
    "pycharm": {
     "name": "#%%\n"
    }
   }
  },
  {
   "cell_type": "code",
   "execution_count": 12,
   "outputs": [],
   "source": [
    "server_items = [str(i) for i in esf_id_tensor.child.child.tolist()]"
   ],
   "metadata": {
    "collapsed": false,
    "pycharm": {
     "name": "#%%\n"
    }
   }
  },
  {
   "cell_type": "code",
   "execution_count": 13,
   "outputs": [
    {
     "data": {
      "text/plain": "5000"
     },
     "execution_count": 13,
     "metadata": {},
     "output_type": "execute_result"
    }
   ],
   "source": [
    "len(server_items)"
   ],
   "metadata": {
    "collapsed": false,
    "pycharm": {
     "name": "#%%\n"
    }
   }
  },
  {
   "cell_type": "code",
   "execution_count": 14,
   "outputs": [],
   "source": [
    "import inter\n",
    "\n",
    "psi_server = inter.PsiServer(\"2nd\", esf, True, server_items)"
   ],
   "metadata": {
    "collapsed": false,
    "pycharm": {
     "name": "#%%\n"
    }
   }
  },
  {
   "cell_type": "code",
   "execution_count": 15,
   "outputs": [
    {
     "name": "stdout",
     "output_type": "stream",
     "text": [
      "1. 等待客户端发送 client_items_len\n",
      "2. 服务端获取 client_items_len\n",
      "3. 服务端创建 setup\n",
      "4. 同意客户端获取 setup\n"
     ]
    }
   ],
   "source": [
    "psi_server.setup()"
   ],
   "metadata": {
    "collapsed": false,
    "pycharm": {
     "name": "#%%\n"
    }
   }
  },
  {
   "cell_type": "code",
   "execution_count": 16,
   "outputs": [
    {
     "data": {
      "text/plain": "[array([726, 987, 725, ..., 272, 459, 289])\n\n (The data printed above is synthetic - it's an imitation of the real data.), array([    1834905,  1442796991,    60424854, ..., -1009805681,\n       -1820144966,   291832685])\n\n (The data printed above is synthetic - it's an imitation of the real data.), <IntPointer -> esf:d883538fb4c54063ab16af99ac2dbb10>, <ListPointer -> esf:a6bfc5175f9546bf8d19d2d4b98c6cb9>, <ListPointer -> esf:48c03106ae4648c888693bc43b3f2155>]",
      "text/html": "<div>\n<style scoped>\n    .dataframe tbody tr th:only-of-type {\n        vertical-align: middle;\n    }\n\n    .dataframe tbody tr th {\n        vertical-align: top;\n    }\n\n    .dataframe thead th {\n        text-align: right;\n    }\n</style>\n<table border=\"1\" class=\"dataframe\">\n  <thead>\n    <tr style=\"text-align: right;\">\n      <th></th>\n      <th>ID</th>\n      <th>Tags</th>\n      <th>Description</th>\n      <th>object_type</th>\n    </tr>\n  </thead>\n  <tbody>\n    <tr>\n      <th>0</th>\n      <td>&lt;UID: db78e5f53265419ab70135b490d94b13&gt;</td>\n      <td>[#esf_value]</td>\n      <td></td>\n      <td>&lt;class 'syft.core.tensor.tensor.Tensor'&gt;</td>\n    </tr>\n    <tr>\n      <th>1</th>\n      <td>&lt;UID: c1bffff9677c4e46bd081ed91c5fcf48&gt;</td>\n      <td>[#esf_id]</td>\n      <td></td>\n      <td>&lt;class 'syft.core.tensor.tensor.Tensor'&gt;</td>\n    </tr>\n    <tr>\n      <th>2</th>\n      <td>&lt;UID: d883538fb4c54063ab16af99ac2dbb10&gt;</td>\n      <td>[2ndclient_items_len]</td>\n      <td>2nd: 求交初始化: fpr=1e-6, reveal_intersection=True</td>\n      <td>&lt;class 'syft.lib.python.Int'&gt;</td>\n    </tr>\n    <tr>\n      <th>3</th>\n      <td>&lt;UID: a6bfc5175f9546bf8d19d2d4b98c6cb9&gt;</td>\n      <td>[2ndsetup]</td>\n      <td>2nd: 设置好了</td>\n      <td>&lt;class 'syft.lib.python.list.List'&gt;</td>\n    </tr>\n    <tr>\n      <th>4</th>\n      <td>&lt;UID: 48c03106ae4648c888693bc43b3f2155&gt;</td>\n      <td>[2ndrequest]</td>\n      <td>2nd: 求交request</td>\n      <td>&lt;class 'syft.lib.python.list.List'&gt;</td>\n    </tr>\n  </tbody>\n</table>\n</div>"
     },
     "execution_count": 16,
     "metadata": {},
     "output_type": "execute_result"
    }
   ],
   "source": [
    "esf.store"
   ],
   "metadata": {
    "collapsed": false,
    "pycharm": {
     "name": "#%%\n"
    }
   }
  },
  {
   "cell_type": "code",
   "execution_count": 16,
   "outputs": [
    {
     "name": "stdout",
     "output_type": "stream",
     "text": [
      "1. 等待客户端发起 request\n",
      "2. 服务端获取 request\n",
      "3. 处理 request\n",
      "4. 同意客户端获取 response\n"
     ]
    }
   ],
   "source": [
    "psi_server.process_request()"
   ],
   "metadata": {
    "collapsed": false,
    "pycharm": {
     "name": "#%%\n"
    }
   }
  },
  {
   "cell_type": "code",
   "execution_count": null,
   "outputs": [],
   "source": [],
   "metadata": {
    "collapsed": false,
    "pycharm": {
     "name": "#%%\n"
    }
   }
  },
  {
   "cell_type": "code",
   "execution_count": null,
   "outputs": [],
   "source": [],
   "metadata": {
    "collapsed": false,
    "pycharm": {
     "name": "#%%\n"
    }
   }
  },
  {
   "cell_type": "code",
   "execution_count": 17,
   "outputs": [
    {
     "data": {
      "text/plain": "[array([902, 290, 697, ..., 409, 556, 949])\n\n (The data printed above is synthetic - it's an imitation of the real data.), array([ 1418459821,   738904277, -1410832857, ...,   925725523,\n        1561363760,  1685519011])\n\n (The data printed above is synthetic - it's an imitation of the real data.), <IntPointer -> esf:8abb56b477cb49aea5616bba9c6da908>, <ListPointer -> esf:1a6bda5c308b428087eeaa38ccd9d275>, <ListPointer -> esf:2998d9e0c97c484bad517d38523444d4>, <ListPointer -> esf:07390f0bd4074293bc403a90dbd4ce57>, <ListPointer -> esf:6dc91b0858064227a367c5c3e067a206>]",
      "text/html": "<div>\n<style scoped>\n    .dataframe tbody tr th:only-of-type {\n        vertical-align: middle;\n    }\n\n    .dataframe tbody tr th {\n        vertical-align: top;\n    }\n\n    .dataframe thead th {\n        text-align: right;\n    }\n</style>\n<table border=\"1\" class=\"dataframe\">\n  <thead>\n    <tr style=\"text-align: right;\">\n      <th></th>\n      <th>ID</th>\n      <th>Tags</th>\n      <th>Description</th>\n      <th>object_type</th>\n    </tr>\n  </thead>\n  <tbody>\n    <tr>\n      <th>0</th>\n      <td>&lt;UID: f9d5cdda7f2c4e9c99a5dcb265179116&gt;</td>\n      <td>[#esf_value]</td>\n      <td></td>\n      <td>&lt;class 'syft.core.tensor.tensor.Tensor'&gt;</td>\n    </tr>\n    <tr>\n      <th>1</th>\n      <td>&lt;UID: 5b8569c6597349d095258dfde836cb7d&gt;</td>\n      <td>[#esf_id]</td>\n      <td></td>\n      <td>&lt;class 'syft.core.tensor.tensor.Tensor'&gt;</td>\n    </tr>\n    <tr>\n      <th>2</th>\n      <td>&lt;UID: 8abb56b477cb49aea5616bba9c6da908&gt;</td>\n      <td>[2ndclient_items_len]</td>\n      <td>2nd: 求交初始化: fpr=1e-6, reveal_intersection=True</td>\n      <td>&lt;class 'syft.lib.python.Int'&gt;</td>\n    </tr>\n    <tr>\n      <th>3</th>\n      <td>&lt;UID: 1a6bda5c308b428087eeaa38ccd9d275&gt;</td>\n      <td>[2ndsetup]</td>\n      <td>2nd: 设置好了</td>\n      <td>&lt;class 'syft.lib.python.list.List'&gt;</td>\n    </tr>\n    <tr>\n      <th>4</th>\n      <td>&lt;UID: 2998d9e0c97c484bad517d38523444d4&gt;</td>\n      <td>[2ndrequest]</td>\n      <td>2nd: 求交request</td>\n      <td>&lt;class 'syft.lib.python.list.List'&gt;</td>\n    </tr>\n    <tr>\n      <th>5</th>\n      <td>&lt;UID: 07390f0bd4074293bc403a90dbd4ce57&gt;</td>\n      <td>[2ndresponse]</td>\n      <td>求交结果计算好了</td>\n      <td>&lt;class 'syft.lib.python.list.List'&gt;</td>\n    </tr>\n    <tr>\n      <th>6</th>\n      <td>&lt;UID: 6dc91b0858064227a367c5c3e067a206&gt;</td>\n      <td>[intersected_items2]</td>\n      <td>intersected_items2</td>\n      <td>&lt;class 'syft.lib.python.list.List'&gt;</td>\n    </tr>\n  </tbody>\n</table>\n</div>"
     },
     "execution_count": 17,
     "metadata": {},
     "output_type": "execute_result"
    }
   ],
   "source": [
    "esf.store"
   ],
   "metadata": {
    "collapsed": false,
    "pycharm": {
     "name": "#%%\n"
    }
   }
  },
  {
   "cell_type": "code",
   "execution_count": 18,
   "outputs": [
    {
     "data": {
      "text/plain": "array([348, 571, 582, ..., 386, 380, 732])\n\n (The data printed above is synthetic - it's an imitation of the real data.)"
     },
     "execution_count": 18,
     "metadata": {},
     "output_type": "execute_result"
    }
   ],
   "source": [
    "esf_value_ptr = esf.datasets[0][\"esf_value\"]\n",
    "esf_value_ptr"
   ],
   "metadata": {
    "collapsed": false,
    "pycharm": {
     "name": "#%%\n"
    }
   }
  },
  {
   "cell_type": "code",
   "execution_count": 19,
   "outputs": [],
   "source": [
    "esf_value_ptr.request(reason=\"获取esf_value\")\n",
    "[x for x in esf.requests.requests if x.request_description == \"获取esf_value\"][0].grant()"
   ],
   "metadata": {
    "collapsed": false,
    "pycharm": {
     "name": "#%%\n"
    }
   }
  },
  {
   "cell_type": "code",
   "execution_count": 20,
   "outputs": [
    {
     "data": {
      "text/plain": "numpy.ndarray"
     },
     "execution_count": 20,
     "metadata": {},
     "output_type": "execute_result"
    }
   ],
   "source": [
    "esf_value_tensor = esf_value_ptr.get(delete_obj=False)\n",
    "esf_value = esf_value_tensor.child.child\n",
    "type(esf_value)"
   ],
   "metadata": {
    "collapsed": false,
    "pycharm": {
     "name": "#%%\n"
    }
   }
  },
  {
   "cell_type": "code",
   "execution_count": 21,
   "outputs": [],
   "source": [
    "[x for x in esf.store.store if \"intersected_items2\" in x.tags][0].request(reason=\"获取求交后的id列表\")"
   ],
   "metadata": {
    "collapsed": false,
    "pycharm": {
     "name": "#%%\n"
    }
   }
  },
  {
   "cell_type": "code",
   "execution_count": 22,
   "outputs": [
    {
     "name": "stdout",
     "output_type": "stream",
     "text": [
      "['450007691', '466742559', '-1557623790', '-1585423580', '-1966399277']\n"
     ]
    }
   ],
   "source": [
    "[x for x in esf.requests.requests if x.request_description == \"获取求交后的id列表\"][0].accept()\n",
    "intersected_items2 = [x for x in esf.store.store if \"intersected_items2\" in x.tags][0].get(delete_obj=True)\n",
    "print(intersected_items2[0:5])"
   ],
   "metadata": {
    "collapsed": false,
    "pycharm": {
     "name": "#%%\n"
    }
   }
  },
  {
   "cell_type": "code",
   "execution_count": 23,
   "outputs": [
    {
     "data": {
      "text/plain": "[0,\n 4,\n 6,\n 9,\n 11,\n 13,\n 17,\n 19,\n 20,\n 25,\n 30,\n 33,\n 34,\n 42,\n 45,\n 46,\n 47,\n 48,\n 52,\n 53,\n 54,\n 56,\n 59,\n 64,\n 65,\n 70,\n 78,\n 91,\n 94,\n 96,\n 98,\n 101,\n 104,\n 105,\n 107,\n 122,\n 127,\n 153,\n 155,\n 162,\n 163,\n 164,\n 167,\n 175,\n 176,\n 181,\n 186,\n 204,\n 211,\n 215,\n 220,\n 227,\n 228,\n 237,\n 239,\n 241,\n 250,\n 251,\n 255,\n 257,\n 260,\n 264,\n 272,\n 273,\n 275,\n 280,\n 281,\n 283,\n 286,\n 287,\n 293,\n 297,\n 300,\n 301,\n 303,\n 310,\n 314,\n 319,\n 323,\n 325,\n 326,\n 333,\n 334,\n 340,\n 346,\n 351,\n 370,\n 371,\n 372,\n 379,\n 383,\n 387,\n 391,\n 393,\n 400,\n 402,\n 403,\n 412,\n 414,\n 419,\n 422,\n 424,\n 428,\n 431,\n 433,\n 436,\n 438,\n 439,\n 442,\n 444,\n 445,\n 447,\n 448,\n 450,\n 451,\n 453,\n 456,\n 457,\n 468,\n 486,\n 492,\n 495,\n 496,\n 498,\n 507,\n 508,\n 512,\n 514,\n 517,\n 523,\n 525,\n 526,\n 527,\n 532,\n 533,\n 541,\n 548,\n 550,\n 553,\n 560,\n 562,\n 566,\n 567,\n 571,\n 574,\n 595,\n 600,\n 605,\n 619,\n 621,\n 623,\n 629,\n 630,\n 636,\n 646,\n 651,\n 669,\n 673,\n 678,\n 686,\n 688,\n 689,\n 694,\n 696,\n 697,\n 699,\n 706,\n 708,\n 720,\n 725,\n 727,\n 728,\n 730,\n 737,\n 738,\n 742,\n 753,\n 754,\n 755,\n 759,\n 761,\n 762,\n 768,\n 773,\n 775,\n 776,\n 779,\n 781,\n 784,\n 788,\n 792,\n 793,\n 796,\n 801,\n 807,\n 808,\n 809,\n 810,\n 811,\n 814,\n 824,\n 829,\n 845,\n 851,\n 864,\n 865,\n 870,\n 872,\n 875,\n 878,\n 882,\n 883,\n 886,\n 888,\n 891,\n 892,\n 893,\n 895,\n 896,\n 903,\n 905,\n 906,\n 920,\n 922,\n 926,\n 939,\n 944,\n 945,\n 946,\n 951,\n 953,\n 955,\n 957,\n 962,\n 963,\n 966,\n 968,\n 969,\n 978,\n 984,\n 989,\n 992,\n 995,\n 996,\n 997,\n 999,\n 1003,\n 1005,\n 1008,\n 1009,\n 1010,\n 1013,\n 1014,\n 1027,\n 1038,\n 1040,\n 1045,\n 1047,\n 1053,\n 1056,\n 1059,\n 1060,\n 1063,\n 1067,\n 1072,\n 1073,\n 1074,\n 1076,\n 1082,\n 1089,\n 1091,\n 1099,\n 1100,\n 1108,\n 1110,\n 1111,\n 1112,\n 1120,\n 1122,\n 1126,\n 1132,\n 1135,\n 1141,\n 1148,\n 1156,\n 1166,\n 1169,\n 1173,\n 1182,\n 1185,\n 1186,\n 1189,\n 1192,\n 1196,\n 1202,\n 1206,\n 1208,\n 1210,\n 1213,\n 1214,\n 1216,\n 1227,\n 1233,\n 1234,\n 1235,\n 1246,\n 1250,\n 1255,\n 1257,\n 1263,\n 1270,\n 1271,\n 1272,\n 1279,\n 1282,\n 1285,\n 1286,\n 1293,\n 1297,\n 1299,\n 1305,\n 1307,\n 1309,\n 1310,\n 1312,\n 1314,\n 1326,\n 1340,\n 1342,\n 1344,\n 1352,\n 1355,\n 1356,\n 1358,\n 1363,\n 1367,\n 1376,\n 1388,\n 1390,\n 1393,\n 1414,\n 1416,\n 1420,\n 1426,\n 1427,\n 1430,\n 1431,\n 1435,\n 1436,\n 1438,\n 1444,\n 1451,\n 1454,\n 1458,\n 1460,\n 1468,\n 1469,\n 1470,\n 1477,\n 1478,\n 1479,\n 1483,\n 1489,\n 1493,\n 1495,\n 1497,\n 1500,\n 1502,\n 1503,\n 1504,\n 1509,\n 1511,\n 1513,\n 1520,\n 1523,\n 1528,\n 1529,\n 1532,\n 1533,\n 1540,\n 1545,\n 1548,\n 1551,\n 1557,\n 1565,\n 1568,\n 1570,\n 1573,\n 1578,\n 1582,\n 1587,\n 1588,\n 1590,\n 1592,\n 1595,\n 1596,\n 1599,\n 1600,\n 1604,\n 1608,\n 1612,\n 1620,\n 1623,\n 1626,\n 1635,\n 1636,\n 1637,\n 1639,\n 1652,\n 1653,\n 1664,\n 1670,\n 1671,\n 1680,\n 1684,\n 1685,\n 1692,\n 1697,\n 1700,\n 1701,\n 1703,\n 1707,\n 1715,\n 1719,\n 1733,\n 1734,\n 1736,\n 1740,\n 1743,\n 1744,\n 1747,\n 1751,\n 1753,\n 1765,\n 1769,\n 1770,\n 1773,\n 1774,\n 1783,\n 1784,\n 1787,\n 1791,\n 1793,\n 1795,\n 1802,\n 1803,\n 1804,\n 1807,\n 1810,\n 1811,\n 1813,\n 1816,\n 1821,\n 1822,\n 1823,\n 1841,\n 1852,\n 1857,\n 1860,\n 1862,\n 1869,\n 1874,\n 1877,\n 1880,\n 1883,\n 1888,\n 1897,\n 1913,\n 1915,\n 1923,\n 1931,\n 1933,\n 1934,\n 1937,\n 1940,\n 1949,\n 1950,\n 1954,\n 1957,\n 1963,\n 1967,\n 1969,\n 1973,\n 1983,\n 1985,\n 1987,\n 1991,\n 2001,\n 2003,\n 2011,\n 2012,\n 2014,\n 2027,\n 2033,\n 2034,\n 2038,\n 2043,\n 2044,\n 2052,\n 2054,\n 2055,\n 2057,\n 2063,\n 2069,\n 2070,\n 2071,\n 2073,\n 2076,\n 2082,\n 2083,\n 2085,\n 2087,\n 2091,\n 2092,\n 2096,\n 2099,\n 2101,\n 2104,\n 2116,\n 2119,\n 2121,\n 2125,\n 2127,\n 2132,\n 2133,\n 2135,\n 2137,\n 2139,\n 2150,\n 2151,\n 2153,\n 2155,\n 2156,\n 2160,\n 2163,\n 2165,\n 2173,\n 2174,\n 2180,\n 2187,\n 2189,\n 2192,\n 2193,\n 2195,\n 2196,\n 2200,\n 2204,\n 2206,\n 2207,\n 2209,\n 2216,\n 2222,\n 2236,\n 2237,\n 2246,\n 2247,\n 2253,\n 2255,\n 2264,\n 2270,\n 2272,\n 2281,\n 2283,\n 2285,\n 2287,\n 2292,\n 2298,\n 2301,\n 2303,\n 2305,\n 2309,\n 2311,\n 2312,\n 2322,\n 2324,\n 2325,\n 2327,\n 2332,\n 2333,\n 2341,\n 2347,\n 2358,\n 2359,\n 2360,\n 2367,\n 2371,\n 2374,\n 2375,\n 2384,\n 2389,\n 2394,\n 2399,\n 2403,\n 2412,\n 2422,\n 2427,\n 2433,\n 2441,\n 2450,\n 2456,\n 2462,\n 2472,\n 2479,\n 2482,\n 2483,\n 2489,\n 2491,\n 2498,\n 2501,\n 2504,\n 2508,\n 2516,\n 2518,\n 2519,\n 2523,\n 2526,\n 2527,\n 2534,\n 2537,\n 2538,\n 2540,\n 2542,\n 2543,\n 2546,\n 2549,\n 2554,\n 2558,\n 2564,\n 2567,\n 2571,\n 2574,\n 2577,\n 2583,\n 2584,\n 2586,\n 2594,\n 2599,\n 2600,\n 2605,\n 2608,\n 2610,\n 2617,\n 2622,\n 2623,\n 2626,\n 2639,\n 2640,\n 2644,\n 2654,\n 2655,\n 2658,\n 2659,\n 2670,\n 2672,\n 2674,\n 2676,\n 2683,\n 2686,\n 2691,\n 2698,\n 2703,\n 2704,\n 2707,\n 2714,\n 2715,\n 2716,\n 2717,\n 2723,\n 2728,\n 2729,\n 2731,\n 2733,\n 2736,\n 2741,\n 2749,\n 2750,\n 2754,\n 2756,\n 2758,\n 2761,\n 2766,\n 2770,\n 2772,\n 2774,\n 2781,\n 2783,\n 2786,\n 2791,\n 2793,\n 2794,\n 2801,\n 2804,\n 2822,\n 2824,\n 2825,\n 2826,\n 2829,\n 2830,\n 2832,\n 2833,\n 2834,\n 2837,\n 2839,\n 2848,\n 2851,\n 2852,\n 2853,\n 2856,\n 2858,\n 2860,\n 2868,\n 2872,\n 2873,\n 2876,\n 2881,\n 2883,\n 2885,\n 2890,\n 2892,\n 2896,\n 2901,\n 2902,\n 2905,\n 2914,\n 2915,\n 2921,\n 2930,\n 2933,\n 2937,\n 2938,\n 2944,\n 2951,\n 2955,\n 2963,\n 2966,\n 2967,\n 2970,\n 2974,\n 2983,\n 2988,\n 2992,\n 3003,\n 3005,\n 3007,\n 3008,\n 3014,\n 3015,\n 3029,\n 3030,\n 3040,\n 3041,\n 3043,\n 3044,\n 3048,\n 3049,\n 3051,\n 3053,\n 3059,\n 3061,\n 3067,\n 3068,\n 3070,\n 3071,\n 3075,\n 3081,\n 3097,\n 3099,\n 3102,\n 3103,\n 3104,\n 3108,\n 3120,\n 3123,\n 3124,\n 3125,\n 3126,\n 3143,\n 3157,\n 3161,\n 3166,\n 3173,\n 3175,\n 3176,\n 3185,\n 3187,\n 3190,\n 3195,\n 3197,\n 3198,\n 3204,\n 3205,\n 3207,\n 3209,\n 3214,\n 3218,\n 3225,\n 3228,\n 3238,\n 3240,\n 3242,\n 3244,\n 3250,\n 3251,\n 3252,\n 3254,\n 3257,\n 3259,\n 3263,\n 3271,\n 3272,\n 3277,\n 3278,\n 3279,\n 3282,\n 3283,\n 3285,\n 3286,\n 3288,\n 3293,\n 3297,\n 3301,\n 3303,\n 3304,\n 3309,\n 3314,\n 3315,\n 3318,\n 3330,\n 3331,\n 3332,\n 3334,\n 3336,\n 3338,\n 3344,\n 3347,\n 3351,\n 3353,\n 3354,\n 3355,\n 3359,\n 3361,\n 3362,\n 3364,\n 3366,\n 3369,\n 3387,\n 3388,\n 3394,\n 3396,\n 3400,\n 3404,\n 3407,\n 3409,\n 3410,\n 3411,\n 3414,\n 3416,\n 3426,\n 3429,\n 3430,\n 3436,\n 3437,\n 3441,\n 3442,\n 3444,\n 3449,\n 3450,\n 3451,\n 3452,\n 3455,\n 3456,\n 3458,\n 3461,\n 3462,\n 3467,\n 3469,\n 3470,\n 3472,\n 3477,\n 3482,\n 3485,\n 3486,\n 3488,\n 3491,\n 3492,\n 3494,\n 3503,\n 3510,\n 3512,\n 3533,\n 3536,\n 3538,\n 3542,\n 3549,\n 3551,\n 3552,\n 3554,\n 3555,\n 3557,\n 3559,\n 3572,\n 3576,\n 3577,\n 3580,\n 3581,\n 3590,\n 3593,\n 3596,\n 3608,\n 3609,\n 3613,\n 3618,\n 3625,\n 3630,\n 3635,\n 3640,\n 3643,\n 3654,\n 3655,\n 3656,\n 3659,\n 3661,\n 3665,\n 3676,\n 3682,\n 3689,\n 3703,\n 3704,\n 3705,\n 3706,\n 3715,\n 3716,\n 3717,\n 3727,\n 3736,\n 3738,\n 3740,\n 3742,\n 3744,\n 3748,\n 3750,\n 3753,\n 3759,\n 3760,\n 3765,\n 3767,\n 3772,\n 3774,\n 3779,\n 3780,\n 3793,\n 3795,\n 3797,\n 3798,\n 3808,\n 3820,\n 3825,\n 3827,\n 3830,\n 3834,\n 3842,\n 3843,\n 3845,\n 3846,\n 3847,\n 3851,\n 3855,\n 3856,\n 3861,\n 3866,\n 3868,\n 3871,\n 3880,\n 3881,\n 3882,\n 3884,\n 3887,\n 3897,\n 3904,\n 3906,\n 3908,\n 3912,\n 3917,\n 3918,\n 3921,\n 3928,\n 3931,\n 3947,\n 3954,\n 3957,\n 3958,\n 3959,\n 3962,\n 3964,\n 3972,\n 3975,\n 3978,\n 3983,\n 3986,\n 3992,\n ...]"
     },
     "execution_count": 23,
     "metadata": {},
     "output_type": "execute_result"
    }
   ],
   "source": [
    "sub_positions = []\n",
    "inter_set = set(intersected_items2)\n",
    "for index, value in enumerate(ids):\n",
    "    if str(value) in inter_set:\n",
    "        sub_positions.append(index)\n",
    "\n",
    "sub_positions"
   ],
   "metadata": {
    "collapsed": false,
    "pycharm": {
     "name": "#%%\n"
    }
   }
  },
  {
   "cell_type": "code",
   "execution_count": 24,
   "outputs": [],
   "source": [
    "sub_matrix = []\n",
    "for i in range(len(intersected_items2)):\n",
    "    line = []\n",
    "    for j in range(len(ids)):\n",
    "        if j == sub_positions[i]:\n",
    "            line.append(1)\n",
    "        else:\n",
    "            line.append(0)\n",
    "    sub_matrix.append(line)"
   ],
   "metadata": {
    "collapsed": false,
    "pycharm": {
     "name": "#%%\n"
    }
   }
  },
  {
   "cell_type": "code",
   "execution_count": 25,
   "outputs": [],
   "source": [
    "import numpy as np\n",
    "esf_slice = np.array(sub_matrix) @ esf_value * 100"
   ],
   "metadata": {
    "collapsed": false,
    "pycharm": {
     "name": "#%%\n"
    }
   }
  },
  {
   "cell_type": "code",
   "execution_count": 26,
   "outputs": [
    {
     "name": "stdout",
     "output_type": "stream",
     "text": [
      "(1259,)\n",
      "[52200 82400 46200 69700 23700]\n"
     ]
    }
   ],
   "source": [
    "# print(np.array(sub_matrix))\n",
    "# print(type(esf_slice))\n",
    "print(esf_slice.shape)\n",
    "print(esf_slice[0:5])"
   ],
   "metadata": {
    "collapsed": false,
    "pycharm": {
     "name": "#%%\n"
    }
   }
  },
  {
   "cell_type": "code",
   "execution_count": 27,
   "outputs": [
    {
     "name": "stdout",
     "output_type": "stream",
     "text": [
      "Connecting to http://172.20.58.96:8081/... done! \t Logging into zetyun... done!\n"
     ]
    }
   ],
   "source": [
    "zetyun = sy.login(url=\"http://172.20.58.96:8081/\", email=\"sample3@zetyun.com\", password=\"zetyun\")"
   ],
   "metadata": {
    "collapsed": false,
    "pycharm": {
     "name": "#%%\n"
    }
   }
  },
  {
   "cell_type": "code",
   "execution_count": 28,
   "outputs": [
    {
     "data": {
      "text/plain": "[array([ 259678854,  439904075,  330726701, ..., -380541824,   -5986982,\n       1035640812])\n\n (The data printed above is synthetic - it's an imitation of the real data.), <IntPointer -> esf:8abb56b477cb49aea5616bba9c6da908>, <ListPointer -> esf:1a6bda5c308b428087eeaa38ccd9d275>, <ListPointer -> esf:2998d9e0c97c484bad517d38523444d4>, <ListPointer -> esf:07390f0bd4074293bc403a90dbd4ce57>, array([ 37, 810, 912, ..., 811, 462, 995])\n\n (The data printed above is synthetic - it's an imitation of the real data.)]",
      "text/html": "<div>\n<style scoped>\n    .dataframe tbody tr th:only-of-type {\n        vertical-align: middle;\n    }\n\n    .dataframe tbody tr th {\n        vertical-align: top;\n    }\n\n    .dataframe thead th {\n        text-align: right;\n    }\n</style>\n<table border=\"1\" class=\"dataframe\">\n  <thead>\n    <tr style=\"text-align: right;\">\n      <th></th>\n      <th>ID</th>\n      <th>Tags</th>\n      <th>Description</th>\n      <th>object_type</th>\n    </tr>\n  </thead>\n  <tbody>\n    <tr>\n      <th>0</th>\n      <td>&lt;UID: 5b8569c6597349d095258dfde836cb7d&gt;</td>\n      <td>[#esf_id]</td>\n      <td></td>\n      <td>&lt;class 'syft.core.tensor.tensor.Tensor'&gt;</td>\n    </tr>\n    <tr>\n      <th>1</th>\n      <td>&lt;UID: 8abb56b477cb49aea5616bba9c6da908&gt;</td>\n      <td>[2ndclient_items_len]</td>\n      <td>2nd: 求交初始化: fpr=1e-6, reveal_intersection=True</td>\n      <td>&lt;class 'syft.lib.python.Int'&gt;</td>\n    </tr>\n    <tr>\n      <th>2</th>\n      <td>&lt;UID: 1a6bda5c308b428087eeaa38ccd9d275&gt;</td>\n      <td>[2ndsetup]</td>\n      <td>2nd: 设置好了</td>\n      <td>&lt;class 'syft.lib.python.list.List'&gt;</td>\n    </tr>\n    <tr>\n      <th>3</th>\n      <td>&lt;UID: 2998d9e0c97c484bad517d38523444d4&gt;</td>\n      <td>[2ndrequest]</td>\n      <td>2nd: 求交request</td>\n      <td>&lt;class 'syft.lib.python.list.List'&gt;</td>\n    </tr>\n    <tr>\n      <th>4</th>\n      <td>&lt;UID: 07390f0bd4074293bc403a90dbd4ce57&gt;</td>\n      <td>[2ndresponse]</td>\n      <td>求交结果计算好了</td>\n      <td>&lt;class 'syft.lib.python.list.List'&gt;</td>\n    </tr>\n    <tr>\n      <th>5</th>\n      <td>&lt;UID: f9d5cdda7f2c4e9c99a5dcb265179116&gt;</td>\n      <td>[#esf_value]</td>\n      <td></td>\n      <td>&lt;class 'syft.core.tensor.tensor.Tensor'&gt;</td>\n    </tr>\n  </tbody>\n</table>\n</div>"
     },
     "execution_count": 28,
     "metadata": {},
     "output_type": "execute_result"
    }
   ],
   "source": [
    "esf.store"
   ],
   "metadata": {
    "collapsed": false,
    "pycharm": {
     "name": "#%%\n"
    }
   }
  },
  {
   "cell_type": "code",
   "execution_count": 30,
   "outputs": [],
   "source": [
    "zetyun_slice_ptr = [x for x in esf.store.store if \"zetyun_slice\" in x.tags][0]"
   ],
   "metadata": {
    "collapsed": false,
    "pycharm": {
     "name": "#%%\n"
    }
   }
  },
  {
   "cell_type": "code",
   "execution_count": 31,
   "outputs": [
    {
     "data": {
      "text/plain": "<TensorPointer -> esf:3a66df06034947d9b8bd6b8cf301849a>"
     },
     "execution_count": 31,
     "metadata": {},
     "output_type": "execute_result"
    }
   ],
   "source": [
    "sy.Tensor(esf_slice).send(esf, pointable=True, tags=[\"esf_slice\"], description=\"esf_slice\")"
   ],
   "metadata": {
    "collapsed": false,
    "pycharm": {
     "name": "#%%\n"
    }
   }
  },
  {
   "cell_type": "code",
   "source": [
    "esf_slice_ptr = [x for x in esf.store.store if \"esf_slice\" in x.tags][0]"
   ],
   "metadata": {
    "collapsed": false,
    "pycharm": {
     "name": "#%%\n"
    }
   },
   "execution_count": 32,
   "outputs": []
  },
  {
   "cell_type": "code",
   "execution_count": 33,
   "outputs": [
    {
     "name": "stderr",
     "output_type": "stream",
     "text": [
      "[2021-12-31T16:59:15.246117+0800][CRITICAL][logger]][3868] 'Class' object has no attribute 'generate_przs'\n",
      "[2021-12-31T16:59:18.568980+0800][CRITICAL][logger]][3868] 'Class' object has no attribute 'generate_przs'\n"
     ]
    }
   ],
   "source": [
    "from syft.core.tensor.smpc.mpc_tensor import MPCTensor\n",
    "\n",
    "mpc_1 = MPCTensor(shape=esf_slice_ptr.public_shape, parties=[esf, zetyun], secret=esf_slice_ptr)\n"
   ],
   "metadata": {
    "collapsed": false,
    "pycharm": {
     "name": "#%%\n"
    }
   }
  },
  {
   "cell_type": "code",
   "execution_count": 34,
   "outputs": [
    {
     "name": "stderr",
     "output_type": "stream",
     "text": [
      "[2021-12-31T16:59:39.494338+0800][CRITICAL][logger]][3868] 'Class' object has no attribute 'generate_przs'\n",
      "[2021-12-31T16:59:39.960663+0800][CRITICAL][logger]][3868] 'Class' object has no attribute 'generate_przs'\n"
     ]
    }
   ],
   "source": [
    "mpc_2 = MPCTensor(shape=zetyun_slice_ptr.public_shape, parties=[esf, zetyun], secret=zetyun_slice_ptr)"
   ],
   "metadata": {
    "collapsed": false,
    "pycharm": {
     "name": "#%%\n"
    }
   }
  },
  {
   "cell_type": "code",
   "execution_count": 35,
   "outputs": [],
   "source": [
    "mpc = mpc_1 + mpc_2"
   ],
   "metadata": {
    "collapsed": false,
    "pycharm": {
     "name": "#%%\n"
    }
   }
  },
  {
   "cell_type": "code",
   "execution_count": 36,
   "outputs": [
    {
     "data": {
      "text/plain": "(1259,)"
     },
     "execution_count": 36,
     "metadata": {},
     "output_type": "execute_result"
    }
   ],
   "source": [
    "mpc.shape"
   ],
   "metadata": {
    "collapsed": false,
    "pycharm": {
     "name": "#%%\n"
    }
   }
  },
  {
   "cell_type": "code",
   "execution_count": 37,
   "outputs": [],
   "source": [
    "result = mpc.block.reconstruct()"
   ],
   "metadata": {
    "collapsed": false,
    "pycharm": {
     "name": "#%%\n"
    }
   }
  },
  {
   "cell_type": "code",
   "execution_count": 38,
   "outputs": [
    {
     "data": {
      "text/plain": "array([ 139589, 8862292,   95339, 9534583,   29150])"
     },
     "execution_count": 38,
     "metadata": {},
     "output_type": "execute_result"
    }
   ],
   "source": [
    "result[0:5]"
   ],
   "metadata": {
    "collapsed": false,
    "pycharm": {
     "name": "#%%\n"
    }
   }
  },
  {
   "cell_type": "code",
   "execution_count": 39,
   "outputs": [
    {
     "data": {
      "text/plain": "17947172.32"
     },
     "execution_count": 39,
     "metadata": {},
     "output_type": "execute_result"
    }
   ],
   "source": [
    "sum = (result * 0.01).sum()\n",
    "sum"
   ],
   "metadata": {
    "collapsed": false,
    "pycharm": {
     "name": "#%%\n"
    }
   }
  },
  {
   "cell_type": "code",
   "source": [
    "mean = sum / len(intersected_items2)\n",
    "mean"
   ],
   "metadata": {
    "collapsed": false,
    "pycharm": {
     "name": "#%%\n"
    }
   },
   "execution_count": 40,
   "outputs": [
    {
     "data": {
      "text/plain": "14255.10112787927"
     },
     "execution_count": 40,
     "metadata": {},
     "output_type": "execute_result"
    }
   ]
  },
  {
   "cell_type": "code",
   "execution_count": null,
   "outputs": [],
   "source": [],
   "metadata": {
    "collapsed": false,
    "pycharm": {
     "name": "#%%\n"
    }
   }
  },
  {
   "cell_type": "code",
   "execution_count": null,
   "outputs": [],
   "source": [],
   "metadata": {
    "collapsed": false,
    "pycharm": {
     "name": "#%%\n"
    }
   }
  },
  {
   "cell_type": "code",
   "execution_count": 47,
   "outputs": [
    {
     "ename": "KeyboardInterrupt",
     "evalue": "",
     "output_type": "error",
     "traceback": [
      "\u001B[1;31m---------------------------------------------------------------------------\u001B[0m",
      "\u001B[1;31mKeyboardInterrupt\u001B[0m                         Traceback (most recent call last)",
      "\u001B[1;32m~\\AppData\\Local\\Temp/ipykernel_3660/4243493978.py\u001B[0m in \u001B[0;36m<module>\u001B[1;34m\u001B[0m\n\u001B[1;32m----> 1\u001B[1;33m \u001B[0mpublished_result\u001B[0m \u001B[1;33m=\u001B[0m \u001B[0mmpc\u001B[0m\u001B[1;33m.\u001B[0m\u001B[0mpublish\u001B[0m\u001B[1;33m(\u001B[0m\u001B[0msigma\u001B[0m\u001B[1;33m=\u001B[0m\u001B[1;36m10\u001B[0m\u001B[1;33m)\u001B[0m\u001B[1;33m\u001B[0m\u001B[1;33m\u001B[0m\u001B[0m\n\u001B[0m",
      "\u001B[1;32m~\\anaconda3\\envs\\syft-0.6\\lib\\site-packages\\syft\\core\\tensor\\smpc\\mpc_tensor.py\u001B[0m in \u001B[0;36mpublish\u001B[1;34m(self, sigma)\u001B[0m\n\u001B[0;32m    201\u001B[0m \u001B[1;33m\u001B[0m\u001B[0m\n\u001B[0;32m    202\u001B[0m         \u001B[1;32mfor\u001B[0m \u001B[0mshare\u001B[0m \u001B[1;32min\u001B[0m \u001B[0mself\u001B[0m\u001B[1;33m.\u001B[0m\u001B[0mchild\u001B[0m\u001B[1;33m:\u001B[0m\u001B[1;33m\u001B[0m\u001B[1;33m\u001B[0m\u001B[0m\n\u001B[1;32m--> 203\u001B[1;33m             \u001B[0mshare\u001B[0m\u001B[1;33m.\u001B[0m\u001B[0mblock\u001B[0m\u001B[1;33m\u001B[0m\u001B[1;33m\u001B[0m\u001B[0m\n\u001B[0m\u001B[0;32m    204\u001B[0m \u001B[1;33m\u001B[0m\u001B[0m\n\u001B[0;32m    205\u001B[0m         \u001B[1;32mfor\u001B[0m \u001B[0mshare\u001B[0m \u001B[1;32min\u001B[0m \u001B[0mself\u001B[0m\u001B[1;33m.\u001B[0m\u001B[0mchild\u001B[0m\u001B[1;33m:\u001B[0m\u001B[1;33m\u001B[0m\u001B[1;33m\u001B[0m\u001B[0m\n",
      "\u001B[1;32m~\\anaconda3\\envs\\syft-0.6\\lib\\site-packages\\syft\\core\\pointer\\pointer.py\u001B[0m in \u001B[0;36mblock\u001B[1;34m(self)\u001B[0m\n\u001B[0;32m    162\u001B[0m     \u001B[1;33m@\u001B[0m\u001B[0mproperty\u001B[0m\u001B[1;33m\u001B[0m\u001B[1;33m\u001B[0m\u001B[0m\n\u001B[0;32m    163\u001B[0m     \u001B[1;32mdef\u001B[0m \u001B[0mblock\u001B[0m\u001B[1;33m(\u001B[0m\u001B[0mself\u001B[0m\u001B[1;33m)\u001B[0m \u001B[1;33m->\u001B[0m \u001B[0mAbstractPointer\u001B[0m\u001B[1;33m:\u001B[0m\u001B[1;33m\u001B[0m\u001B[1;33m\u001B[0m\u001B[0m\n\u001B[1;32m--> 164\u001B[1;33m         \u001B[1;32mwhile\u001B[0m \u001B[1;32mnot\u001B[0m \u001B[0mself\u001B[0m\u001B[1;33m.\u001B[0m\u001B[0mexists\u001B[0m\u001B[1;33m:\u001B[0m\u001B[1;33m\u001B[0m\u001B[1;33m\u001B[0m\u001B[0m\n\u001B[0m\u001B[0;32m    165\u001B[0m             \u001B[0mtime\u001B[0m\u001B[1;33m.\u001B[0m\u001B[0msleep\u001B[0m\u001B[1;33m(\u001B[0m\u001B[1;36m0.1\u001B[0m\u001B[1;33m)\u001B[0m\u001B[1;33m\u001B[0m\u001B[1;33m\u001B[0m\u001B[0m\n\u001B[0;32m    166\u001B[0m         \u001B[1;32mreturn\u001B[0m \u001B[0mself\u001B[0m\u001B[1;33m\u001B[0m\u001B[1;33m\u001B[0m\u001B[0m\n",
      "\u001B[1;32m~\\anaconda3\\envs\\syft-0.6\\lib\\site-packages\\syft\\core\\pointer\\pointer.py\u001B[0m in \u001B[0;36mexists\u001B[1;34m(self)\u001B[0m\n\u001B[0;32m    187\u001B[0m         \u001B[0masks\u001B[0m \u001B[0ma\u001B[0m \u001B[0mremote\u001B[0m \u001B[0mnode\u001B[0m \u001B[0mwhether\u001B[0m \u001B[0mthe\u001B[0m \u001B[0mobject\u001B[0m \u001B[0mthis\u001B[0m \u001B[0mpointer\u001B[0m \u001B[1;32mis\u001B[0m \u001B[0mpointing\u001B[0m \u001B[0mto\u001B[0m \u001B[0mcan\u001B[0m \u001B[0mbe\u001B[0m\u001B[1;33m\u001B[0m\u001B[1;33m\u001B[0m\u001B[0m\n\u001B[0;32m    188\u001B[0m         found in the database.\"\"\"\n\u001B[1;32m--> 189\u001B[1;33m         \u001B[1;32mreturn\u001B[0m \u001B[0mself\u001B[0m\u001B[1;33m.\u001B[0m\u001B[0mclient\u001B[0m\u001B[1;33m.\u001B[0m\u001B[0mobj_exists\u001B[0m\u001B[1;33m(\u001B[0m\u001B[0mobj_id\u001B[0m\u001B[1;33m=\u001B[0m\u001B[0mself\u001B[0m\u001B[1;33m.\u001B[0m\u001B[0mid_at_location\u001B[0m\u001B[1;33m)\u001B[0m\u001B[1;33m\u001B[0m\u001B[1;33m\u001B[0m\u001B[0m\n\u001B[0m\u001B[0;32m    190\u001B[0m \u001B[1;33m\u001B[0m\u001B[0m\n\u001B[0;32m    191\u001B[0m     \u001B[1;32mdef\u001B[0m \u001B[0m__repr__\u001B[0m\u001B[1;33m(\u001B[0m\u001B[0mself\u001B[0m\u001B[1;33m)\u001B[0m \u001B[1;33m->\u001B[0m \u001B[0mstr\u001B[0m\u001B[1;33m:\u001B[0m\u001B[1;33m\u001B[0m\u001B[1;33m\u001B[0m\u001B[0m\n",
      "\u001B[1;32m~\\anaconda3\\envs\\syft-0.6\\lib\\site-packages\\syft\\core\\node\\domain\\client.py\u001B[0m in \u001B[0;36mobj_exists\u001B[1;34m(self, obj_id)\u001B[0m\n\u001B[0;32m    334\u001B[0m     \u001B[1;32mdef\u001B[0m \u001B[0mobj_exists\u001B[0m\u001B[1;33m(\u001B[0m\u001B[0mself\u001B[0m\u001B[1;33m,\u001B[0m \u001B[0mobj_id\u001B[0m\u001B[1;33m:\u001B[0m \u001B[0mUID\u001B[0m\u001B[1;33m)\u001B[0m \u001B[1;33m->\u001B[0m \u001B[0mbool\u001B[0m\u001B[1;33m:\u001B[0m\u001B[1;33m\u001B[0m\u001B[1;33m\u001B[0m\u001B[0m\n\u001B[0;32m    335\u001B[0m         \u001B[0mmsg\u001B[0m \u001B[1;33m=\u001B[0m \u001B[0mDoesObjectExistMessage\u001B[0m\u001B[1;33m(\u001B[0m\u001B[0mobj_id\u001B[0m\u001B[1;33m=\u001B[0m\u001B[0mobj_id\u001B[0m\u001B[1;33m)\u001B[0m\u001B[1;33m\u001B[0m\u001B[1;33m\u001B[0m\u001B[0m\n\u001B[1;32m--> 336\u001B[1;33m         \u001B[1;32mreturn\u001B[0m \u001B[0mself\u001B[0m\u001B[1;33m.\u001B[0m\u001B[0msend_immediate_msg_with_reply\u001B[0m\u001B[1;33m(\u001B[0m\u001B[0mmsg\u001B[0m\u001B[1;33m=\u001B[0m\u001B[0mmsg\u001B[0m\u001B[1;33m)\u001B[0m\u001B[1;33m.\u001B[0m\u001B[0mpayload\u001B[0m  \u001B[1;31m# type: ignore\u001B[0m\u001B[1;33m\u001B[0m\u001B[1;33m\u001B[0m\u001B[0m\n\u001B[0m\u001B[0;32m    337\u001B[0m \u001B[1;33m\u001B[0m\u001B[0m\n\u001B[0;32m    338\u001B[0m     \u001B[1;33m@\u001B[0m\u001B[0mproperty\u001B[0m\u001B[1;33m\u001B[0m\u001B[1;33m\u001B[0m\u001B[0m\n",
      "\u001B[1;32m~\\anaconda3\\envs\\syft-0.6\\lib\\site-packages\\syft\\core\\node\\common\\client.py\u001B[0m in \u001B[0;36msend_immediate_msg_with_reply\u001B[1;34m(self, msg, route_index, timeout)\u001B[0m\n\u001B[0;32m    233\u001B[0m             \u001B[0mmsg\u001B[0m \u001B[1;33m=\u001B[0m \u001B[0mmsg\u001B[0m\u001B[1;33m.\u001B[0m\u001B[0msign\u001B[0m\u001B[1;33m(\u001B[0m\u001B[0msigning_key\u001B[0m\u001B[1;33m=\u001B[0m\u001B[0mself\u001B[0m\u001B[1;33m.\u001B[0m\u001B[0msigning_key\u001B[0m\u001B[1;33m)\u001B[0m\u001B[1;33m\u001B[0m\u001B[1;33m\u001B[0m\u001B[0m\n\u001B[0;32m    234\u001B[0m \u001B[1;33m\u001B[0m\u001B[0m\n\u001B[1;32m--> 235\u001B[1;33m         response = self.routes[route_index].send_immediate_msg_with_reply(\n\u001B[0m\u001B[0;32m    236\u001B[0m             \u001B[0mmsg\u001B[0m\u001B[1;33m=\u001B[0m\u001B[0mmsg\u001B[0m\u001B[1;33m,\u001B[0m \u001B[0mtimeout\u001B[0m\u001B[1;33m=\u001B[0m\u001B[0mtimeout\u001B[0m\u001B[1;33m\u001B[0m\u001B[1;33m\u001B[0m\u001B[0m\n\u001B[0;32m    237\u001B[0m         )\n",
      "\u001B[1;32m~\\anaconda3\\envs\\syft-0.6\\lib\\site-packages\\syft\\core\\io\\route.py\u001B[0m in \u001B[0;36msend_immediate_msg_with_reply\u001B[1;34m(self, msg, timeout)\u001B[0m\n\u001B[0;32m    187\u001B[0m         \u001B[0mself\u001B[0m\u001B[1;33m,\u001B[0m \u001B[0mmsg\u001B[0m\u001B[1;33m:\u001B[0m \u001B[0mSignedImmediateSyftMessageWithReply\u001B[0m\u001B[1;33m,\u001B[0m \u001B[0mtimeout\u001B[0m\u001B[1;33m:\u001B[0m \u001B[0mOptional\u001B[0m\u001B[1;33m[\u001B[0m\u001B[0mfloat\u001B[0m\u001B[1;33m]\u001B[0m \u001B[1;33m=\u001B[0m \u001B[1;32mNone\u001B[0m\u001B[1;33m\u001B[0m\u001B[1;33m\u001B[0m\u001B[0m\n\u001B[0;32m    188\u001B[0m     ) -> SignedImmediateSyftMessageWithoutReply:\n\u001B[1;32m--> 189\u001B[1;33m         \u001B[1;32mreturn\u001B[0m \u001B[0mself\u001B[0m\u001B[1;33m.\u001B[0m\u001B[0mconnection\u001B[0m\u001B[1;33m.\u001B[0m\u001B[0msend_immediate_msg_with_reply\u001B[0m\u001B[1;33m(\u001B[0m\u001B[0mmsg\u001B[0m\u001B[1;33m=\u001B[0m\u001B[0mmsg\u001B[0m\u001B[1;33m,\u001B[0m \u001B[0mtimeout\u001B[0m\u001B[1;33m=\u001B[0m\u001B[0mtimeout\u001B[0m\u001B[1;33m)\u001B[0m\u001B[1;33m\u001B[0m\u001B[1;33m\u001B[0m\u001B[0m\n\u001B[0m\u001B[0;32m    190\u001B[0m \u001B[1;33m\u001B[0m\u001B[0m\n\u001B[0;32m    191\u001B[0m     \u001B[1;32mdef\u001B[0m \u001B[0m_object2proto\u001B[0m\u001B[1;33m(\u001B[0m\u001B[0mself\u001B[0m\u001B[1;33m)\u001B[0m \u001B[1;33m->\u001B[0m \u001B[0mSoloRoute_PB\u001B[0m\u001B[1;33m:\u001B[0m\u001B[1;33m\u001B[0m\u001B[1;33m\u001B[0m\u001B[0m\n",
      "\u001B[1;32m~\\anaconda3\\envs\\syft-0.6\\lib\\site-packages\\syft\\grid\\connections\\http_connection.py\u001B[0m in \u001B[0;36msend_immediate_msg_with_reply\u001B[1;34m(self, msg, timeout)\u001B[0m\n\u001B[0;32m     42\u001B[0m         \u001B[1;31m# Serializes SignedImmediateSyftMessageWithReply\u001B[0m\u001B[1;33m\u001B[0m\u001B[1;33m\u001B[0m\u001B[0m\n\u001B[0;32m     43\u001B[0m         \u001B[1;31m# and send it using HTTP protocol\u001B[0m\u001B[1;33m\u001B[0m\u001B[1;33m\u001B[0m\u001B[0m\n\u001B[1;32m---> 44\u001B[1;33m         \u001B[0mresponse\u001B[0m \u001B[1;33m=\u001B[0m \u001B[0mself\u001B[0m\u001B[1;33m.\u001B[0m\u001B[0m_send_msg\u001B[0m\u001B[1;33m(\u001B[0m\u001B[0mmsg\u001B[0m\u001B[1;33m=\u001B[0m\u001B[0mmsg\u001B[0m\u001B[1;33m,\u001B[0m \u001B[0mtimeout\u001B[0m\u001B[1;33m=\u001B[0m\u001B[0mtimeout\u001B[0m\u001B[1;33m)\u001B[0m\u001B[1;33m\u001B[0m\u001B[1;33m\u001B[0m\u001B[0m\n\u001B[0m\u001B[0;32m     45\u001B[0m \u001B[1;33m\u001B[0m\u001B[0m\n\u001B[0;32m     46\u001B[0m         \u001B[1;31m# Deserialize node's response\u001B[0m\u001B[1;33m\u001B[0m\u001B[1;33m\u001B[0m\u001B[0m\n",
      "\u001B[1;32m~\\anaconda3\\envs\\syft-0.6\\lib\\site-packages\\syft\\grid\\client\\grid_connection.py\u001B[0m in \u001B[0;36m_send_msg\u001B[1;34m(self, msg, timeout)\u001B[0m\n\u001B[0;32m    115\u001B[0m         \u001B[1;31m# if sys.getsizeof(msg_bytes) < GridHTTPConnection.SIZE_THRESHOLD:\u001B[0m\u001B[1;33m\u001B[0m\u001B[1;33m\u001B[0m\u001B[0m\n\u001B[0;32m    116\u001B[0m         \u001B[1;31m# if True:\u001B[0m\u001B[1;33m\u001B[0m\u001B[1;33m\u001B[0m\u001B[0m\n\u001B[1;32m--> 117\u001B[1;33m         r = requests.post(\n\u001B[0m\u001B[0;32m    118\u001B[0m             \u001B[0murl\u001B[0m\u001B[1;33m=\u001B[0m\u001B[0mstr\u001B[0m\u001B[1;33m(\u001B[0m\u001B[0mself\u001B[0m\u001B[1;33m.\u001B[0m\u001B[0mbase_url\u001B[0m\u001B[1;33m)\u001B[0m \u001B[1;33m+\u001B[0m \u001B[0mroute\u001B[0m\u001B[1;33m,\u001B[0m\u001B[1;33m\u001B[0m\u001B[1;33m\u001B[0m\u001B[0m\n\u001B[0;32m    119\u001B[0m             \u001B[0mdata\u001B[0m\u001B[1;33m=\u001B[0m\u001B[0mmsg_bytes\u001B[0m\u001B[1;33m,\u001B[0m\u001B[1;33m\u001B[0m\u001B[1;33m\u001B[0m\u001B[0m\n",
      "\u001B[1;32m~\\anaconda3\\envs\\syft-0.6\\lib\\site-packages\\requests\\api.py\u001B[0m in \u001B[0;36mpost\u001B[1;34m(url, data, json, **kwargs)\u001B[0m\n\u001B[0;32m    115\u001B[0m     \"\"\"\n\u001B[0;32m    116\u001B[0m \u001B[1;33m\u001B[0m\u001B[0m\n\u001B[1;32m--> 117\u001B[1;33m     \u001B[1;32mreturn\u001B[0m \u001B[0mrequest\u001B[0m\u001B[1;33m(\u001B[0m\u001B[1;34m'post'\u001B[0m\u001B[1;33m,\u001B[0m \u001B[0murl\u001B[0m\u001B[1;33m,\u001B[0m \u001B[0mdata\u001B[0m\u001B[1;33m=\u001B[0m\u001B[0mdata\u001B[0m\u001B[1;33m,\u001B[0m \u001B[0mjson\u001B[0m\u001B[1;33m=\u001B[0m\u001B[0mjson\u001B[0m\u001B[1;33m,\u001B[0m \u001B[1;33m**\u001B[0m\u001B[0mkwargs\u001B[0m\u001B[1;33m)\u001B[0m\u001B[1;33m\u001B[0m\u001B[1;33m\u001B[0m\u001B[0m\n\u001B[0m\u001B[0;32m    118\u001B[0m \u001B[1;33m\u001B[0m\u001B[0m\n\u001B[0;32m    119\u001B[0m \u001B[1;33m\u001B[0m\u001B[0m\n",
      "\u001B[1;32m~\\anaconda3\\envs\\syft-0.6\\lib\\site-packages\\requests\\api.py\u001B[0m in \u001B[0;36mrequest\u001B[1;34m(method, url, **kwargs)\u001B[0m\n\u001B[0;32m     59\u001B[0m     \u001B[1;31m# cases, and look like a memory leak in others.\u001B[0m\u001B[1;33m\u001B[0m\u001B[1;33m\u001B[0m\u001B[0m\n\u001B[0;32m     60\u001B[0m     \u001B[1;32mwith\u001B[0m \u001B[0msessions\u001B[0m\u001B[1;33m.\u001B[0m\u001B[0mSession\u001B[0m\u001B[1;33m(\u001B[0m\u001B[1;33m)\u001B[0m \u001B[1;32mas\u001B[0m \u001B[0msession\u001B[0m\u001B[1;33m:\u001B[0m\u001B[1;33m\u001B[0m\u001B[1;33m\u001B[0m\u001B[0m\n\u001B[1;32m---> 61\u001B[1;33m         \u001B[1;32mreturn\u001B[0m \u001B[0msession\u001B[0m\u001B[1;33m.\u001B[0m\u001B[0mrequest\u001B[0m\u001B[1;33m(\u001B[0m\u001B[0mmethod\u001B[0m\u001B[1;33m=\u001B[0m\u001B[0mmethod\u001B[0m\u001B[1;33m,\u001B[0m \u001B[0murl\u001B[0m\u001B[1;33m=\u001B[0m\u001B[0murl\u001B[0m\u001B[1;33m,\u001B[0m \u001B[1;33m**\u001B[0m\u001B[0mkwargs\u001B[0m\u001B[1;33m)\u001B[0m\u001B[1;33m\u001B[0m\u001B[1;33m\u001B[0m\u001B[0m\n\u001B[0m\u001B[0;32m     62\u001B[0m \u001B[1;33m\u001B[0m\u001B[0m\n\u001B[0;32m     63\u001B[0m \u001B[1;33m\u001B[0m\u001B[0m\n",
      "\u001B[1;32m~\\anaconda3\\envs\\syft-0.6\\lib\\site-packages\\requests\\sessions.py\u001B[0m in \u001B[0;36mrequest\u001B[1;34m(self, method, url, params, data, headers, cookies, files, auth, timeout, allow_redirects, proxies, hooks, stream, verify, cert, json)\u001B[0m\n\u001B[0;32m    540\u001B[0m         }\n\u001B[0;32m    541\u001B[0m         \u001B[0msend_kwargs\u001B[0m\u001B[1;33m.\u001B[0m\u001B[0mupdate\u001B[0m\u001B[1;33m(\u001B[0m\u001B[0msettings\u001B[0m\u001B[1;33m)\u001B[0m\u001B[1;33m\u001B[0m\u001B[1;33m\u001B[0m\u001B[0m\n\u001B[1;32m--> 542\u001B[1;33m         \u001B[0mresp\u001B[0m \u001B[1;33m=\u001B[0m \u001B[0mself\u001B[0m\u001B[1;33m.\u001B[0m\u001B[0msend\u001B[0m\u001B[1;33m(\u001B[0m\u001B[0mprep\u001B[0m\u001B[1;33m,\u001B[0m \u001B[1;33m**\u001B[0m\u001B[0msend_kwargs\u001B[0m\u001B[1;33m)\u001B[0m\u001B[1;33m\u001B[0m\u001B[1;33m\u001B[0m\u001B[0m\n\u001B[0m\u001B[0;32m    543\u001B[0m \u001B[1;33m\u001B[0m\u001B[0m\n\u001B[0;32m    544\u001B[0m         \u001B[1;32mreturn\u001B[0m \u001B[0mresp\u001B[0m\u001B[1;33m\u001B[0m\u001B[1;33m\u001B[0m\u001B[0m\n",
      "\u001B[1;32m~\\anaconda3\\envs\\syft-0.6\\lib\\site-packages\\requests\\sessions.py\u001B[0m in \u001B[0;36msend\u001B[1;34m(self, request, **kwargs)\u001B[0m\n\u001B[0;32m    653\u001B[0m \u001B[1;33m\u001B[0m\u001B[0m\n\u001B[0;32m    654\u001B[0m         \u001B[1;31m# Send the request\u001B[0m\u001B[1;33m\u001B[0m\u001B[1;33m\u001B[0m\u001B[0m\n\u001B[1;32m--> 655\u001B[1;33m         \u001B[0mr\u001B[0m \u001B[1;33m=\u001B[0m \u001B[0madapter\u001B[0m\u001B[1;33m.\u001B[0m\u001B[0msend\u001B[0m\u001B[1;33m(\u001B[0m\u001B[0mrequest\u001B[0m\u001B[1;33m,\u001B[0m \u001B[1;33m**\u001B[0m\u001B[0mkwargs\u001B[0m\u001B[1;33m)\u001B[0m\u001B[1;33m\u001B[0m\u001B[1;33m\u001B[0m\u001B[0m\n\u001B[0m\u001B[0;32m    656\u001B[0m \u001B[1;33m\u001B[0m\u001B[0m\n\u001B[0;32m    657\u001B[0m         \u001B[1;31m# Total elapsed time of the request (approximately)\u001B[0m\u001B[1;33m\u001B[0m\u001B[1;33m\u001B[0m\u001B[0m\n",
      "\u001B[1;32m~\\anaconda3\\envs\\syft-0.6\\lib\\site-packages\\requests\\adapters.py\u001B[0m in \u001B[0;36msend\u001B[1;34m(self, request, stream, timeout, verify, cert, proxies)\u001B[0m\n\u001B[0;32m    437\u001B[0m         \u001B[1;32mtry\u001B[0m\u001B[1;33m:\u001B[0m\u001B[1;33m\u001B[0m\u001B[1;33m\u001B[0m\u001B[0m\n\u001B[0;32m    438\u001B[0m             \u001B[1;32mif\u001B[0m \u001B[1;32mnot\u001B[0m \u001B[0mchunked\u001B[0m\u001B[1;33m:\u001B[0m\u001B[1;33m\u001B[0m\u001B[1;33m\u001B[0m\u001B[0m\n\u001B[1;32m--> 439\u001B[1;33m                 resp = conn.urlopen(\n\u001B[0m\u001B[0;32m    440\u001B[0m                     \u001B[0mmethod\u001B[0m\u001B[1;33m=\u001B[0m\u001B[0mrequest\u001B[0m\u001B[1;33m.\u001B[0m\u001B[0mmethod\u001B[0m\u001B[1;33m,\u001B[0m\u001B[1;33m\u001B[0m\u001B[1;33m\u001B[0m\u001B[0m\n\u001B[0;32m    441\u001B[0m                     \u001B[0murl\u001B[0m\u001B[1;33m=\u001B[0m\u001B[0murl\u001B[0m\u001B[1;33m,\u001B[0m\u001B[1;33m\u001B[0m\u001B[1;33m\u001B[0m\u001B[0m\n",
      "\u001B[1;32m~\\anaconda3\\envs\\syft-0.6\\lib\\site-packages\\urllib3\\connectionpool.py\u001B[0m in \u001B[0;36murlopen\u001B[1;34m(self, method, url, body, headers, retries, redirect, assert_same_host, timeout, pool_timeout, release_conn, chunked, body_pos, **response_kw)\u001B[0m\n\u001B[0;32m    697\u001B[0m \u001B[1;33m\u001B[0m\u001B[0m\n\u001B[0;32m    698\u001B[0m             \u001B[1;31m# Make the request on the httplib connection object.\u001B[0m\u001B[1;33m\u001B[0m\u001B[1;33m\u001B[0m\u001B[0m\n\u001B[1;32m--> 699\u001B[1;33m             httplib_response = self._make_request(\n\u001B[0m\u001B[0;32m    700\u001B[0m                 \u001B[0mconn\u001B[0m\u001B[1;33m,\u001B[0m\u001B[1;33m\u001B[0m\u001B[1;33m\u001B[0m\u001B[0m\n\u001B[0;32m    701\u001B[0m                 \u001B[0mmethod\u001B[0m\u001B[1;33m,\u001B[0m\u001B[1;33m\u001B[0m\u001B[1;33m\u001B[0m\u001B[0m\n",
      "\u001B[1;32m~\\anaconda3\\envs\\syft-0.6\\lib\\site-packages\\urllib3\\connectionpool.py\u001B[0m in \u001B[0;36m_make_request\u001B[1;34m(self, conn, method, url, timeout, chunked, **httplib_request_kw)\u001B[0m\n\u001B[0;32m    443\u001B[0m                     \u001B[1;31m# Python 3 (including for exceptions like SystemExit).\u001B[0m\u001B[1;33m\u001B[0m\u001B[1;33m\u001B[0m\u001B[0m\n\u001B[0;32m    444\u001B[0m                     \u001B[1;31m# Otherwise it looks like a bug in the code.\u001B[0m\u001B[1;33m\u001B[0m\u001B[1;33m\u001B[0m\u001B[0m\n\u001B[1;32m--> 445\u001B[1;33m                     \u001B[0msix\u001B[0m\u001B[1;33m.\u001B[0m\u001B[0mraise_from\u001B[0m\u001B[1;33m(\u001B[0m\u001B[0me\u001B[0m\u001B[1;33m,\u001B[0m \u001B[1;32mNone\u001B[0m\u001B[1;33m)\u001B[0m\u001B[1;33m\u001B[0m\u001B[1;33m\u001B[0m\u001B[0m\n\u001B[0m\u001B[0;32m    446\u001B[0m         \u001B[1;32mexcept\u001B[0m \u001B[1;33m(\u001B[0m\u001B[0mSocketTimeout\u001B[0m\u001B[1;33m,\u001B[0m \u001B[0mBaseSSLError\u001B[0m\u001B[1;33m,\u001B[0m \u001B[0mSocketError\u001B[0m\u001B[1;33m)\u001B[0m \u001B[1;32mas\u001B[0m \u001B[0me\u001B[0m\u001B[1;33m:\u001B[0m\u001B[1;33m\u001B[0m\u001B[1;33m\u001B[0m\u001B[0m\n\u001B[0;32m    447\u001B[0m             \u001B[0mself\u001B[0m\u001B[1;33m.\u001B[0m\u001B[0m_raise_timeout\u001B[0m\u001B[1;33m(\u001B[0m\u001B[0merr\u001B[0m\u001B[1;33m=\u001B[0m\u001B[0me\u001B[0m\u001B[1;33m,\u001B[0m \u001B[0murl\u001B[0m\u001B[1;33m=\u001B[0m\u001B[0murl\u001B[0m\u001B[1;33m,\u001B[0m \u001B[0mtimeout_value\u001B[0m\u001B[1;33m=\u001B[0m\u001B[0mread_timeout\u001B[0m\u001B[1;33m)\u001B[0m\u001B[1;33m\u001B[0m\u001B[1;33m\u001B[0m\u001B[0m\n",
      "\u001B[1;32m~\\anaconda3\\envs\\syft-0.6\\lib\\site-packages\\urllib3\\packages\\six.py\u001B[0m in \u001B[0;36mraise_from\u001B[1;34m(value, from_value)\u001B[0m\n",
      "\u001B[1;32m~\\anaconda3\\envs\\syft-0.6\\lib\\site-packages\\urllib3\\connectionpool.py\u001B[0m in \u001B[0;36m_make_request\u001B[1;34m(self, conn, method, url, timeout, chunked, **httplib_request_kw)\u001B[0m\n\u001B[0;32m    438\u001B[0m                 \u001B[1;31m# Python 3\u001B[0m\u001B[1;33m\u001B[0m\u001B[1;33m\u001B[0m\u001B[0m\n\u001B[0;32m    439\u001B[0m                 \u001B[1;32mtry\u001B[0m\u001B[1;33m:\u001B[0m\u001B[1;33m\u001B[0m\u001B[1;33m\u001B[0m\u001B[0m\n\u001B[1;32m--> 440\u001B[1;33m                     \u001B[0mhttplib_response\u001B[0m \u001B[1;33m=\u001B[0m \u001B[0mconn\u001B[0m\u001B[1;33m.\u001B[0m\u001B[0mgetresponse\u001B[0m\u001B[1;33m(\u001B[0m\u001B[1;33m)\u001B[0m\u001B[1;33m\u001B[0m\u001B[1;33m\u001B[0m\u001B[0m\n\u001B[0m\u001B[0;32m    441\u001B[0m                 \u001B[1;32mexcept\u001B[0m \u001B[0mBaseException\u001B[0m \u001B[1;32mas\u001B[0m \u001B[0me\u001B[0m\u001B[1;33m:\u001B[0m\u001B[1;33m\u001B[0m\u001B[1;33m\u001B[0m\u001B[0m\n\u001B[0;32m    442\u001B[0m                     \u001B[1;31m# Remove the TypeError from the exception chain in\u001B[0m\u001B[1;33m\u001B[0m\u001B[1;33m\u001B[0m\u001B[0m\n",
      "\u001B[1;32m~\\anaconda3\\envs\\syft-0.6\\lib\\http\\client.py\u001B[0m in \u001B[0;36mgetresponse\u001B[1;34m(self)\u001B[0m\n\u001B[0;32m   1369\u001B[0m         \u001B[1;32mtry\u001B[0m\u001B[1;33m:\u001B[0m\u001B[1;33m\u001B[0m\u001B[1;33m\u001B[0m\u001B[0m\n\u001B[0;32m   1370\u001B[0m             \u001B[1;32mtry\u001B[0m\u001B[1;33m:\u001B[0m\u001B[1;33m\u001B[0m\u001B[1;33m\u001B[0m\u001B[0m\n\u001B[1;32m-> 1371\u001B[1;33m                 \u001B[0mresponse\u001B[0m\u001B[1;33m.\u001B[0m\u001B[0mbegin\u001B[0m\u001B[1;33m(\u001B[0m\u001B[1;33m)\u001B[0m\u001B[1;33m\u001B[0m\u001B[1;33m\u001B[0m\u001B[0m\n\u001B[0m\u001B[0;32m   1372\u001B[0m             \u001B[1;32mexcept\u001B[0m \u001B[0mConnectionError\u001B[0m\u001B[1;33m:\u001B[0m\u001B[1;33m\u001B[0m\u001B[1;33m\u001B[0m\u001B[0m\n\u001B[0;32m   1373\u001B[0m                 \u001B[0mself\u001B[0m\u001B[1;33m.\u001B[0m\u001B[0mclose\u001B[0m\u001B[1;33m(\u001B[0m\u001B[1;33m)\u001B[0m\u001B[1;33m\u001B[0m\u001B[1;33m\u001B[0m\u001B[0m\n",
      "\u001B[1;32m~\\anaconda3\\envs\\syft-0.6\\lib\\http\\client.py\u001B[0m in \u001B[0;36mbegin\u001B[1;34m(self)\u001B[0m\n\u001B[0;32m    317\u001B[0m         \u001B[1;31m# read until we get a non-100 response\u001B[0m\u001B[1;33m\u001B[0m\u001B[1;33m\u001B[0m\u001B[0m\n\u001B[0;32m    318\u001B[0m         \u001B[1;32mwhile\u001B[0m \u001B[1;32mTrue\u001B[0m\u001B[1;33m:\u001B[0m\u001B[1;33m\u001B[0m\u001B[1;33m\u001B[0m\u001B[0m\n\u001B[1;32m--> 319\u001B[1;33m             \u001B[0mversion\u001B[0m\u001B[1;33m,\u001B[0m \u001B[0mstatus\u001B[0m\u001B[1;33m,\u001B[0m \u001B[0mreason\u001B[0m \u001B[1;33m=\u001B[0m \u001B[0mself\u001B[0m\u001B[1;33m.\u001B[0m\u001B[0m_read_status\u001B[0m\u001B[1;33m(\u001B[0m\u001B[1;33m)\u001B[0m\u001B[1;33m\u001B[0m\u001B[1;33m\u001B[0m\u001B[0m\n\u001B[0m\u001B[0;32m    320\u001B[0m             \u001B[1;32mif\u001B[0m \u001B[0mstatus\u001B[0m \u001B[1;33m!=\u001B[0m \u001B[0mCONTINUE\u001B[0m\u001B[1;33m:\u001B[0m\u001B[1;33m\u001B[0m\u001B[1;33m\u001B[0m\u001B[0m\n\u001B[0;32m    321\u001B[0m                 \u001B[1;32mbreak\u001B[0m\u001B[1;33m\u001B[0m\u001B[1;33m\u001B[0m\u001B[0m\n",
      "\u001B[1;32m~\\anaconda3\\envs\\syft-0.6\\lib\\http\\client.py\u001B[0m in \u001B[0;36m_read_status\u001B[1;34m(self)\u001B[0m\n\u001B[0;32m    278\u001B[0m \u001B[1;33m\u001B[0m\u001B[0m\n\u001B[0;32m    279\u001B[0m     \u001B[1;32mdef\u001B[0m \u001B[0m_read_status\u001B[0m\u001B[1;33m(\u001B[0m\u001B[0mself\u001B[0m\u001B[1;33m)\u001B[0m\u001B[1;33m:\u001B[0m\u001B[1;33m\u001B[0m\u001B[1;33m\u001B[0m\u001B[0m\n\u001B[1;32m--> 280\u001B[1;33m         \u001B[0mline\u001B[0m \u001B[1;33m=\u001B[0m \u001B[0mstr\u001B[0m\u001B[1;33m(\u001B[0m\u001B[0mself\u001B[0m\u001B[1;33m.\u001B[0m\u001B[0mfp\u001B[0m\u001B[1;33m.\u001B[0m\u001B[0mreadline\u001B[0m\u001B[1;33m(\u001B[0m\u001B[0m_MAXLINE\u001B[0m \u001B[1;33m+\u001B[0m \u001B[1;36m1\u001B[0m\u001B[1;33m)\u001B[0m\u001B[1;33m,\u001B[0m \u001B[1;34m\"iso-8859-1\"\u001B[0m\u001B[1;33m)\u001B[0m\u001B[1;33m\u001B[0m\u001B[1;33m\u001B[0m\u001B[0m\n\u001B[0m\u001B[0;32m    281\u001B[0m         \u001B[1;32mif\u001B[0m \u001B[0mlen\u001B[0m\u001B[1;33m(\u001B[0m\u001B[0mline\u001B[0m\u001B[1;33m)\u001B[0m \u001B[1;33m>\u001B[0m \u001B[0m_MAXLINE\u001B[0m\u001B[1;33m:\u001B[0m\u001B[1;33m\u001B[0m\u001B[1;33m\u001B[0m\u001B[0m\n\u001B[0;32m    282\u001B[0m             \u001B[1;32mraise\u001B[0m \u001B[0mLineTooLong\u001B[0m\u001B[1;33m(\u001B[0m\u001B[1;34m\"status line\"\u001B[0m\u001B[1;33m)\u001B[0m\u001B[1;33m\u001B[0m\u001B[1;33m\u001B[0m\u001B[0m\n",
      "\u001B[1;32m~\\anaconda3\\envs\\syft-0.6\\lib\\socket.py\u001B[0m in \u001B[0;36mreadinto\u001B[1;34m(self, b)\u001B[0m\n\u001B[0;32m    702\u001B[0m         \u001B[1;32mwhile\u001B[0m \u001B[1;32mTrue\u001B[0m\u001B[1;33m:\u001B[0m\u001B[1;33m\u001B[0m\u001B[1;33m\u001B[0m\u001B[0m\n\u001B[0;32m    703\u001B[0m             \u001B[1;32mtry\u001B[0m\u001B[1;33m:\u001B[0m\u001B[1;33m\u001B[0m\u001B[1;33m\u001B[0m\u001B[0m\n\u001B[1;32m--> 704\u001B[1;33m                 \u001B[1;32mreturn\u001B[0m \u001B[0mself\u001B[0m\u001B[1;33m.\u001B[0m\u001B[0m_sock\u001B[0m\u001B[1;33m.\u001B[0m\u001B[0mrecv_into\u001B[0m\u001B[1;33m(\u001B[0m\u001B[0mb\u001B[0m\u001B[1;33m)\u001B[0m\u001B[1;33m\u001B[0m\u001B[1;33m\u001B[0m\u001B[0m\n\u001B[0m\u001B[0;32m    705\u001B[0m             \u001B[1;32mexcept\u001B[0m \u001B[0mtimeout\u001B[0m\u001B[1;33m:\u001B[0m\u001B[1;33m\u001B[0m\u001B[1;33m\u001B[0m\u001B[0m\n\u001B[0;32m    706\u001B[0m                 \u001B[0mself\u001B[0m\u001B[1;33m.\u001B[0m\u001B[0m_timeout_occurred\u001B[0m \u001B[1;33m=\u001B[0m \u001B[1;32mTrue\u001B[0m\u001B[1;33m\u001B[0m\u001B[1;33m\u001B[0m\u001B[0m\n",
      "\u001B[1;31mKeyboardInterrupt\u001B[0m: "
     ]
    }
   ],
   "source": [
    "published_result = mpc.publish(sigma=10)"
   ],
   "metadata": {
    "collapsed": false,
    "pycharm": {
     "name": "#%%\n"
    }
   }
  },
  {
   "cell_type": "code",
   "execution_count": 61,
   "outputs": [
    {
     "data": {
      "text/plain": "syft.proxy.syft.lib.python.FloatPointer"
     },
     "execution_count": 61,
     "metadata": {},
     "output_type": "execute_result"
    }
   ],
   "source": [
    "# published_result.get()\n",
    "type(published_result)"
   ],
   "metadata": {
    "collapsed": false,
    "pycharm": {
     "name": "#%%\n"
    }
   }
  },
  {
   "cell_type": "code",
   "execution_count": null,
   "outputs": [],
   "source": [],
   "metadata": {
    "collapsed": false,
    "pycharm": {
     "name": "#%%\n"
    }
   }
  }
 ],
 "metadata": {
  "kernelspec": {
   "display_name": "Python 3",
   "language": "python",
   "name": "python3"
  },
  "language_info": {
   "codemirror_mode": {
    "name": "ipython",
    "version": 2
   },
   "file_extension": ".py",
   "mimetype": "text/x-python",
   "name": "python",
   "nbconvert_exporter": "python",
   "pygments_lexer": "ipython2",
   "version": "2.7.6"
  }
 },
 "nbformat": 4,
 "nbformat_minor": 0
}